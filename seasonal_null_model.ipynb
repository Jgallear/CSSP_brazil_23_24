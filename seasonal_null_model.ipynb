{
  "nbformat": 4,
  "nbformat_minor": 0,
  "metadata": {
    "colab": {
      "provenance": [],
      "machine_shape": "hm",
      "mount_file_id": "1wV87VccnwtZ-w4WsRsPZFYOl6L5IGQNT",
      "authorship_tag": "ABX9TyPbV1FgHq5Ery2a/Zbq8IQ0",
      "include_colab_link": true
    },
    "kernelspec": {
      "name": "python3",
      "display_name": "Python 3"
    },
    "language_info": {
      "name": "python"
    }
  },
  "cells": [
    {
      "cell_type": "markdown",
      "metadata": {
        "id": "view-in-github",
        "colab_type": "text"
      },
      "source": [
        "<a href=\"https://colab.research.google.com/github/Jgallear/CSSP_brazil_23_24/blob/main/seasonal_null_model.ipynb\" target=\"_parent\"><img src=\"https://colab.research.google.com/assets/colab-badge.svg\" alt=\"Open In Colab\"/></a>"
      ]
    },
    {
      "cell_type": "code",
      "execution_count": 1,
      "metadata": {
        "id": "Hm4hTIxCLrTr"
      },
      "outputs": [],
      "source": [
        "# script to create a seasonal null model to compare with each of the ML models\n",
        "# seasonal null model just predicts VHI as the mean value of previous months VHI"
      ]
    },
    {
      "cell_type": "code",
      "source": [
        "!pip install cartopy"
      ],
      "metadata": {
        "colab": {
          "base_uri": "https://localhost:8080/"
        },
        "id": "UaFgTaqhN0hy",
        "outputId": "d8e8d887-0971-44f6-ff29-971a53769b09"
      },
      "execution_count": 2,
      "outputs": [
        {
          "output_type": "stream",
          "name": "stdout",
          "text": [
            "Collecting cartopy\n",
            "  Downloading Cartopy-0.22.0-cp310-cp310-manylinux_2_17_x86_64.manylinux2014_x86_64.whl (11.8 MB)\n",
            "\u001b[2K     \u001b[90m━━━━━━━━━━━━━━━━━━━━━━━━━━━━━━━━━━━━━━━━\u001b[0m \u001b[32m11.8/11.8 MB\u001b[0m \u001b[31m49.7 MB/s\u001b[0m eta \u001b[36m0:00:00\u001b[0m\n",
            "\u001b[?25hRequirement already satisfied: numpy>=1.21 in /usr/local/lib/python3.10/dist-packages (from cartopy) (1.25.2)\n",
            "Requirement already satisfied: matplotlib>=3.4 in /usr/local/lib/python3.10/dist-packages (from cartopy) (3.7.1)\n",
            "Requirement already satisfied: shapely>=1.7 in /usr/local/lib/python3.10/dist-packages (from cartopy) (2.0.3)\n",
            "Requirement already satisfied: packaging>=20 in /usr/local/lib/python3.10/dist-packages (from cartopy) (24.0)\n",
            "Requirement already satisfied: pyshp>=2.1 in /usr/local/lib/python3.10/dist-packages (from cartopy) (2.3.1)\n",
            "Requirement already satisfied: pyproj>=3.1.0 in /usr/local/lib/python3.10/dist-packages (from cartopy) (3.6.1)\n",
            "Requirement already satisfied: contourpy>=1.0.1 in /usr/local/lib/python3.10/dist-packages (from matplotlib>=3.4->cartopy) (1.2.0)\n",
            "Requirement already satisfied: cycler>=0.10 in /usr/local/lib/python3.10/dist-packages (from matplotlib>=3.4->cartopy) (0.12.1)\n",
            "Requirement already satisfied: fonttools>=4.22.0 in /usr/local/lib/python3.10/dist-packages (from matplotlib>=3.4->cartopy) (4.50.0)\n",
            "Requirement already satisfied: kiwisolver>=1.0.1 in /usr/local/lib/python3.10/dist-packages (from matplotlib>=3.4->cartopy) (1.4.5)\n",
            "Requirement already satisfied: pillow>=6.2.0 in /usr/local/lib/python3.10/dist-packages (from matplotlib>=3.4->cartopy) (9.4.0)\n",
            "Requirement already satisfied: pyparsing>=2.3.1 in /usr/local/lib/python3.10/dist-packages (from matplotlib>=3.4->cartopy) (3.1.2)\n",
            "Requirement already satisfied: python-dateutil>=2.7 in /usr/local/lib/python3.10/dist-packages (from matplotlib>=3.4->cartopy) (2.8.2)\n",
            "Requirement already satisfied: certifi in /usr/local/lib/python3.10/dist-packages (from pyproj>=3.1.0->cartopy) (2024.2.2)\n",
            "Requirement already satisfied: six>=1.5 in /usr/local/lib/python3.10/dist-packages (from python-dateutil>=2.7->matplotlib>=3.4->cartopy) (1.16.0)\n",
            "Installing collected packages: cartopy\n",
            "Successfully installed cartopy-0.22.0\n"
          ]
        }
      ]
    },
    {
      "cell_type": "code",
      "source": [
        "from sklearn.neighbors import KNeighborsRegressor\n",
        "from sklearn.ensemble import GradientBoostingRegressor\n",
        "from mpl_toolkits.axes_grid1 import make_axes_locatable\n",
        "import numpy as np\n",
        "import matplotlib.pyplot as plt\n",
        "import pandas as pd\n",
        "import geopandas as gpd\n",
        "from shapely.geometry import mapping\n",
        "import cartopy.crs as ccrs\n",
        "from cartopy.feature import ShapelyFeature\n",
        "from cartopy.io.shapereader import Reader\n",
        "from sklearn.inspection import PartialDependenceDisplay\n",
        "from shapely.geometry import Point\n",
        "from sklearn.metrics import mean_absolute_error\n",
        "from scipy.stats import pearsonr\n",
        "from cartopy.feature import ShapelyFeature\n",
        "from cartopy.io.shapereader import Reader\n",
        "#from rasterio import CRS\n",
        "from shapely.geometry import mapping\n",
        "import xarray as xr\n",
        "from statsmodels.graphics.tsaplots import plot_acf\n",
        "from keras import Sequential\n",
        "from keras.layers import LSTM\n",
        "from keras.layers import Dense\n",
        "from sklearn.linear_model import LinearRegression\n",
        "from sklearn.ensemble import GradientBoostingRegressor\n",
        "from sklearn.ensemble import RandomForestRegressor\n",
        "import functools\n",
        "import pickle\n",
        "import cartopy.feature as cf\n",
        "from scipy.stats import pearsonr\n",
        "from sklearn.preprocessing import StandardScaler\n",
        "from sklearn.metrics import mean_absolute_error\n",
        "from scipy.stats import pearsonr\n",
        "from sklearn.metrics import r2_score"
      ],
      "metadata": {
        "id": "idZdRz-0Nw2E"
      },
      "execution_count": 3,
      "outputs": []
    },
    {
      "cell_type": "code",
      "source": [
        "df = pd.read_csv('/content/drive/MyDrive/VHI_spei_rzsm_dataset.csv')"
      ],
      "metadata": {
        "id": "lfXUGfo0N3C5"
      },
      "execution_count": 4,
      "outputs": []
    },
    {
      "cell_type": "code",
      "source": [
        "print(df)"
      ],
      "metadata": {
        "colab": {
          "base_uri": "https://localhost:8080/"
        },
        "id": "gA1mujJ9OGuK",
        "outputId": "d5c719ed-0bd7-4852-b702-c0fbdea844cd"
      },
      "execution_count": 5,
      "outputs": [
        {
          "output_type": "stream",
          "name": "stdout",
          "text": [
            "           lon     lat      vhi-1   precip-1      rzsm-1  spei1-1m  spei2-1m  \\\n",
            "0      -53.375 -32.125  70.414172  259.20056   98.021910  2.192168  1.313241   \n",
            "1      -53.375 -32.125  79.323750  146.58607   98.162980  1.228278  2.453098   \n",
            "2      -53.375 -32.125  77.111895  184.82845   97.594270  1.472914  1.588110   \n",
            "3      -53.375 -32.125  64.150561  108.86273   97.605330  1.680747  1.751371   \n",
            "4      -53.375 -32.125  54.270359  145.90760  100.000000  1.641170  1.900034   \n",
            "...        ...     ...        ...        ...         ...       ...       ...   \n",
            "577682 -47.625  -0.875  41.102345  170.38158   66.929490  0.324701  0.572972   \n",
            "577683 -47.625  -0.875  49.922513  294.35620   80.138200  1.130223  0.881931   \n",
            "577684 -47.625  -0.875  52.101102  125.48111   88.888840  2.664571  2.250521   \n",
            "577685 -47.625  -0.875  46.753572   24.13338   77.834076  2.523025  3.002636   \n",
            "577686 -47.625  -0.875  48.627606   71.58264   69.860950  1.286047  2.275886   \n",
            "\n",
            "        spei3-1m   spi01-1   spi02-1   spi03-1     pev-1   longrad-1  \\\n",
            "0       2.266991  1.718010  1.131672  1.956504 -0.004538  387.621424   \n",
            "1       1.678403  1.015022  1.645683  1.368535 -0.003293  376.919222   \n",
            "2       2.096257  0.956124  1.150522  1.621207 -0.002408  345.837482   \n",
            "3       1.845372  0.412008  0.789140  1.030642 -0.001716  334.681940   \n",
            "4       1.926722  0.966855  0.774759  0.982040 -0.001001  338.842544   \n",
            "...          ...       ...       ...       ...       ...         ...   \n",
            "577682  1.015577  1.146655  0.969593  0.674176 -0.004356  412.320024   \n",
            "577683  0.859094  1.573595  1.592416  1.312561 -0.004909  410.370278   \n",
            "577684  1.929124  2.537942  2.341496  2.211642 -0.005699  410.550830   \n",
            "577685  2.507460  1.575954  2.610072  2.547964 -0.005919  415.099818   \n",
            "577686  2.791671  1.595141  2.002994  2.608675 -0.005324  417.379510   \n",
            "\n",
            "             t2m-1  month  year        VHI  \n",
            "0       296.530026      3  2003  79.323750  \n",
            "1       294.303754      4  2003  77.111895  \n",
            "2       290.164102      5  2003  64.150561  \n",
            "3       288.467444      6  2003  54.270359  \n",
            "4       286.129896      7  2003  59.200781  \n",
            "...            ...    ...   ...        ...  \n",
            "577682  299.706968      7  2021  49.922513  \n",
            "577683  300.173380      8  2021  52.101102  \n",
            "577684  300.253404      9  2021  46.753572  \n",
            "577685  300.919370     10  2021  48.627606  \n",
            "577686  300.832808     11  2021  47.450658  \n",
            "\n",
            "[577687 rows x 17 columns]\n"
          ]
        }
      ]
    },
    {
      "cell_type": "code",
      "source": [
        "# Need to get r2 score and MAE per year\n",
        "def groupby_year(df):\n",
        "  df_list=[]\n",
        "  for index,df in df.groupby(['year']):\n",
        "    df_list.append(df)\n",
        "  return df_list\n",
        "\n",
        "def groupby_coordinates(df):\n",
        "  df_list=[]\n",
        "  for index,df in df.groupby(['lat','lon']):\n",
        "    df_list.append(df)\n",
        "  return df_list"
      ],
      "metadata": {
        "id": "sJns5m1yUxmX"
      },
      "execution_count": 6,
      "outputs": []
    },
    {
      "cell_type": "code",
      "source": [
        "# Get average VHI for each month per location\n",
        "#av_monthly_VHI = df.groupby(['month']).mean()['VHI'].values\n",
        "\n",
        "### Want to group coordinates into list, then groupby month and average\n",
        "VHI_per_coord_list = groupby_coordinates(df)"
      ],
      "metadata": {
        "id": "xKZkaTXZOhh1"
      },
      "execution_count": 7,
      "outputs": []
    },
    {
      "cell_type": "code",
      "source": [
        "def coordinate_monthly_average(df_list):\n",
        "  coord_m_av=[]\n",
        "  lats_lists=[]\n",
        "  lons_lists=[]\n",
        "  df_2_list=[]\n",
        "  for i in range(len(df_list)):\n",
        "    dfi = df_list[i]\n",
        "    ###\n",
        "    av_monthly_VHI_i = dfi.groupby(['month']).mean()['VHI'].values\n",
        "    lons_l = [dfi['lon'].values[0]]*len(av_monthly_VHI_i)\n",
        "    lats_l = [dfi['lat'].values[0]]*len(av_monthly_VHI_i)\n",
        "    lats_lists.append(lats_l)\n",
        "    lons_lists.append(lons_l)\n",
        "    month_no = np.arange(1,12+1)\n",
        "    # could combine here in dataframe\n",
        "    df_2 = pd.DataFrame({'lat':lats_l,'lon':lons_l,'month':month_no,'VHI prediction':av_monthly_VHI_i})\n",
        "    #print(df_2)\n",
        "    df_2_list.append(df_2)\n",
        "    ###\n",
        "    coord_m_av.append(av_monthly_VHI_i)\n",
        "  return pd.concat(df_2_list)\n"
      ],
      "metadata": {
        "id": "Jg5jkbE9mPlM"
      },
      "execution_count": 8,
      "outputs": []
    },
    {
      "cell_type": "code",
      "source": [
        "coord_m_av_VHIs = coordinate_monthly_average(VHI_per_coord_list)"
      ],
      "metadata": {
        "id": "tm7w7idGnkPc"
      },
      "execution_count": 9,
      "outputs": []
    },
    {
      "cell_type": "code",
      "source": [
        "print(coord_m_av_VHIs)"
      ],
      "metadata": {
        "colab": {
          "base_uri": "https://localhost:8080/"
        },
        "id": "y9RQuECxLMOH",
        "outputId": "424d9ee5-a19a-41fd-9757-2d063d079e47"
      },
      "execution_count": 10,
      "outputs": [
        {
          "output_type": "stream",
          "name": "stdout",
          "text": [
            "       lat     lon  month  VHI prediction\n",
            "0  -32.125 -53.375      1       56.846723\n",
            "1  -32.125 -53.375      2       61.658084\n",
            "2  -32.125 -53.375      3       57.289225\n",
            "3  -32.125 -53.375      4       49.464822\n",
            "4  -32.125 -53.375      5       47.680626\n",
            "..     ...     ...    ...             ...\n",
            "7   -0.875 -47.625      8       47.093687\n",
            "8   -0.875 -47.625      9       43.050601\n",
            "9   -0.875 -47.625     10       43.659320\n",
            "10  -0.875 -47.625     11       46.048799\n",
            "11  -0.875 -47.625     12       46.180196\n",
            "\n",
            "[29964 rows x 4 columns]\n"
          ]
        }
      ]
    },
    {
      "cell_type": "code",
      "source": [
        "print(df)"
      ],
      "metadata": {
        "colab": {
          "base_uri": "https://localhost:8080/"
        },
        "id": "xRPqXy1tYdLc",
        "outputId": "03ba4a8e-ed13-4e46-f59e-9f4ba4ec4457"
      },
      "execution_count": 11,
      "outputs": [
        {
          "output_type": "stream",
          "name": "stdout",
          "text": [
            "           lon     lat      vhi-1   precip-1      rzsm-1  spei1-1m  spei2-1m  \\\n",
            "0      -53.375 -32.125  70.414172  259.20056   98.021910  2.192168  1.313241   \n",
            "1      -53.375 -32.125  79.323750  146.58607   98.162980  1.228278  2.453098   \n",
            "2      -53.375 -32.125  77.111895  184.82845   97.594270  1.472914  1.588110   \n",
            "3      -53.375 -32.125  64.150561  108.86273   97.605330  1.680747  1.751371   \n",
            "4      -53.375 -32.125  54.270359  145.90760  100.000000  1.641170  1.900034   \n",
            "...        ...     ...        ...        ...         ...       ...       ...   \n",
            "577682 -47.625  -0.875  41.102345  170.38158   66.929490  0.324701  0.572972   \n",
            "577683 -47.625  -0.875  49.922513  294.35620   80.138200  1.130223  0.881931   \n",
            "577684 -47.625  -0.875  52.101102  125.48111   88.888840  2.664571  2.250521   \n",
            "577685 -47.625  -0.875  46.753572   24.13338   77.834076  2.523025  3.002636   \n",
            "577686 -47.625  -0.875  48.627606   71.58264   69.860950  1.286047  2.275886   \n",
            "\n",
            "        spei3-1m   spi01-1   spi02-1   spi03-1     pev-1   longrad-1  \\\n",
            "0       2.266991  1.718010  1.131672  1.956504 -0.004538  387.621424   \n",
            "1       1.678403  1.015022  1.645683  1.368535 -0.003293  376.919222   \n",
            "2       2.096257  0.956124  1.150522  1.621207 -0.002408  345.837482   \n",
            "3       1.845372  0.412008  0.789140  1.030642 -0.001716  334.681940   \n",
            "4       1.926722  0.966855  0.774759  0.982040 -0.001001  338.842544   \n",
            "...          ...       ...       ...       ...       ...         ...   \n",
            "577682  1.015577  1.146655  0.969593  0.674176 -0.004356  412.320024   \n",
            "577683  0.859094  1.573595  1.592416  1.312561 -0.004909  410.370278   \n",
            "577684  1.929124  2.537942  2.341496  2.211642 -0.005699  410.550830   \n",
            "577685  2.507460  1.575954  2.610072  2.547964 -0.005919  415.099818   \n",
            "577686  2.791671  1.595141  2.002994  2.608675 -0.005324  417.379510   \n",
            "\n",
            "             t2m-1  month  year        VHI  \n",
            "0       296.530026      3  2003  79.323750  \n",
            "1       294.303754      4  2003  77.111895  \n",
            "2       290.164102      5  2003  64.150561  \n",
            "3       288.467444      6  2003  54.270359  \n",
            "4       286.129896      7  2003  59.200781  \n",
            "...            ...    ...   ...        ...  \n",
            "577682  299.706968      7  2021  49.922513  \n",
            "577683  300.173380      8  2021  52.101102  \n",
            "577684  300.253404      9  2021  46.753572  \n",
            "577685  300.919370     10  2021  48.627606  \n",
            "577686  300.832808     11  2021  47.450658  \n",
            "\n",
            "[577687 rows x 17 columns]\n"
          ]
        }
      ]
    },
    {
      "cell_type": "code",
      "source": [
        "VHI_dat = pd.DataFrame({'lon':df['lon'],'lat':df['lat'],'VHI':df['VHI'],'month':df['month'],'year':df['year']})"
      ],
      "metadata": {
        "id": "38DD3GiiPvk4"
      },
      "execution_count": 12,
      "outputs": []
    },
    {
      "cell_type": "code",
      "source": [
        "# Get fixed years\n",
        "fixed_years = [2016, 2011, 2019, 2015, 2006]"
      ],
      "metadata": {
        "id": "XKAOkM4gO3-E"
      },
      "execution_count": 13,
      "outputs": []
    },
    {
      "cell_type": "code",
      "source": [
        "VHI_dat_test_years = VHI_dat[VHI_dat['year'].isin(fixed_years)]"
      ],
      "metadata": {
        "id": "6ybHdjAzPj6J"
      },
      "execution_count": 14,
      "outputs": []
    },
    {
      "cell_type": "code",
      "source": [
        "# test years groupby year then for each year do pandas merge on month and coordinate with coord_m_av_VHIs\n",
        "def merge_avm_vhi(vhi_df,avm_vhi_df):\n",
        "  vhi_df_yr = groupby_year(vhi_df)\n",
        "  # for each year merge with average monthly vhi\n",
        "  merged_dfs_list=[]\n",
        "  for i in range(len(vhi_df_yr)):\n",
        "    vdfi = vhi_df_yr[i]\n",
        "    vdfi_merged = vdfi.merge(avm_vhi_df,on=['lat','lon','month'])\n",
        "    merged_dfs_list.append(vdfi_merged)\n",
        "  return pd.concat(merged_dfs_list)\n"
      ],
      "metadata": {
        "id": "iLZgWFG6O3OK"
      },
      "execution_count": 15,
      "outputs": []
    },
    {
      "cell_type": "code",
      "source": [
        "VHI_pred_df = merge_avm_vhi(VHI_dat_test_years,coord_m_av_VHIs)"
      ],
      "metadata": {
        "colab": {
          "base_uri": "https://localhost:8080/"
        },
        "id": "nPxz0fC_ZTiu",
        "outputId": "85be6855-7cd7-4ee6-e7dd-6900dfba432d"
      },
      "execution_count": 16,
      "outputs": [
        {
          "output_type": "stream",
          "name": "stderr",
          "text": [
            "<ipython-input-6-9b2e1a08fd0b>:4: FutureWarning: In a future version of pandas, a length 1 tuple will be returned when iterating over a groupby with a grouper equal to a list of length 1. Don't supply a list with a single grouper to avoid this warning.\n",
            "  for index,df in df.groupby(['year']):\n"
          ]
        }
      ]
    },
    {
      "cell_type": "code",
      "source": [
        "print(VHI_pred_df)"
      ],
      "metadata": {
        "colab": {
          "base_uri": "https://localhost:8080/"
        },
        "id": "ww8vQWbmaBdF",
        "outputId": "33297d9f-49b7-4d54-e251-e086f93fc1e0"
      },
      "execution_count": 17,
      "outputs": [
        {
          "output_type": "stream",
          "name": "stdout",
          "text": [
            "          lon     lat        VHI  month  year  VHI prediction\n",
            "0     -53.375 -32.125  53.849729      1  2006       56.846723\n",
            "1     -53.375 -32.125  62.237937      2  2006       61.658084\n",
            "2     -53.375 -32.125  60.625543      3  2006       57.289225\n",
            "3     -53.375 -32.125  64.313523      4  2006       49.464822\n",
            "4     -53.375 -32.125  62.954366      5  2006       47.680626\n",
            "...       ...     ...        ...    ...   ...             ...\n",
            "30531 -47.625  -0.875  40.887218      7  2019       45.074835\n",
            "30532 -47.625  -0.875  50.892596      8  2019       47.093687\n",
            "30533 -47.625  -0.875  43.292766      9  2019       43.050601\n",
            "30534 -47.625  -0.875  46.295286     10  2019       43.659320\n",
            "30535 -47.625  -0.875  52.592186     11  2019       46.048799\n",
            "\n",
            "[152680 rows x 6 columns]\n"
          ]
        }
      ]
    },
    {
      "cell_type": "code",
      "source": [
        "def yearly_metrics(df):\n",
        "  df_list = groupby_year(df)\n",
        "  MAE_values=[]\n",
        "  r2_values=[]\n",
        "  year=[]\n",
        "  for i in range(len(df_list)):\n",
        "    MAE_values.append(mean_absolute_error(df_list[i]['VHI'],df_list[i]['VHI prediction']))\n",
        "    r2_values.append(r2_score(df_list[i]['VHI'],df_list[i]['VHI prediction']))\n",
        "    year.append(df_list[i]['year'].values[0])\n",
        "  return pd.DataFrame({'MAE':MAE_values,'R2':r2_values})"
      ],
      "metadata": {
        "id": "fWoVj_shWssp"
      },
      "execution_count": 18,
      "outputs": []
    },
    {
      "cell_type": "code",
      "source": [
        "av_seasonal_model_df = yearly_metrics(VHI_pred_df)"
      ],
      "metadata": {
        "colab": {
          "base_uri": "https://localhost:8080/"
        },
        "id": "ggG8614HYD4f",
        "outputId": "d440dc8a-ac35-4cad-b885-bb47daff204c"
      },
      "execution_count": 19,
      "outputs": [
        {
          "output_type": "stream",
          "name": "stderr",
          "text": [
            "<ipython-input-6-9b2e1a08fd0b>:4: FutureWarning: In a future version of pandas, a length 1 tuple will be returned when iterating over a groupby with a grouper equal to a list of length 1. Don't supply a list with a single grouper to avoid this warning.\n",
            "  for index,df in df.groupby(['year']):\n"
          ]
        }
      ]
    },
    {
      "cell_type": "code",
      "source": [
        "print(av_seasonal_model_df)"
      ],
      "metadata": {
        "colab": {
          "base_uri": "https://localhost:8080/"
        },
        "id": "IZHXqQx5Ydjg",
        "outputId": "3f2af74d-b000-4043-8f26-e2c9784c66b9"
      },
      "execution_count": 20,
      "outputs": [
        {
          "output_type": "stream",
          "name": "stdout",
          "text": [
            "         MAE        R2\n",
            "0   9.747020 -0.147920\n",
            "1   6.997027  0.262999\n",
            "2   8.304895  0.423711\n",
            "3  10.337524  0.300688\n",
            "4   6.589992  0.469473\n"
          ]
        }
      ]
    },
    {
      "cell_type": "code",
      "source": [
        "# save df\n",
        "av_seasonal_model_df.to_csv('/content/drive/MyDrive/model_outs/seasonal_average_model_5y.csv',index=False)"
      ],
      "metadata": {
        "id": "y8ffB4xtaYD_"
      },
      "execution_count": 21,
      "outputs": []
    }
  ]
}