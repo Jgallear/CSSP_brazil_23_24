{
  "cells": [
    {
      "cell_type": "markdown",
      "metadata": {
        "id": "view-in-github",
        "colab_type": "text"
      },
      "source": [
        "<a href=\"https://colab.research.google.com/github/Jgallear/CSSP_brazil_23_24/blob/main/test_SPEI_timescales.ipynb\" target=\"_parent\"><img src=\"https://colab.research.google.com/assets/colab-badge.svg\" alt=\"Open In Colab\"/></a>"
      ]
    },
    {
      "cell_type": "code",
      "execution_count": null,
      "metadata": {
        "colab": {
          "base_uri": "https://localhost:8080/"
        },
        "id": "QYB0Q-QbC0RA",
        "outputId": "5bbae9c1-27f3-49cd-9b22-12810edf659e"
      },
      "outputs": [
        {
          "output_type": "stream",
          "name": "stdout",
          "text": [
            "Collecting cartopy\n",
            "  Downloading Cartopy-0.24.1-cp310-cp310-manylinux_2_17_x86_64.manylinux2014_x86_64.whl.metadata (7.9 kB)\n",
            "Requirement already satisfied: numpy>=1.23 in /usr/local/lib/python3.10/dist-packages (from cartopy) (1.26.4)\n",
            "Requirement already satisfied: matplotlib>=3.6 in /usr/local/lib/python3.10/dist-packages (from cartopy) (3.8.0)\n",
            "Requirement already satisfied: shapely>=1.8 in /usr/local/lib/python3.10/dist-packages (from cartopy) (2.0.6)\n",
            "Requirement already satisfied: packaging>=21 in /usr/local/lib/python3.10/dist-packages (from cartopy) (24.2)\n",
            "Requirement already satisfied: pyshp>=2.3 in /usr/local/lib/python3.10/dist-packages (from cartopy) (2.3.1)\n",
            "Requirement already satisfied: pyproj>=3.3.1 in /usr/local/lib/python3.10/dist-packages (from cartopy) (3.7.0)\n",
            "Requirement already satisfied: contourpy>=1.0.1 in /usr/local/lib/python3.10/dist-packages (from matplotlib>=3.6->cartopy) (1.3.1)\n",
            "Requirement already satisfied: cycler>=0.10 in /usr/local/lib/python3.10/dist-packages (from matplotlib>=3.6->cartopy) (0.12.1)\n",
            "Requirement already satisfied: fonttools>=4.22.0 in /usr/local/lib/python3.10/dist-packages (from matplotlib>=3.6->cartopy) (4.55.0)\n",
            "Requirement already satisfied: kiwisolver>=1.0.1 in /usr/local/lib/python3.10/dist-packages (from matplotlib>=3.6->cartopy) (1.4.7)\n",
            "Requirement already satisfied: pillow>=6.2.0 in /usr/local/lib/python3.10/dist-packages (from matplotlib>=3.6->cartopy) (11.0.0)\n",
            "Requirement already satisfied: pyparsing>=2.3.1 in /usr/local/lib/python3.10/dist-packages (from matplotlib>=3.6->cartopy) (3.2.0)\n",
            "Requirement already satisfied: python-dateutil>=2.7 in /usr/local/lib/python3.10/dist-packages (from matplotlib>=3.6->cartopy) (2.8.2)\n",
            "Requirement already satisfied: certifi in /usr/local/lib/python3.10/dist-packages (from pyproj>=3.3.1->cartopy) (2024.8.30)\n",
            "Requirement already satisfied: six>=1.5 in /usr/local/lib/python3.10/dist-packages (from python-dateutil>=2.7->matplotlib>=3.6->cartopy) (1.16.0)\n",
            "Downloading Cartopy-0.24.1-cp310-cp310-manylinux_2_17_x86_64.manylinux2014_x86_64.whl (11.7 MB)\n",
            "\u001b[2K   \u001b[90m━━━━━━━━━━━━━━━━━━━━━━━━━━━━━━━━━━━━━━━━\u001b[0m \u001b[32m11.7/11.7 MB\u001b[0m \u001b[31m106.5 MB/s\u001b[0m eta \u001b[36m0:00:00\u001b[0m\n",
            "\u001b[?25hInstalling collected packages: cartopy\n",
            "Successfully installed cartopy-0.24.1\n",
            "Collecting rioxarray\n",
            "  Downloading rioxarray-0.18.1-py3-none-any.whl.metadata (5.4 kB)\n",
            "Requirement already satisfied: packaging in /usr/local/lib/python3.10/dist-packages (from rioxarray) (24.2)\n",
            "Collecting rasterio>=1.3.7 (from rioxarray)\n",
            "  Downloading rasterio-1.4.2-cp310-cp310-manylinux_2_17_x86_64.manylinux2014_x86_64.whl.metadata (9.1 kB)\n",
            "Requirement already satisfied: xarray>=2024.7.0 in /usr/local/lib/python3.10/dist-packages (from rioxarray) (2024.10.0)\n",
            "Requirement already satisfied: pyproj>=3.3 in /usr/local/lib/python3.10/dist-packages (from rioxarray) (3.7.0)\n",
            "Requirement already satisfied: numpy>=1.23 in /usr/local/lib/python3.10/dist-packages (from rioxarray) (1.26.4)\n",
            "Requirement already satisfied: certifi in /usr/local/lib/python3.10/dist-packages (from pyproj>=3.3->rioxarray) (2024.8.30)\n",
            "Collecting affine (from rasterio>=1.3.7->rioxarray)\n",
            "  Downloading affine-2.4.0-py3-none-any.whl.metadata (4.0 kB)\n",
            "Requirement already satisfied: attrs in /usr/local/lib/python3.10/dist-packages (from rasterio>=1.3.7->rioxarray) (24.2.0)\n",
            "Requirement already satisfied: click>=4.0 in /usr/local/lib/python3.10/dist-packages (from rasterio>=1.3.7->rioxarray) (8.1.7)\n",
            "Collecting cligj>=0.5 (from rasterio>=1.3.7->rioxarray)\n",
            "  Downloading cligj-0.7.2-py3-none-any.whl.metadata (5.0 kB)\n",
            "Collecting click-plugins (from rasterio>=1.3.7->rioxarray)\n",
            "  Downloading click_plugins-1.1.1-py2.py3-none-any.whl.metadata (6.4 kB)\n",
            "Requirement already satisfied: pyparsing in /usr/local/lib/python3.10/dist-packages (from rasterio>=1.3.7->rioxarray) (3.2.0)\n",
            "Requirement already satisfied: pandas>=2.1 in /usr/local/lib/python3.10/dist-packages (from xarray>=2024.7.0->rioxarray) (2.2.2)\n",
            "Requirement already satisfied: python-dateutil>=2.8.2 in /usr/local/lib/python3.10/dist-packages (from pandas>=2.1->xarray>=2024.7.0->rioxarray) (2.8.2)\n",
            "Requirement already satisfied: pytz>=2020.1 in /usr/local/lib/python3.10/dist-packages (from pandas>=2.1->xarray>=2024.7.0->rioxarray) (2024.2)\n",
            "Requirement already satisfied: tzdata>=2022.7 in /usr/local/lib/python3.10/dist-packages (from pandas>=2.1->xarray>=2024.7.0->rioxarray) (2024.2)\n",
            "Requirement already satisfied: six>=1.5 in /usr/local/lib/python3.10/dist-packages (from python-dateutil>=2.8.2->pandas>=2.1->xarray>=2024.7.0->rioxarray) (1.16.0)\n",
            "Downloading rioxarray-0.18.1-py3-none-any.whl (61 kB)\n",
            "\u001b[2K   \u001b[90m━━━━━━━━━━━━━━━━━━━━━━━━━━━━━━━━━━━━━━━━\u001b[0m \u001b[32m61.9/61.9 kB\u001b[0m \u001b[31m3.3 MB/s\u001b[0m eta \u001b[36m0:00:00\u001b[0m\n",
            "\u001b[?25hDownloading rasterio-1.4.2-cp310-cp310-manylinux_2_17_x86_64.manylinux2014_x86_64.whl (22.2 MB)\n",
            "\u001b[2K   \u001b[90m━━━━━━━━━━━━━━━━━━━━━━━━━━━━━━━━━━━━━━━━\u001b[0m \u001b[32m22.2/22.2 MB\u001b[0m \u001b[31m98.5 MB/s\u001b[0m eta \u001b[36m0:00:00\u001b[0m\n",
            "\u001b[?25hDownloading cligj-0.7.2-py3-none-any.whl (7.1 kB)\n",
            "Downloading affine-2.4.0-py3-none-any.whl (15 kB)\n",
            "Downloading click_plugins-1.1.1-py2.py3-none-any.whl (7.5 kB)\n",
            "Installing collected packages: cligj, click-plugins, affine, rasterio, rioxarray\n",
            "Successfully installed affine-2.4.0 click-plugins-1.1.1 cligj-0.7.2 rasterio-1.4.2 rioxarray-0.18.1\n"
          ]
        }
      ],
      "source": [
        "# Forecast across brazil but use harvested area threshold to filter out grid cells below 75th percentile of harvested area\n",
        "!pip install cartopy\n",
        "!pip install rioxarray"
      ]
    },
    {
      "cell_type": "code",
      "execution_count": null,
      "metadata": {
        "id": "kobajbrAC9UI"
      },
      "outputs": [],
      "source": [
        "from sklearn.neighbors import KNeighborsRegressor\n",
        "from sklearn.ensemble import GradientBoostingRegressor\n",
        "from mpl_toolkits.axes_grid1 import make_axes_locatable\n",
        "import numpy as np\n",
        "import matplotlib.pyplot as plt\n",
        "import pandas as pd\n",
        "import geopandas as gpd\n",
        "from shapely.geometry import mapping\n",
        "import cartopy.crs as ccrs\n",
        "from cartopy.feature import ShapelyFeature\n",
        "from cartopy.io.shapereader import Reader\n",
        "from sklearn.inspection import PartialDependenceDisplay\n",
        "from shapely.geometry import Point\n",
        "from sklearn.metrics import mean_absolute_error\n",
        "from scipy.stats import pearsonr\n",
        "from cartopy.feature import ShapelyFeature\n",
        "from cartopy.io.shapereader import Reader\n",
        "from rasterio import CRS\n",
        "from shapely.geometry import mapping\n",
        "import xarray as xr\n",
        "from statsmodels.graphics.tsaplots import plot_acf\n",
        "from keras import Sequential\n",
        "from keras.layers import LSTM\n",
        "from keras.layers import Dense\n",
        "from sklearn.linear_model import LinearRegression\n",
        "from sklearn.ensemble import GradientBoostingRegressor\n",
        "from sklearn.ensemble import RandomForestRegressor\n",
        "import functools\n",
        "import pickle\n",
        "import cartopy.feature as cf\n",
        "from scipy.stats import pearsonr"
      ]
    },
    {
      "cell_type": "code",
      "execution_count": null,
      "metadata": {
        "colab": {
          "base_uri": "https://localhost:8080/"
        },
        "id": "LrfQC_ygC_w2",
        "outputId": "a3b51dc0-2578-4928-8faa-5178e16662d6"
      },
      "outputs": [
        {
          "output_type": "stream",
          "name": "stdout",
          "text": [
            "            lon     lat        VHI  year  month     precip  rtzsm_inst\n",
            "0       -53.375 -33.625  51.021667  2003      2  259.88287   98.905430\n",
            "1       -53.375 -33.375  56.413615  2003      2  263.87030   98.808440\n",
            "2       -53.125 -33.375  51.933297  2003      2  264.47006   97.968110\n",
            "3       -53.125 -33.125  56.654990  2003      2  272.27457   98.378110\n",
            "4       -52.875 -33.125  49.726269  2003      2  257.30900   97.940735\n",
            "...         ...     ...        ...   ...    ...        ...         ...\n",
            "2567138 -60.375   4.875  62.075416  2021     12  150.79850   99.038830\n",
            "2567139 -60.125   4.875  63.210981  2021     12  125.50701   93.635956\n",
            "2567140 -60.625   5.125  61.006296  2021     12  169.49919   92.256210\n",
            "2567141 -60.375   5.125  57.378575  2021     12  188.04920   99.967990\n",
            "2567142 -60.125   5.125  58.236603  2021     12  198.82608  100.000000\n",
            "\n",
            "[2567143 rows x 7 columns]\n",
            "month\n",
            "2     214871\n",
            "3     214871\n",
            "4     214871\n",
            "5     214871\n",
            "6     214871\n",
            "7     214871\n",
            "8     214871\n",
            "9     214871\n",
            "10    214871\n",
            "11    214871\n",
            "12    214871\n",
            "1     203562\n",
            "Name: count, dtype: int64\n",
            "None\n"
          ]
        }
      ],
      "source": [
        "# load VHI and weather data table\n",
        "df = pd.read_csv('/content/drive/MyDrive/rs_data/VHI_merged_weather_data.csv')\n",
        "print(df)\n",
        "# do count of months of df\n",
        "print(print(df['month'].value_counts()))"
      ]
    },
    {
      "cell_type": "code",
      "execution_count": null,
      "metadata": {
        "colab": {
          "base_uri": "https://localhost:8080/"
        },
        "id": "-BeD0dcZDCpc",
        "outputId": "611e0d73-6335-40be-cada-8f15b38e522e"
      },
      "outputs": [
        {
          "output_type": "stream",
          "name": "stdout",
          "text": [
            "            lon     lat        time      spei  year  month\n",
            "0       -53.375 -33.625  2003-01-16  1.414085  2003      1\n",
            "1       -53.375 -33.375  2003-01-16  1.414085  2003      1\n",
            "2       -53.125 -33.375  2003-01-16  1.414085  2003      1\n",
            "3       -53.125 -33.125  2003-01-16  1.414085  2003      1\n",
            "4       -52.875 -33.125  2003-01-16  1.388349  2003      1\n",
            "...         ...     ...         ...       ...   ...    ...\n",
            "2725915 -60.375   4.875  2022-12-16  2.315812  2022     12\n",
            "2725916 -60.125   4.875  2022-12-16  2.249721  2022     12\n",
            "2725917 -60.625   5.125  2022-12-16  2.315812  2022     12\n",
            "2725918 -60.375   5.125  2022-12-16  2.315812  2022     12\n",
            "2725919 -60.125   5.125  2022-12-16  2.249721  2022     12\n",
            "\n",
            "[2725920 rows x 6 columns]\n",
            "month\n",
            "1     227160\n",
            "2     227160\n",
            "3     227160\n",
            "4     227160\n",
            "5     227160\n",
            "6     227160\n",
            "7     227160\n",
            "8     227160\n",
            "9     227160\n",
            "10    227160\n",
            "11    227160\n",
            "12    227160\n",
            "Name: count, dtype: int64\n",
            "None\n",
            "month\n",
            "1     227160\n",
            "2     227160\n",
            "3     227160\n",
            "4     227160\n",
            "5     227160\n",
            "6     227160\n",
            "7     227160\n",
            "8     227160\n",
            "9     227160\n",
            "10    227160\n",
            "11    227160\n",
            "12    227160\n",
            "Name: count, dtype: int64\n",
            "None\n",
            "month\n",
            "1     227160\n",
            "2     227160\n",
            "3     227160\n",
            "4     227160\n",
            "5     227160\n",
            "6     227160\n",
            "7     227160\n",
            "8     227160\n",
            "9     227160\n",
            "10    227160\n",
            "11    227160\n",
            "12    227160\n",
            "Name: count, dtype: int64\n",
            "None\n"
          ]
        }
      ],
      "source": [
        "# load SPEI 1 and 3 data\n",
        "spei_1df = pd.read_csv('/content/drive/MyDrive/rs_data/SPEI/brazil_spei_025.csv')\n",
        "spei_2df = pd.read_csv('/content/drive/MyDrive/rs_data/SPEI/brazil_2m_spei_025.csv')\n",
        "spei_3df = pd.read_csv('/content/drive/MyDrive/rs_data/SPEI/brazil_3m_spei_025.csv')\n",
        "spei_6df = pd.read_csv('/content/drive/MyDrive/rs_data/SPEI/brazil_6m_spei_025.csv')\n",
        "spei_12df = pd.read_csv('/content/drive/MyDrive/rs_data/SPEI/brazil_12m_spei_025.csv')\n",
        "print(spei_3df)\n",
        "print(print(spei_1df['month'].value_counts()))\n",
        "print(print(spei_2df['month'].value_counts()))\n",
        "print(print(spei_3df['month'].value_counts()))"
      ]
    },
    {
      "cell_type": "code",
      "execution_count": null,
      "metadata": {
        "colab": {
          "base_uri": "https://localhost:8080/"
        },
        "id": "To3Fssg7DE5v",
        "outputId": "dce1ddfc-b782-44a6-df90-914b5ae4ebda"
      },
      "outputs": [
        {
          "output_type": "stream",
          "name": "stdout",
          "text": [
            "month\n",
            "1     227160\n",
            "2     227160\n",
            "3     227160\n",
            "4     227160\n",
            "5     227160\n",
            "6     227160\n",
            "7     227160\n",
            "8     227160\n",
            "9     227160\n",
            "10    227160\n",
            "11    227160\n",
            "12    227160\n",
            "Name: count, dtype: int64\n"
          ]
        }
      ],
      "source": [
        "spei_1df.drop(columns='time',inplace=True)\n",
        "spei_2df.drop(columns='time',inplace=True)\n",
        "spei_3df.drop(columns='time',inplace=True)\n",
        "spei_6df.drop(columns='time',inplace=True)\n",
        "spei_12df.drop(columns='time',inplace=True)\n",
        "spei_1df.rename(columns={'spei':'spei1m'},inplace=True)\n",
        "spei_2df.rename(columns={'spei':'spei2m'},inplace=True)\n",
        "spei_3df.rename(columns={'spei':'spei3m'},inplace=True)\n",
        "spei_6df.rename(columns={'spei':'spei6m'},inplace=True)\n",
        "spei_12df.rename(columns={'spei':'spei12m'},inplace=True)\n",
        "##\n",
        "\n",
        "\n",
        "spei_dfs = [spei_1df,spei_2df,spei_3df,spei_6df,spei_12df]\n",
        "spei_df = functools.reduce(lambda left, right: pd.merge(left, right, on=['lat','lon','year','month']), spei_dfs)\n",
        "print(spei_df['month'].value_counts())\n",
        "#spei_df = spei_1df.merge(spei_3df,on=['lat','lon','year','month'])"
      ]
    },
    {
      "cell_type": "code",
      "execution_count": null,
      "metadata": {
        "colab": {
          "base_uri": "https://localhost:8080/"
        },
        "id": "k76GTZVaKGzS",
        "outputId": "846b0de9-2ae9-4404-f72f-59ed8153e13e"
      },
      "outputs": [
        {
          "output_type": "stream",
          "name": "stdout",
          "text": [
            "month\n",
            "2     214871\n",
            "3     214871\n",
            "4     214871\n",
            "5     214871\n",
            "6     214871\n",
            "7     214871\n",
            "8     214871\n",
            "9     214871\n",
            "10    214871\n",
            "11    214871\n",
            "12    214871\n",
            "1     203562\n",
            "Name: count, dtype: int64\n"
          ]
        }
      ],
      "source": [
        "df = df.merge(spei_df,on=['lon','lat','year','month'])\n",
        "print(df['month'].value_counts())"
      ]
    },
    {
      "cell_type": "code",
      "execution_count": null,
      "metadata": {
        "colab": {
          "base_uri": "https://localhost:8080/"
        },
        "id": "Kro8LEBKc8m_",
        "outputId": "7b0eb692-188c-4afd-892a-4794790a84de"
      },
      "outputs": [
        {
          "output_type": "stream",
          "name": "stdout",
          "text": [
            "         Unnamed: 0     lon     lat        VHI  year  month     precip  \\\n",
            "0                 0 -53.375 -33.625  51.021667  2003      2  259.88287   \n",
            "1                 1 -53.375 -33.375  56.413615  2003      2  263.87030   \n",
            "2                 2 -53.125 -33.375  51.933297  2003      2  264.47006   \n",
            "3                 3 -53.125 -33.125  56.654990  2003      2  272.27457   \n",
            "4                 4 -52.875 -33.125  49.726269  2003      2  257.30900   \n",
            "...             ...     ...     ...        ...   ...    ...        ...   \n",
            "2567138     2567138 -60.375   4.875  62.075416  2021     12  150.79850   \n",
            "2567139     2567139 -60.125   4.875  63.210981  2021     12  125.50701   \n",
            "2567140     2567140 -60.625   5.125  61.006296  2021     12  169.49919   \n",
            "2567141     2567141 -60.375   5.125  57.378575  2021     12  188.04920   \n",
            "2567142     2567142 -60.125   5.125  58.236603  2021     12  198.82608   \n",
            "\n",
            "         rtzsm_inst    msdwlwrf  \n",
            "0         98.905430  387.757822  \n",
            "1         98.808440  387.757822  \n",
            "2         97.968110  387.757822  \n",
            "3         98.378110  387.995536  \n",
            "4         97.940735  387.912400  \n",
            "...             ...         ...  \n",
            "2567138   99.038830  399.390096  \n",
            "2567139   93.635956  401.050180  \n",
            "2567140   92.256210  398.491206  \n",
            "2567141   99.967990  399.390096  \n",
            "2567142  100.000000  399.775892  \n",
            "\n",
            "[2567143 rows x 9 columns]\n",
            "month\n",
            "2     214871\n",
            "3     214871\n",
            "4     214871\n",
            "5     214871\n",
            "6     214871\n",
            "7     214871\n",
            "8     214871\n",
            "9     214871\n",
            "10    214871\n",
            "11    214871\n",
            "12    214871\n",
            "1     203562\n",
            "Name: count, dtype: int64\n",
            "month\n",
            "2     214871\n",
            "3     214871\n",
            "4     214871\n",
            "5     214871\n",
            "6     214871\n",
            "7     214871\n",
            "8     214871\n",
            "9     214871\n",
            "10    214871\n",
            "11    214871\n",
            "12    214871\n",
            "1     203562\n",
            "Name: count, dtype: int64\n",
            "month\n",
            "2     214871\n",
            "3     214871\n",
            "4     214871\n",
            "5     214871\n",
            "6     214871\n",
            "7     214871\n",
            "8     214871\n",
            "9     214871\n",
            "10    214871\n",
            "11    214871\n",
            "12    214871\n",
            "1     203562\n",
            "Name: count, dtype: int64\n"
          ]
        }
      ],
      "source": [
        "# Need to add SPI and era5 data to df\n",
        "e5_longrad = pd.read_csv('/content/drive/MyDrive/rs_data/era5/regridded_era5_longrad.csv')\n",
        "e5_t2m = pd.read_csv('/content/drive/MyDrive/rs_data/era5/regridded_era5_2m_temperature.csv')\n",
        "e5_pev = pd.read_csv('/content/drive/MyDrive/rs_data/era5/regridded_era5_pot_evap.csv')\n",
        "print(e5_longrad)\n",
        "print(e5_longrad['month'].value_counts())\n",
        "print(e5_t2m['month'].value_counts())\n",
        "print(e5_pev['month'].value_counts())"
      ]
    },
    {
      "cell_type": "code",
      "execution_count": null,
      "metadata": {
        "colab": {
          "base_uri": "https://localhost:8080/"
        },
        "id": "brGugC24Az2G",
        "outputId": "326bafc3-ce55-487d-fed4-5f8d2a2643ce"
      },
      "outputs": [
        {
          "output_type": "stream",
          "name": "stdout",
          "text": [
            "         Unnamed: 0     lon     lat        VHI  year  month     precip  \\\n",
            "0                 0 -53.375 -33.625  51.021667  2003      2  259.88287   \n",
            "1                 1 -53.375 -33.375  56.413615  2003      2  263.87030   \n",
            "2                 2 -53.125 -33.375  51.933297  2003      2  264.47006   \n",
            "3                 3 -53.125 -33.125  56.654990  2003      2  272.27457   \n",
            "4                 4 -52.875 -33.125  49.726269  2003      2  257.30900   \n",
            "...             ...     ...     ...        ...   ...    ...        ...   \n",
            "2567138     2567138 -60.375   4.875  62.075416  2021     12  150.79850   \n",
            "2567139     2567139 -60.125   4.875  63.210981  2021     12  125.50701   \n",
            "2567140     2567140 -60.625   5.125  61.006296  2021     12  169.49919   \n",
            "2567141     2567141 -60.375   5.125  57.378575  2021     12  188.04920   \n",
            "2567142     2567142 -60.125   5.125  58.236603  2021     12  198.82608   \n",
            "\n",
            "         rtzsm_inst    msdwlwrf       pev  \n",
            "0         98.905430  387.757822 -0.003271  \n",
            "1         98.808440  387.757822 -0.003271  \n",
            "2         97.968110  387.757822 -0.003271  \n",
            "3         98.378110  387.995536 -0.004050  \n",
            "4         97.940735  387.912400 -0.003621  \n",
            "...             ...         ...       ...  \n",
            "2567138   99.038830  399.390096 -0.003124  \n",
            "2567139   93.635956  401.050180 -0.003261  \n",
            "2567140   92.256210  398.491206 -0.003067  \n",
            "2567141   99.967990  399.390096 -0.003124  \n",
            "2567142  100.000000  399.775892 -0.002969  \n",
            "\n",
            "[2567143 rows x 10 columns]\n"
          ]
        }
      ],
      "source": [
        "print(e5_pev)"
      ]
    },
    {
      "cell_type": "code",
      "execution_count": null,
      "metadata": {
        "id": "HEWxnDPP8wrZ"
      },
      "outputs": [],
      "source": [
        "e5_longrad.drop(columns=['VHI','Unnamed: 0','precip','rtzsm_inst'],inplace=True)\n",
        "e5_t2m.drop(columns=['VHI','Unnamed: 0','precip','rtzsm_inst','msdwlwrf','pev'],inplace=True)\n",
        "e5_pev.drop(columns=['VHI','Unnamed: 0','precip','rtzsm_inst','msdwlwrf'],inplace=True)"
      ]
    },
    {
      "cell_type": "code",
      "execution_count": null,
      "metadata": {
        "colab": {
          "base_uri": "https://localhost:8080/"
        },
        "id": "vdtMmcjXBl2d",
        "outputId": "abcf7efd-c7ab-40b7-8126-92a4d3df70c1"
      },
      "outputs": [
        {
          "output_type": "stream",
          "name": "stdout",
          "text": [
            "            lon     lat  year  month    msdwlwrf\n",
            "0       -53.375 -33.625  2003      2  387.757822\n",
            "1       -53.375 -33.375  2003      2  387.757822\n",
            "2       -53.125 -33.375  2003      2  387.757822\n",
            "3       -53.125 -33.125  2003      2  387.995536\n",
            "4       -52.875 -33.125  2003      2  387.912400\n",
            "...         ...     ...   ...    ...         ...\n",
            "2567138 -60.375   4.875  2021     12  399.390096\n",
            "2567139 -60.125   4.875  2021     12  401.050180\n",
            "2567140 -60.625   5.125  2021     12  398.491206\n",
            "2567141 -60.375   5.125  2021     12  399.390096\n",
            "2567142 -60.125   5.125  2021     12  399.775892\n",
            "\n",
            "[2567143 rows x 5 columns]\n"
          ]
        }
      ],
      "source": [
        "print(e5_longrad)"
      ]
    },
    {
      "cell_type": "code",
      "execution_count": null,
      "metadata": {
        "colab": {
          "base_uri": "https://localhost:8080/"
        },
        "id": "BxHgb1ZcBl8L",
        "outputId": "9248017f-54d0-4474-dd02-06d5dce8289d"
      },
      "outputs": [
        {
          "output_type": "stream",
          "name": "stdout",
          "text": [
            "            lon     lat        VHI  year  month     precip  rtzsm_inst  \\\n",
            "0       -53.375 -33.625  51.021667  2003      2  259.88287   98.905430   \n",
            "1       -53.375 -33.375  56.413615  2003      2  263.87030   98.808440   \n",
            "2       -53.125 -33.375  51.933297  2003      2  264.47006   97.968110   \n",
            "3       -53.125 -33.125  56.654990  2003      2  272.27457   98.378110   \n",
            "4       -52.875 -33.125  49.726269  2003      2  257.30900   97.940735   \n",
            "...         ...     ...        ...   ...    ...        ...         ...   \n",
            "2567138 -60.375   4.875  62.075416  2021     12  150.79850   99.038830   \n",
            "2567139 -60.125   4.875  63.210981  2021     12  125.50701   93.635956   \n",
            "2567140 -60.625   5.125  61.006296  2021     12  169.49919   92.256210   \n",
            "2567141 -60.375   5.125  57.378575  2021     12  188.04920   99.967990   \n",
            "2567142 -60.125   5.125  58.236603  2021     12  198.82608  100.000000   \n",
            "\n",
            "           spei1m    spei2m    spei3m    spei6m   spei12m  \n",
            "0        2.211833  1.234659  2.207213  2.076374  2.890651  \n",
            "1        2.211833  1.234659  2.207213  2.076374  2.890651  \n",
            "2        2.211833  1.234659  2.207213  2.076374  2.890651  \n",
            "3        2.211833  1.234659  2.207213  2.076374  2.890651  \n",
            "4        2.215591  1.231711  2.205329  2.078466  2.875429  \n",
            "...           ...       ...       ...       ...       ...  \n",
            "2567138  1.002222  0.543776  1.049649  0.820637  1.766735  \n",
            "2567139  1.027573  0.664582  1.143475  0.918141  1.812540  \n",
            "2567140  1.002222  0.543776  1.049649  0.820637  1.766734  \n",
            "2567141  1.002222  0.543776  1.049649  0.820637  1.766735  \n",
            "2567142  1.027573  0.664582  1.143475  0.918141  1.812540  \n",
            "\n",
            "[2567143 rows x 12 columns]\n"
          ]
        }
      ],
      "source": [
        "print(df)"
      ]
    },
    {
      "cell_type": "code",
      "execution_count": null,
      "metadata": {
        "id": "13_5lVy191H6"
      },
      "outputs": [],
      "source": [
        "# merge to create era5 df\n",
        "era5_dfs = [e5_longrad,e5_t2m,e5_pev]\n",
        "e5_df_final = functools.reduce(lambda left, right: pd.merge(left, right, on=['lat','lon','year','month']), era5_dfs)"
      ]
    },
    {
      "cell_type": "code",
      "execution_count": null,
      "metadata": {
        "colab": {
          "base_uri": "https://localhost:8080/"
        },
        "id": "5klWMUKmAP_P",
        "outputId": "0cfe9f01-9c68-4205-8d0f-7abb2e9f86d6"
      },
      "outputs": [
        {
          "output_type": "stream",
          "name": "stdout",
          "text": [
            "month\n",
            "2     214871\n",
            "3     214871\n",
            "4     214871\n",
            "5     214871\n",
            "6     214871\n",
            "7     214871\n",
            "8     214871\n",
            "9     214871\n",
            "10    214871\n",
            "11    214871\n",
            "12    214871\n",
            "1     203562\n",
            "Name: count, dtype: int64\n"
          ]
        }
      ],
      "source": [
        "df = df.merge(e5_df_final,on=['lon','lat','year','month'])\n",
        "print(df['month'].value_counts())"
      ]
    },
    {
      "cell_type": "code",
      "execution_count": null,
      "metadata": {
        "colab": {
          "base_uri": "https://localhost:8080/"
        },
        "id": "gfsHa39JAcW2",
        "outputId": "4c8e515f-a976-4061-8602-6694056e863a"
      },
      "outputs": [
        {
          "output_type": "stream",
          "name": "stdout",
          "text": [
            "            lon     lat        VHI  year  month     precip  rtzsm_inst  \\\n",
            "0       -53.375 -33.625  51.021667  2003      2  259.88287   98.905430   \n",
            "1       -53.375 -33.375  56.413615  2003      2  263.87030   98.808440   \n",
            "2       -53.125 -33.375  51.933297  2003      2  264.47006   97.968110   \n",
            "3       -53.125 -33.125  56.654990  2003      2  272.27457   98.378110   \n",
            "4       -52.875 -33.125  49.726269  2003      2  257.30900   97.940735   \n",
            "...         ...     ...        ...   ...    ...        ...         ...   \n",
            "2567138 -60.375   4.875  62.075416  2021     12  150.79850   99.038830   \n",
            "2567139 -60.125   4.875  63.210981  2021     12  125.50701   93.635956   \n",
            "2567140 -60.625   5.125  61.006296  2021     12  169.49919   92.256210   \n",
            "2567141 -60.375   5.125  57.378575  2021     12  188.04920   99.967990   \n",
            "2567142 -60.125   5.125  58.236603  2021     12  198.82608  100.000000   \n",
            "\n",
            "           spei1m    spei2m    spei3m    spei6m   spei12m    msdwlwrf  \\\n",
            "0        2.211833  1.234659  2.207213  2.076374  2.890651  387.757822   \n",
            "1        2.211833  1.234659  2.207213  2.076374  2.890651  387.757822   \n",
            "2        2.211833  1.234659  2.207213  2.076374  2.890651  387.757822   \n",
            "3        2.211833  1.234659  2.207213  2.076374  2.890651  387.995536   \n",
            "4        2.215591  1.231711  2.205329  2.078466  2.875429  387.912400   \n",
            "...           ...       ...       ...       ...       ...         ...   \n",
            "2567138  1.002222  0.543776  1.049649  0.820637  1.766735  399.390096   \n",
            "2567139  1.027573  0.664582  1.143475  0.918141  1.812540  401.050180   \n",
            "2567140  1.002222  0.543776  1.049649  0.820637  1.766734  398.491206   \n",
            "2567141  1.002222  0.543776  1.049649  0.820637  1.766735  399.390096   \n",
            "2567142  1.027573  0.664582  1.143475  0.918141  1.812540  399.775892   \n",
            "\n",
            "                t2m       pev  \n",
            "0        296.856648 -0.003271  \n",
            "1        296.856648 -0.003271  \n",
            "2        296.856648 -0.003271  \n",
            "3        296.975488 -0.004050  \n",
            "4        297.040054 -0.003621  \n",
            "...             ...       ...  \n",
            "2567138  295.221798 -0.003124  \n",
            "2567139  295.644938 -0.003261  \n",
            "2567140  295.079604 -0.003067  \n",
            "2567141  295.221798 -0.003124  \n",
            "2567142  294.864610 -0.002969  \n",
            "\n",
            "[2567143 rows x 15 columns]\n"
          ]
        }
      ],
      "source": [
        "print(df)"
      ]
    },
    {
      "cell_type": "code",
      "execution_count": null,
      "metadata": {
        "colab": {
          "base_uri": "https://localhost:8080/"
        },
        "id": "RhqG2bc9CgWc",
        "outputId": "8447f46b-b0bb-4eae-e4a2-6fe441706b30"
      },
      "outputs": [
        {
          "output_type": "stream",
          "name": "stdout",
          "text": [
            "month\n",
            "2     214871\n",
            "3     214871\n",
            "4     214871\n",
            "5     214871\n",
            "6     214871\n",
            "7     214871\n",
            "8     214871\n",
            "9     214871\n",
            "10    214871\n",
            "11    214871\n",
            "12    214871\n",
            "1     203562\n",
            "Name: count, dtype: int64\n",
            "month\n",
            "2     214871\n",
            "3     214871\n",
            "4     214871\n",
            "5     214871\n",
            "6     214871\n",
            "7     214871\n",
            "8     214871\n",
            "9     214871\n",
            "10    214871\n",
            "11    214871\n",
            "12    214871\n",
            "1     203562\n",
            "Name: count, dtype: int64\n",
            "month\n",
            "2     214871\n",
            "3     214871\n",
            "4     214871\n",
            "5     214871\n",
            "6     214871\n",
            "7     214871\n",
            "8     214871\n",
            "9     214871\n",
            "10    214871\n",
            "11    214871\n",
            "12    214871\n",
            "1     203562\n",
            "Name: count, dtype: int64\n"
          ]
        }
      ],
      "source": [
        "# add spi1-3 to the dataframe\n",
        "spi01 = pd.read_csv('/content/drive/MyDrive/rs_data/spi_gpcc/spi01_regridded_025.csv')\n",
        "spi02 = pd.read_csv('/content/drive/MyDrive/rs_data/spi_gpcc/spi02_regridded_025.csv')\n",
        "spi03 = pd.read_csv('/content/drive/MyDrive/rs_data/spi_gpcc/spi03_regridded_025.csv')\n",
        "\n",
        "###\n",
        "print(spi01['month'].value_counts())\n",
        "print(spi02['month'].value_counts())\n",
        "print(spi03['month'].value_counts())"
      ]
    },
    {
      "cell_type": "code",
      "execution_count": null,
      "metadata": {
        "colab": {
          "base_uri": "https://localhost:8080/"
        },
        "id": "9_8GSa0ADT8a",
        "outputId": "15777804-bbe6-40bd-d09c-0d6d4f906b15"
      },
      "outputs": [
        {
          "output_type": "stream",
          "name": "stdout",
          "text": [
            "            lon     lat        VHI  year  month     precip  rtzsm_inst  \\\n",
            "0       -53.375 -33.625  51.021667  2003      2  259.88287   98.905430   \n",
            "1       -53.375 -33.375  56.413615  2003      2  263.87030   98.808440   \n",
            "2       -53.125 -33.375  51.933297  2003      2  264.47006   97.968110   \n",
            "3       -53.125 -33.125  56.654990  2003      2  272.27457   98.378110   \n",
            "4       -52.875 -33.125  49.726269  2003      2  257.30900   97.940735   \n",
            "...         ...     ...        ...   ...    ...        ...         ...   \n",
            "2567138 -60.375   4.875  62.075416  2021     12  150.79850   99.038830   \n",
            "2567139 -60.125   4.875  63.210981  2021     12  125.50701   93.635956   \n",
            "2567140 -60.625   5.125  61.006296  2021     12  169.49919   92.256210   \n",
            "2567141 -60.375   5.125  57.378575  2021     12  188.04920   99.967990   \n",
            "2567142 -60.125   5.125  58.236603  2021     12  198.82608  100.000000   \n",
            "\n",
            "           spi_01    spi_02    spi_03  \n",
            "0        1.718010  1.131672  1.956504  \n",
            "1        1.718010  1.131672  1.956504  \n",
            "2        1.718010  1.131672  1.956504  \n",
            "3        1.718010  1.131672  1.956504  \n",
            "4        1.667068  1.103870  1.941953  \n",
            "...           ...       ...       ...  \n",
            "2567138  0.446436  0.038471  0.656163  \n",
            "2567139  0.446436  0.038471  0.656163  \n",
            "2567140  0.446436  0.038471  0.656163  \n",
            "2567141  0.446436  0.038471  0.656163  \n",
            "2567142  0.446436  0.038471  0.656163  \n",
            "\n",
            "[2567143 rows x 10 columns]\n"
          ]
        }
      ],
      "source": [
        "print(spi03)"
      ]
    },
    {
      "cell_type": "code",
      "execution_count": null,
      "metadata": {
        "id": "Is0Vq0ffDejk"
      },
      "outputs": [],
      "source": [
        "# spi03 contains everything so use that\n",
        "spi03.drop(columns=['VHI','precip','rtzsm_inst'],inplace=True)"
      ]
    },
    {
      "cell_type": "code",
      "execution_count": null,
      "metadata": {
        "id": "oFurzuMLD-iC"
      },
      "outputs": [],
      "source": [
        "df = df.merge(spi03,on=['lon','lat','year','month'])"
      ]
    },
    {
      "cell_type": "code",
      "execution_count": null,
      "metadata": {
        "colab": {
          "base_uri": "https://localhost:8080/"
        },
        "id": "85pJG_eSED3w",
        "outputId": "a7e702ce-bd3c-48a1-db03-c1980bc5b613"
      },
      "outputs": [
        {
          "output_type": "stream",
          "name": "stdout",
          "text": [
            "            lon     lat        VHI  year  month     precip  rtzsm_inst  \\\n",
            "0       -53.375 -33.625  51.021667  2003      2  259.88287   98.905430   \n",
            "1       -53.375 -33.375  56.413615  2003      2  263.87030   98.808440   \n",
            "2       -53.125 -33.375  51.933297  2003      2  264.47006   97.968110   \n",
            "3       -53.125 -33.125  56.654990  2003      2  272.27457   98.378110   \n",
            "4       -52.875 -33.125  49.726269  2003      2  257.30900   97.940735   \n",
            "...         ...     ...        ...   ...    ...        ...         ...   \n",
            "2567138 -60.375   4.875  62.075416  2021     12  150.79850   99.038830   \n",
            "2567139 -60.125   4.875  63.210981  2021     12  125.50701   93.635956   \n",
            "2567140 -60.625   5.125  61.006296  2021     12  169.49919   92.256210   \n",
            "2567141 -60.375   5.125  57.378575  2021     12  188.04920   99.967990   \n",
            "2567142 -60.125   5.125  58.236603  2021     12  198.82608  100.000000   \n",
            "\n",
            "           spei1m    spei2m    spei3m    spei6m   spei12m    msdwlwrf  \\\n",
            "0        2.211833  1.234659  2.207213  2.076374  2.890651  387.757822   \n",
            "1        2.211833  1.234659  2.207213  2.076374  2.890651  387.757822   \n",
            "2        2.211833  1.234659  2.207213  2.076374  2.890651  387.757822   \n",
            "3        2.211833  1.234659  2.207213  2.076374  2.890651  387.995536   \n",
            "4        2.215591  1.231711  2.205329  2.078466  2.875429  387.912400   \n",
            "...           ...       ...       ...       ...       ...         ...   \n",
            "2567138  1.002222  0.543776  1.049649  0.820637  1.766735  399.390096   \n",
            "2567139  1.027573  0.664582  1.143475  0.918141  1.812540  401.050180   \n",
            "2567140  1.002222  0.543776  1.049649  0.820637  1.766734  398.491206   \n",
            "2567141  1.002222  0.543776  1.049649  0.820637  1.766735  399.390096   \n",
            "2567142  1.027573  0.664582  1.143475  0.918141  1.812540  399.775892   \n",
            "\n",
            "                t2m       pev    spi_01    spi_02    spi_03  \n",
            "0        296.856648 -0.003271  1.718010  1.131672  1.956504  \n",
            "1        296.856648 -0.003271  1.718010  1.131672  1.956504  \n",
            "2        296.856648 -0.003271  1.718010  1.131672  1.956504  \n",
            "3        296.975488 -0.004050  1.718010  1.131672  1.956504  \n",
            "4        297.040054 -0.003621  1.667068  1.103870  1.941953  \n",
            "...             ...       ...       ...       ...       ...  \n",
            "2567138  295.221798 -0.003124  0.446436  0.038471  0.656163  \n",
            "2567139  295.644938 -0.003261  0.446436  0.038471  0.656163  \n",
            "2567140  295.079604 -0.003067  0.446436  0.038471  0.656163  \n",
            "2567141  295.221798 -0.003124  0.446436  0.038471  0.656163  \n",
            "2567142  294.864610 -0.002969  0.446436  0.038471  0.656163  \n",
            "\n",
            "[2567143 rows x 18 columns]\n"
          ]
        }
      ],
      "source": [
        "print(df)"
      ]
    },
    {
      "cell_type": "code",
      "source": [],
      "metadata": {
        "id": "XFWT_DknhLdj"
      },
      "execution_count": null,
      "outputs": []
    },
    {
      "cell_type": "code",
      "source": [
        "# save df as pickle\n",
        "with open(r'/content/drive/MyDrive/all_data_no_filter.pkl','wb') as out_file:\n",
        "  pickle.dump(df, out_file)"
      ],
      "metadata": {
        "id": "Ojxrr2S8eII6"
      },
      "execution_count": null,
      "outputs": []
    },
    {
      "cell_type": "code",
      "execution_count": null,
      "metadata": {
        "id": "MvdGkA5OLIbe"
      },
      "outputs": [],
      "source": [
        "def groupby_gc(df):\n",
        "  df_list=[]\n",
        "  for index,df in df.groupby(['lat','lon']):\n",
        "    df_list.append(df)\n",
        "  return df_list"
      ]
    },
    {
      "cell_type": "code",
      "source": [
        "# replace match months code with newer updated code which gets the +1 of previous month\n",
        "def group_df(df):\n",
        "  # append grouped dfs into list\n",
        "  df_list = []\n",
        "  # group by lat and lon\n",
        "  df_grouped = df.groupby(['lat','lon'])\n",
        "  # append each group to list\n",
        "  for group in df_grouped:\n",
        "    df_list.append(group)\n",
        "  return df_list\n",
        "\n",
        "def create_next_month_col(df_list):\n",
        "  # create new column in each df in df_list which corresponds to rtzsm_inst value for the next month\n",
        "  for df in df_list:\n",
        "    df[1]['VHI_next'] = df[1]['VHI'].shift(-1)\n",
        "  return df_list\n",
        "\n",
        "def create_next_month_var(df):\n",
        "  df_list = group_df(df)\n",
        "  df_list = create_next_month_col(df_list)\n",
        "  df_merged = pd.concat([df[1] for df in df_list])\n",
        "  #df_merged = df_merged.drop(columns=['index'])\n",
        "  df_merged = df_merged.reset_index(drop=True)\n",
        "  df_merged = df_merged.dropna()\n",
        "  return df_merged\n"
      ],
      "metadata": {
        "id": "fkS7XPaxL37l"
      },
      "execution_count": null,
      "outputs": []
    },
    {
      "cell_type": "code",
      "execution_count": null,
      "metadata": {
        "id": "O0S6Qb_6MSU1"
      },
      "outputs": [],
      "source": [
        "def load_p_file(fname):\n",
        "  with open(fname,'rb') as input_file:\n",
        "    e = pickle.load(input_file)\n",
        "  return e"
      ]
    },
    {
      "cell_type": "code",
      "execution_count": null,
      "metadata": {
        "id": "utXGqu3ZMdrp"
      },
      "outputs": [],
      "source": [
        "# load harvest area filtered by state\n",
        "mai_ar_state = pd.read_pickle('/content/drive/MyDrive/area_data/crop_grids/mai_harvest_area_by_state.pickle')\n",
        "soy_ar_state = pd.read_pickle('/content/drive/MyDrive/area_data/crop_grids/soy_harvest_area_by_state.pickle')"
      ]
    },
    {
      "cell_type": "code",
      "execution_count": null,
      "metadata": {
        "id": "OnX_jXeaMjLm"
      },
      "outputs": [],
      "source": [
        "# Need to rename x and y to lat and lon\n",
        "soy_ar_state = soy_ar_state.rename(columns={'x':'lon','y':'lat'})\n",
        "mai_ar_state = mai_ar_state.rename(columns={'x':'lon','y':'lat'})"
      ]
    },
    {
      "cell_type": "code",
      "execution_count": null,
      "metadata": {
        "id": "lbSsQ67fM7uZ"
      },
      "outputs": [],
      "source": [
        "soy_ar_state = soy_ar_state[soy_ar_state['harvarea']>0]\n",
        "soy_threshold = np.percentile(soy_ar_state['harvarea'],75)\n",
        "soy_area_high_ha = soy_ar_state[soy_ar_state['harvarea'] >= soy_threshold]\n",
        "###\n",
        "mai_ar_state = mai_ar_state[mai_ar_state['harvarea']>0]\n",
        "mai_threshold = np.percentile(mai_ar_state['harvarea'],75)\n",
        "mai_area_high_ha = mai_ar_state[mai_ar_state['harvarea'] >= mai_threshold]\n",
        "###\n",
        "high_ha_soy_coords = soy_area_high_ha.drop(columns=['geometry','croparea','qual','set','index_right','UF'])\n",
        "high_ha_mai_coords = mai_area_high_ha.drop(columns=['geometry','croparea','qual','set','index_right','UF'])"
      ]
    },
    {
      "cell_type": "code",
      "execution_count": null,
      "metadata": {
        "id": "af2vLZeBcf0A",
        "colab": {
          "base_uri": "https://localhost:8080/"
        },
        "outputId": "35b3b331-d8a2-4b0a-9051-e642184b6416"
      },
      "outputs": [
        {
          "output_type": "stream",
          "name": "stdout",
          "text": [
            "           lon     lat      harvarea\n",
            "342410 -61.125 -12.625  19406.910156\n",
            "342412 -61.125 -13.125  20244.515625\n",
            "343132 -60.875 -13.125  16806.115234\n",
            "343853 -60.625 -13.375  16047.814453\n",
            "345290 -60.125 -12.625  19370.056641\n",
            "...        ...     ...           ...\n",
            "389914 -44.625  -8.625  20241.035156\n",
            "390629 -44.375  -7.375  16148.021484\n",
            "390631 -44.375  -7.875  22235.076172\n",
            "390633 -44.375  -8.375  18538.201172\n",
            "391350 -44.125  -7.625  22479.226562\n",
            "\n",
            "[924 rows x 3 columns]\n"
          ]
        }
      ],
      "source": [
        "print(high_ha_soy_coords)"
      ]
    },
    {
      "cell_type": "code",
      "execution_count": null,
      "metadata": {
        "id": "bezoRSsJcuDR"
      },
      "outputs": [],
      "source": [
        "def match_harvest_areas(df, coords_df):\n",
        "  # need to put data into per year list before matching\n",
        "  # harvarea dataframe\n",
        "  df_list = groupby_gc(df)\n",
        "  # use df.merge to apply coordinates to each df\n",
        "  merged_df_list=[]\n",
        "  for i in range(len(df_list)):\n",
        "    merged_df_list.append(df_list[i].merge(coords_df,on=['lat','lon']))\n",
        "  merged_df = pd.concat(merged_df_list)\n",
        "  return merged_df"
      ]
    },
    {
      "cell_type": "code",
      "execution_count": null,
      "metadata": {
        "id": "utxvI1hTgNlD"
      },
      "outputs": [],
      "source": [
        "df_soy = match_harvest_areas(df,high_ha_soy_coords)\n",
        "df_mai = match_harvest_areas(df,high_ha_mai_coords)"
      ]
    },
    {
      "cell_type": "code",
      "execution_count": null,
      "metadata": {
        "id": "R56E8YbsSzCF",
        "colab": {
          "base_uri": "https://localhost:8080/"
        },
        "outputId": "991b29a7-2b73-47c1-fc0e-c8596b317dad"
      },
      "outputs": [
        {
          "output_type": "stream",
          "name": "stdout",
          "text": [
            "        lon     lat        VHI  year  month     precip  rtzsm_inst    spei1m  \\\n",
            "0   -53.375 -32.125  70.414172  2003      2  259.20056   98.021910  2.192168   \n",
            "1   -53.375 -32.125  79.323750  2003      3  146.58607   98.162980  1.228278   \n",
            "2   -53.375 -32.125  77.111895  2003      4  184.82845   97.594270  1.472914   \n",
            "3   -53.375 -32.125  64.150561  2003      5  108.86273   97.605330  1.680747   \n",
            "4   -53.375 -32.125  54.270359  2003      6  145.90760  100.000000  1.641170   \n",
            "..      ...     ...        ...   ...    ...        ...         ...       ...   \n",
            "222 -47.625  -0.875  52.101102  2021      8  125.48111   88.888840  2.664571   \n",
            "223 -47.625  -0.875  46.753572  2021      9   24.13338   77.834076  2.523025   \n",
            "224 -47.625  -0.875  48.627606  2021     10   71.58264   69.860950  1.286047   \n",
            "225 -47.625  -0.875  47.450658  2021     11  130.48245   83.223434  1.721121   \n",
            "226 -47.625  -0.875  63.699560  2021     12  128.99753   70.221590  0.336298   \n",
            "\n",
            "       spei2m    spei3m    spei6m   spei12m    msdwlwrf         t2m       pev  \\\n",
            "0    1.313241  2.266991  2.366476  3.094063  387.621424  296.530026 -0.004538   \n",
            "1    2.453098  1.678403  2.394281  2.931848  376.919222  294.303754 -0.003293   \n",
            "2    1.588110  2.096257  2.206459  2.560617  345.837482  290.164102 -0.002408   \n",
            "3    1.751371  1.845372  2.202366  2.570922  334.681940  288.467444 -0.001716   \n",
            "4    1.900034  1.926722  2.011911  2.523017  338.842544  286.129896 -0.001001   \n",
            "..        ...       ...       ...       ...         ...         ...       ...   \n",
            "222  2.250521  1.929124  1.177704  1.123611  410.370278  300.173380 -0.004909   \n",
            "223  3.002636  2.507460  1.956277  1.313320  410.550830  300.253404 -0.005699   \n",
            "224  2.275886  2.791671  2.030545  1.346755  415.099818  300.919370 -0.005919   \n",
            "225  1.885239  2.521014  2.471832  1.410120  417.379510  300.832808 -0.005324   \n",
            "226  0.978503  1.159506  2.318736  1.537535  422.826084  300.733560 -0.004900   \n",
            "\n",
            "       spi_01    spi_02    spi_03     harvarea  \n",
            "0    1.718010  1.131672  1.956504  6771.750488  \n",
            "1    1.015022  1.645683  1.368535  6771.750488  \n",
            "2    0.956124  1.150522  1.621207  6771.750488  \n",
            "3    0.412008  0.789140  1.030642  6771.750488  \n",
            "4    0.966855  0.774759  0.982040  6771.750488  \n",
            "..        ...       ...       ...          ...  \n",
            "222  1.573595  1.592416  1.312561  4537.008789  \n",
            "223  2.537942  2.341496  2.211642  4537.008789  \n",
            "224  1.575954  2.610072  2.547964  4537.008789  \n",
            "225  1.595141  2.002994  2.608675  4537.008789  \n",
            "226  0.199106  0.923182  1.182742  4537.008789  \n",
            "\n",
            "[420404 rows x 19 columns]\n"
          ]
        }
      ],
      "source": [
        "print(df_mai)"
      ]
    },
    {
      "cell_type": "code",
      "source": [
        "# Need to save df mai and df soy\n",
        "#with open(r'/content/drive/MyDrive/rs_data/df_mai.pkl','wb') as out_file:\n",
        "#  pickle.dump(df_mai, out_file)\n",
        "\n",
        "#with open(r'/content/drive/MyDrive/rs_data/df_soy.pkl','wb') as out_file:\n",
        "#  pickle.dump(df_soy, out_file)"
      ],
      "metadata": {
        "id": "bjSWSySWt2KL"
      },
      "execution_count": null,
      "outputs": []
    },
    {
      "cell_type": "code",
      "execution_count": null,
      "metadata": {
        "id": "mmFQM1pGS19m"
      },
      "outputs": [],
      "source": [
        "# combine 75% soy and maize - then later cluster based on ccoef relationship with vhi\n",
        "df_crops = pd.concat([df_mai,df_soy])"
      ]
    },
    {
      "cell_type": "code",
      "execution_count": null,
      "metadata": {
        "id": "nRsbbR2lTzGs"
      },
      "outputs": [],
      "source": [
        "def per_gc_metrics(df):\n",
        "  m1_df_anom_gc_list = groupby_gc(df)\n",
        "  lat_list=[]\n",
        "  lon_list=[]\n",
        "  vhi_averages=[]\n",
        "  vhi_spei3_ccoefs=[]\n",
        "  vhi_rzsm_ccoefs=[]\n",
        "  vhi_precip_ccoefs=[]\n",
        "  for i in range(len(m1_df_anom_gc_list)):\n",
        "    # get average vhi and plot\n",
        "    vhi_averages.append(np.mean(m1_df_anom_gc_list[i]['VHI']))\n",
        "    vhi_spei3_ccoefs.append(pearsonr(m1_df_anom_gc_list[i]['VHI'],m1_df_anom_gc_list[i]['spei3m'])[0])\n",
        "    vhi_rzsm_ccoefs.append(pearsonr(m1_df_anom_gc_list[i]['VHI'],m1_df_anom_gc_list[i]['rtzsm_inst'])[0])\n",
        "    vhi_precip_ccoefs.append(pearsonr(m1_df_anom_gc_list[i]['VHI'],m1_df_anom_gc_list[i]['precip'])[0])\n",
        "    # get latitude and longitude coordinates\n",
        "    lat = m1_df_anom_gc_list[i]['lat'].values[0]\n",
        "    lat_list.append(lat)\n",
        "    lon = m1_df_anom_gc_list[i]['lon'].values[0]\n",
        "    lon_list.append(lon)\n",
        "  return lat_list, lon_list, vhi_averages, vhi_spei3_ccoefs, vhi_rzsm_ccoefs,vhi_precip_ccoefs"
      ]
    },
    {
      "cell_type": "code",
      "execution_count": null,
      "metadata": {
        "id": "ciYBaP2LT3FK"
      },
      "outputs": [],
      "source": [
        "maize_lats, maize_lons, maize_vhi, maize_speiccoef, maize_rzsm_ccoef, vhi_precip_ccoef = per_gc_metrics(df_crops)"
      ]
    },
    {
      "cell_type": "code",
      "execution_count": null,
      "metadata": {
        "id": "2LSjkhlsVE9p"
      },
      "outputs": [],
      "source": [
        "# add shape feature\n",
        "# load Brazil shapefile\n",
        "fname = '/content/drive/MyDrive/shapefiles/BR/BR_EST_SAD69.shp'\n",
        "shape_feature = ShapelyFeature(Reader(fname).geometries(),\n",
        "                                ccrs.PlateCarree(), facecolor='none')"
      ]
    },
    {
      "cell_type": "code",
      "execution_count": null,
      "metadata": {
        "id": "3jJ0Mb1UL9Cp",
        "colab": {
          "base_uri": "https://localhost:8080/",
          "height": 865
        },
        "outputId": "72951e41-05d7-42bf-c106-67acc11f684a"
      },
      "outputs": [
        {
          "output_type": "stream",
          "name": "stderr",
          "text": [
            "/usr/local/lib/python3.10/dist-packages/cartopy/io/__init__.py:241: DownloadWarning: Downloading: https://naturalearth.s3.amazonaws.com/50m_physical/ne_50m_land.zip\n",
            "  warnings.warn(f'Downloading: {url}', DownloadWarning)\n",
            "/usr/local/lib/python3.10/dist-packages/cartopy/io/__init__.py:241: DownloadWarning: Downloading: https://naturalearth.s3.amazonaws.com/50m_physical/ne_50m_ocean.zip\n",
            "  warnings.warn(f'Downloading: {url}', DownloadWarning)\n"
          ]
        },
        {
          "output_type": "display_data",
          "data": {
            "text/plain": [
              "<Figure size 1000x1200 with 2 Axes>"
            ],
            "image/png": "[encoded data removed]"
          },
          "metadata": {}
        }
      ],
      "source": [
        "fig = plt.figure(figsize=(10,12))\n",
        "ax1 = fig.add_subplot(1,1,1,projection=ccrs.PlateCarree())\n",
        "#ax1.coastlines()\n",
        "im=ax1.scatter(maize_lons, maize_lats, c=vhi_precip_ccoef, marker=',', transform=ccrs.PlateCarree(), cmap='Spectral',s=4)\n",
        "# # Set the location and size of the colorbar axes manually\n",
        "#cax = fig.add_axes([]) # left, bottom, width, height\n",
        "# # Add the colorbar\n",
        "divider = make_axes_locatable(ax1)\n",
        "cax = divider.append_axes(\"right\", size=\"5%\", pad=0.05,axes_class=plt.Axes)\n",
        "cbar = fig.colorbar(im, ax=ax1,cax=cax)\n",
        "cbar.ax.set_ylabel('correlation coefficient',fontsize='14')\n",
        "ax1.title.set_text('correlation between rainfall and vhi')\n",
        "ax1.set_extent([-80, -30, -40, 10], crs=ccrs.PlateCarree())\n",
        "#plt.savefig('plots/Iizumi_2020_maize_global.pdf')\n",
        "#ax1.add_feature(cf.BORDERS)\n",
        "ax1.add_feature(shape_feature)\n",
        "ax1.add_feature(cf.LAND)\n",
        "ax1.add_feature(cf.OCEAN)\n",
        "ax1.axis('off')\n",
        "plt.show()"
      ]
    },
    {
      "cell_type": "code",
      "execution_count": null,
      "metadata": {
        "id": "X15N9PlQm9cs"
      },
      "outputs": [],
      "source": [
        "# find correlation between SPEI indices and VHI+1"
      ]
    },
    {
      "cell_type": "code",
      "source": [
        "# first make VHI +1 using functions\n",
        "crops_df2 = create_next_month_var(df_crops)"
      ],
      "metadata": {
        "id": "VUCFU_rhOV_d"
      },
      "execution_count": null,
      "outputs": []
    },
    {
      "cell_type": "code",
      "source": [
        "print(crops_df2)"
      ],
      "metadata": {
        "colab": {
          "base_uri": "https://localhost:8080/"
        },
        "id": "c0DjW-Z4PWjU",
        "outputId": "d7181681-56a9-45b3-edcd-1789a5366727"
      },
      "execution_count": null,
      "outputs": [
        {
          "output_type": "stream",
          "name": "stdout",
          "text": [
            "           lon     lat        VHI  year  month     precip  rtzsm_inst  \\\n",
            "0      -53.375 -32.125  70.414172  2003      2  259.20056   98.021910   \n",
            "1      -53.375 -32.125  79.323750  2003      3  146.58607   98.162980   \n",
            "2      -53.375 -32.125  77.111895  2003      4  184.82845   97.594270   \n",
            "3      -53.375 -32.125  64.150561  2003      5  108.86273   97.605330   \n",
            "4      -53.375 -32.125  54.270359  2003      6  145.90760  100.000000   \n",
            "...        ...     ...        ...   ...    ...        ...         ...   \n",
            "630146 -47.625  -0.875  49.922513  2021      7  294.35620   80.138200   \n",
            "630147 -47.625  -0.875  52.101102  2021      8  125.48111   88.888840   \n",
            "630148 -47.625  -0.875  46.753572  2021      9   24.13338   77.834076   \n",
            "630149 -47.625  -0.875  48.627606  2021     10   71.58264   69.860950   \n",
            "630150 -47.625  -0.875  47.450658  2021     11  130.48245   83.223434   \n",
            "\n",
            "          spei1m    spei2m    spei3m    spei6m   spei12m    msdwlwrf  \\\n",
            "0       2.192168  1.313241  2.266991  2.366476  3.094063  387.621424   \n",
            "1       1.228278  2.453098  1.678403  2.394281  2.931848  376.919222   \n",
            "2       1.472914  1.588110  2.096257  2.206459  2.560617  345.837482   \n",
            "3       1.680747  1.751371  1.845372  2.202366  2.570922  334.681940   \n",
            "4       1.641170  1.900034  1.926722  2.011911  2.523017  338.842544   \n",
            "...          ...       ...       ...       ...       ...         ...   \n",
            "630146  1.130223  0.881931  0.859094  1.261306  0.607059  412.320024   \n",
            "630147  2.664571  2.250521  1.929124  1.177704  1.123611  410.370278   \n",
            "630148  2.523025  3.002636  2.507460  1.956277  1.313320  410.550830   \n",
            "630149  1.286047  2.275886  2.791671  2.030545  1.346755  415.099818   \n",
            "630150  1.721121  1.885239  2.521014  2.471832  1.410120  417.379510   \n",
            "\n",
            "               t2m       pev    spi_01    spi_02    spi_03     harvarea  \\\n",
            "0       296.530026 -0.004538  1.718010  1.131672  1.956504  6771.750488   \n",
            "1       294.303754 -0.003293  1.015022  1.645683  1.368535  6771.750488   \n",
            "2       290.164102 -0.002408  0.956124  1.150522  1.621207  6771.750488   \n",
            "3       288.467444 -0.001716  0.412008  0.789140  1.030642  6771.750488   \n",
            "4       286.129896 -0.001001  0.966855  0.774759  0.982040  6771.750488   \n",
            "...            ...       ...       ...       ...       ...          ...   \n",
            "630146  299.706968 -0.004356  1.146655  0.969593  0.674176  4537.008789   \n",
            "630147  300.173380 -0.004909  1.573595  1.592416  1.312561  4537.008789   \n",
            "630148  300.253404 -0.005699  2.537942  2.341496  2.211642  4537.008789   \n",
            "630149  300.919370 -0.005919  1.575954  2.610072  2.547964  4537.008789   \n",
            "630150  300.832808 -0.005324  1.595141  2.002994  2.608675  4537.008789   \n",
            "\n",
            "         VHI_next  \n",
            "0       79.323750  \n",
            "1       77.111895  \n",
            "2       64.150561  \n",
            "3       54.270359  \n",
            "4       59.200781  \n",
            "...           ...  \n",
            "630146  52.101102  \n",
            "630147  46.753572  \n",
            "630148  48.627606  \n",
            "630149  47.450658  \n",
            "630150  63.699560  \n",
            "\n",
            "[627655 rows x 20 columns]\n"
          ]
        }
      ]
    },
    {
      "cell_type": "code",
      "source": [
        "# Get pearson correlation between SPEI1m and VHI_next\n",
        "p_corr_spei1 = pearsonr(crops_df2['spei1m'],crops_df2['VHI_next'])\n",
        "p_corr_spei2 = pearsonr(crops_df2['spei2m'],crops_df2['VHI_next'])\n",
        "p_corr_spei3 = pearsonr(crops_df2['spei3m'],crops_df2['VHI_next'])\n",
        "p_corr_spei6 = pearsonr(crops_df2['spei6m'],crops_df2['VHI_next'])\n",
        "p_corr_spei12 = pearsonr(crops_df2['spei12m'],crops_df2['VHI_next'])"
      ],
      "metadata": {
        "id": "qkEvNR4CQDGL"
      },
      "execution_count": null,
      "outputs": []
    },
    {
      "cell_type": "code",
      "source": [
        "print(p_corr_spei1)\n",
        "print(p_corr_spei2)\n",
        "print(p_corr_spei3)\n",
        "print(p_corr_spei6)\n",
        "print(p_corr_spei12)"
      ],
      "metadata": {
        "colab": {
          "base_uri": "https://localhost:8080/"
        },
        "id": "zd0cGSNIQbrq",
        "outputId": "bb034299-f269-4c60-f610-4ea96e335944"
      },
      "execution_count": null,
      "outputs": [
        {
          "output_type": "stream",
          "name": "stdout",
          "text": [
            "PearsonRResult(statistic=0.3584141452506717, pvalue=0.0)\n",
            "PearsonRResult(statistic=0.400586622704766, pvalue=0.0)\n",
            "PearsonRResult(statistic=0.37696405853009435, pvalue=0.0)\n",
            "PearsonRResult(statistic=0.290720446683778, pvalue=0.0)\n",
            "PearsonRResult(statistic=0.20678479798146474, pvalue=0.0)\n"
          ]
        }
      ]
    },
    {
      "cell_type": "code",
      "source": [
        "# produce bar chart of p_corr values\n",
        "fig = plt.figure()\n",
        "ax = fig.add_subplot()\n",
        "ax.bar(['spei1','spei2','spei3','spei6','spei12'],[p_corr_spei1[0],p_corr_spei2[0],p_corr_spei3[0],p_corr_spei6[0],p_corr_spei12[0]])\n",
        "plt.xlabel('spei')\n",
        "plt.ylabel('Correlation coefficient')\n",
        "plt.show()"
      ],
      "metadata": {
        "colab": {
          "base_uri": "https://localhost:8080/",
          "height": 449
        },
        "id": "cGGUzI15QpRb",
        "outputId": "a9ab2a9f-707b-4483-836b-8cf0895f10a3"
      },
      "execution_count": null,
      "outputs": [
        {
          "output_type": "display_data",
          "data": {
            "text/plain": [
              "<Figure size 640x480 with 1 Axes>"
            ],
            "image/png": "[encoded data removed]"
          },
          "metadata": {}
        }
      ]
    },
    {
      "cell_type": "code",
      "source": [
        "print(crops_df2)"
      ],
      "metadata": {
        "colab": {
          "base_uri": "https://localhost:8080/"
        },
        "id": "6IbcBM-4kazc",
        "outputId": "65c39681-9d59-40d0-8b6a-24847215192b"
      },
      "execution_count": null,
      "outputs": [
        {
          "output_type": "stream",
          "name": "stdout",
          "text": [
            "           lon     lat        VHI  year  month     precip  rtzsm_inst  \\\n",
            "0      -53.375 -32.125  70.414172  2003      2  259.20056   98.021910   \n",
            "1      -53.375 -32.125  79.323750  2003      3  146.58607   98.162980   \n",
            "2      -53.375 -32.125  77.111895  2003      4  184.82845   97.594270   \n",
            "3      -53.375 -32.125  64.150561  2003      5  108.86273   97.605330   \n",
            "4      -53.375 -32.125  54.270359  2003      6  145.90760  100.000000   \n",
            "...        ...     ...        ...   ...    ...        ...         ...   \n",
            "630146 -47.625  -0.875  49.922513  2021      7  294.35620   80.138200   \n",
            "630147 -47.625  -0.875  52.101102  2021      8  125.48111   88.888840   \n",
            "630148 -47.625  -0.875  46.753572  2021      9   24.13338   77.834076   \n",
            "630149 -47.625  -0.875  48.627606  2021     10   71.58264   69.860950   \n",
            "630150 -47.625  -0.875  47.450658  2021     11  130.48245   83.223434   \n",
            "\n",
            "          spei1m    spei2m    spei3m    spei6m   spei12m    msdwlwrf  \\\n",
            "0       2.192168  1.313241  2.266991  2.366476  3.094063  387.621424   \n",
            "1       1.228278  2.453098  1.678403  2.394281  2.931848  376.919222   \n",
            "2       1.472914  1.588110  2.096257  2.206459  2.560617  345.837482   \n",
            "3       1.680747  1.751371  1.845372  2.202366  2.570922  334.681940   \n",
            "4       1.641170  1.900034  1.926722  2.011911  2.523017  338.842544   \n",
            "...          ...       ...       ...       ...       ...         ...   \n",
            "630146  1.130223  0.881931  0.859094  1.261306  0.607059  412.320024   \n",
            "630147  2.664571  2.250521  1.929124  1.177704  1.123611  410.370278   \n",
            "630148  2.523025  3.002636  2.507460  1.956277  1.313320  410.550830   \n",
            "630149  1.286047  2.275886  2.791671  2.030545  1.346755  415.099818   \n",
            "630150  1.721121  1.885239  2.521014  2.471832  1.410120  417.379510   \n",
            "\n",
            "               t2m       pev    spi_01    spi_02    spi_03     harvarea  \\\n",
            "0       296.530026 -0.004538  1.718010  1.131672  1.956504  6771.750488   \n",
            "1       294.303754 -0.003293  1.015022  1.645683  1.368535  6771.750488   \n",
            "2       290.164102 -0.002408  0.956124  1.150522  1.621207  6771.750488   \n",
            "3       288.467444 -0.001716  0.412008  0.789140  1.030642  6771.750488   \n",
            "4       286.129896 -0.001001  0.966855  0.774759  0.982040  6771.750488   \n",
            "...            ...       ...       ...       ...       ...          ...   \n",
            "630146  299.706968 -0.004356  1.146655  0.969593  0.674176  4537.008789   \n",
            "630147  300.173380 -0.004909  1.573595  1.592416  1.312561  4537.008789   \n",
            "630148  300.253404 -0.005699  2.537942  2.341496  2.211642  4537.008789   \n",
            "630149  300.919370 -0.005919  1.575954  2.610072  2.547964  4537.008789   \n",
            "630150  300.832808 -0.005324  1.595141  2.002994  2.608675  4537.008789   \n",
            "\n",
            "         VHI_next  \n",
            "0       79.323750  \n",
            "1       77.111895  \n",
            "2       64.150561  \n",
            "3       54.270359  \n",
            "4       59.200781  \n",
            "...           ...  \n",
            "630146  52.101102  \n",
            "630147  46.753572  \n",
            "630148  48.627606  \n",
            "630149  47.450658  \n",
            "630150  63.699560  \n",
            "\n",
            "[627655 rows x 20 columns]\n"
          ]
        }
      ]
    },
    {
      "cell_type": "code",
      "source": [
        "# Produce the data for a boxplot of correlations per grid cell\n",
        "def per_gc_metrics(df,spei_var):\n",
        "  m1_df_anom_gc_list = groupby_gc(df)\n",
        "  lat_list=[]\n",
        "  lon_list=[]\n",
        "  vhi_spei_ccoefs=[]\n",
        "  for i in range(len(m1_df_anom_gc_list)):\n",
        "    # get average vhi and plot\n",
        "    vhi_spei_ccoefs.append(pearsonr(m1_df_anom_gc_list[i]['VHI'],m1_df_anom_gc_list[i][spei_var])[0])\n",
        "    # get latitude and longitude coordinates\n",
        "    lat = m1_df_anom_gc_list[i]['lat'].values[0]\n",
        "    lat_list.append(lat)\n",
        "    lon = m1_df_anom_gc_list[i]['lon'].values[0]\n",
        "    lon_list.append(lon)\n",
        "  return lat_list, lon_list, vhi_spei_ccoefs"
      ],
      "metadata": {
        "id": "VCiENaG2RESS"
      },
      "execution_count": null,
      "outputs": []
    },
    {
      "cell_type": "code",
      "source": [
        "lat_list, lon_list, vhi_spei_ccoefs_1 = per_gc_metrics(crops_df2,'spei1m')\n",
        "lat_list, lon_list, vhi_spei_ccoefs_2 = per_gc_metrics(crops_df2,'spei2m')\n",
        "lat_list, lon_list, vhi_spei_ccoefs_3 = per_gc_metrics(crops_df2,'spei3m')\n",
        "lat_list, lon_list, vhi_spei_ccoefs_6 = per_gc_metrics(crops_df2,'spei6m')\n",
        "lat_list, lon_list, vhi_spei_ccoefs_12 = per_gc_metrics(crops_df2,'spei12m')"
      ],
      "metadata": {
        "id": "mi3FkgbnlYDE"
      },
      "execution_count": null,
      "outputs": []
    },
    {
      "cell_type": "code",
      "source": [
        "# produce boxplot of vhi_spei_ccoefs_ values\n",
        "fig = plt.figure()\n",
        "ax = fig.add_subplot(1,1,1)\n",
        "ax.boxplot([vhi_spei_ccoefs_1,vhi_spei_ccoefs_2,vhi_spei_ccoefs_3,vhi_spei_ccoefs_6,vhi_spei_ccoefs_12])\n",
        "plt.xlabel('spei')\n",
        "plt.ylabel('correlation coefficient')\n",
        "# change xticks to string labels\n",
        "plt.xticks([1,2,3,4,5],['spei1','spei2','spei3','spei6','spei12'])\n",
        "# save figure\n",
        "plt.savefig('/content/drive/MyDrive/Figures/vhi_spei_ccoef_boxplot.png',dpi=300)\n",
        "plt.show()"
      ],
      "metadata": {
        "colab": {
          "base_uri": "https://localhost:8080/",
          "height": 449
        },
        "id": "bjAGkB7clz0k",
        "outputId": "1797c2e7-dc53-401d-a4e5-365cac7be7ff"
      },
      "execution_count": null,
      "outputs": [
        {
          "output_type": "display_data",
          "data": {
            "text/plain": [
              "<Figure size 640x480 with 1 Axes>"
            ],
            "image/png": "[encoded data removed]"
          },
          "metadata": {}
        }
      ]
    }
  ],
  "metadata": {
    "colab": {
      "machine_shape": "hm",
      "provenance": [],
      "mount_file_id": "1cP7HR4WfOTq1UpuqJVm19Tzo0hPHS8u-",
      "authorship_tag": "ABX9TyOlwsjCddFEEhBnHLkJ4AD4",
      "include_colab_link": true
    },
    "kernelspec": {
      "display_name": "Python 3",
      "name": "python3"
    },
    "language_info": {
      "name": "python"
    }
  },
  "nbformat": 4,
  "nbformat_minor": 0
}