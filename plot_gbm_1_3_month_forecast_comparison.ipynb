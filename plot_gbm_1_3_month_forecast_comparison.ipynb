{
  "nbformat": 4,
  "nbformat_minor": 0,
  "metadata": {
    "colab": {
      "provenance": [],
      "machine_shape": "hm",
      "mount_file_id": "1rP-EGU3mIbjOVg77iVQC2jpEV5gXuxe-",
      "authorship_tag": "ABX9TyPXwPPlACdCbK3OfN32a4Lk",
      "include_colab_link": true
    },
    "kernelspec": {
      "name": "python3",
      "display_name": "Python 3"
    },
    "language_info": {
      "name": "python"
    }
  },
  "cells": [
    {
      "cell_type": "markdown",
      "metadata": {
        "id": "view-in-github",
        "colab_type": "text"
      },
      "source": [
        "<a href=\"https://colab.research.google.com/github/Jgallear/CSSP_brazil_23_24/blob/main/plot_gbm_1_3_month_forecast_comparison.ipynb\" target=\"_parent\"><img src=\"https://colab.research.google.com/assets/colab-badge.svg\" alt=\"Open In Colab\"/></a>"
      ]
    },
    {
      "cell_type": "code",
      "execution_count": null,
      "metadata": {
        "id": "q9LsYCsxLjBL"
      },
      "outputs": [],
      "source": [
        "import pandas as pd\n",
        "import numpy as np\n",
        "from sklearn.neighbors import KNeighborsRegressor\n",
        "from sklearn.ensemble import GradientBoostingRegressor\n",
        "from mpl_toolkits.axes_grid1 import make_axes_locatable\n",
        "import numpy as np\n",
        "import matplotlib.pyplot as plt\n",
        "import pandas as pd\n",
        "import geopandas as gpd\n",
        "from shapely.geometry import mapping\n",
        "from sklearn.inspection import PartialDependenceDisplay\n",
        "from shapely.geometry import Point\n",
        "from sklearn.metrics import mean_absolute_error\n",
        "from scipy.stats import pearsonr\n",
        "#from cartopy.feature import ShapelyFeature\n",
        "#from cartopy.io.shapereader import Reader\n",
        "#from rasterio import CRS\n",
        "from shapely.geometry import mapping\n",
        "import xarray as xr\n",
        "from statsmodels.graphics.tsaplots import plot_acf\n",
        "from keras import Sequential\n",
        "from keras.layers import LSTM\n",
        "from keras.layers import Dense\n",
        "from sklearn.linear_model import LinearRegression\n",
        "from sklearn.ensemble import GradientBoostingRegressor\n",
        "from sklearn.ensemble import RandomForestRegressor\n",
        "import functools\n",
        "import pickle\n",
        "#import cartopy.feature as cf\n",
        "from scipy.stats import pearsonr\n",
        "from sklearn.preprocessing import StandardScaler\n",
        "from sklearn.metrics import mean_absolute_error\n",
        "from scipy.stats import pearsonr\n",
        "from sklearn.metrics import r2_score\n",
        "import seaborn as sns"
      ]
    },
    {
      "cell_type": "code",
      "source": [
        "# read in each csv file\n",
        "gbm_scores_1m=pd.read_csv('/content/drive/MyDrive/model_outs/GBM_1month.csv')\n",
        "gbm_scores_2m=pd.read_csv('/content/drive/MyDrive/model_outs/GBM_2month.csv')\n",
        "gbm_scores_3m=pd.read_csv('/content/drive/MyDrive/model_outs/GBM_3month.csv')"
      ],
      "metadata": {
        "id": "RMafYHYWMGkC"
      },
      "execution_count": null,
      "outputs": []
    },
    {
      "cell_type": "code",
      "source": [
        "print(gbm_scores_1m)"
      ],
      "metadata": {
        "colab": {
          "base_uri": "https://localhost:8080/"
        },
        "id": "PI37wXaBM_2C",
        "outputId": "ce28bf7b-8d48-4635-8197-4e5324a8b381"
      },
      "execution_count": null,
      "outputs": [
        {
          "output_type": "stream",
          "name": "stdout",
          "text": [
            "         R2       MAE\n",
            "0  0.634437  6.941393\n",
            "1  0.645057  5.881574\n",
            "2  0.634437  6.941393\n",
            "3  0.346199  7.115237\n",
            "4  0.685964  6.120943\n",
            "5  0.634433  6.941477\n",
            "6  0.550375  5.952872\n",
            "7  0.547343  5.519165\n",
            "8  0.459028  6.670447\n",
            "9  0.674274  5.686008\n"
          ]
        }
      ]
    },
    {
      "cell_type": "code",
      "source": [
        "gbm_scores_1m['forecast time (months)'] = [1]*len(gbm_scores_1m)"
      ],
      "metadata": {
        "id": "sdqkAhMXNPtX"
      },
      "execution_count": null,
      "outputs": []
    },
    {
      "cell_type": "code",
      "source": [
        "print(gbm_scores_1m)"
      ],
      "metadata": {
        "colab": {
          "base_uri": "https://localhost:8080/"
        },
        "id": "MaeDOZPQNfr3",
        "outputId": "15125448-9cac-492e-d287-5be6539475bf"
      },
      "execution_count": null,
      "outputs": [
        {
          "output_type": "stream",
          "name": "stdout",
          "text": [
            "         R2       MAE  forecast time (months)\n",
            "0  0.634437  6.941393                       1\n",
            "1  0.645057  5.881574                       1\n",
            "2  0.634437  6.941393                       1\n",
            "3  0.346199  7.115237                       1\n",
            "4  0.685964  6.120943                       1\n",
            "5  0.634433  6.941477                       1\n",
            "6  0.550375  5.952872                       1\n",
            "7  0.547343  5.519165                       1\n",
            "8  0.459028  6.670447                       1\n",
            "9  0.674274  5.686008                       1\n"
          ]
        }
      ]
    },
    {
      "cell_type": "code",
      "source": [
        "gbm_scores_2m['forecast time (months)'] = [2]*len(gbm_scores_2m)"
      ],
      "metadata": {
        "id": "eZEf7SQsNjBW"
      },
      "execution_count": null,
      "outputs": []
    },
    {
      "cell_type": "code",
      "source": [
        "gbm_scores_3m['forecast time (months)'] = [3]*len(gbm_scores_3m)"
      ],
      "metadata": {
        "id": "64-RkqPgNl9w"
      },
      "execution_count": null,
      "outputs": []
    },
    {
      "cell_type": "code",
      "source": [
        "combined_df = pd.concat([gbm_scores_1m,gbm_scores_2m,gbm_scores_3m])"
      ],
      "metadata": {
        "id": "eSDLkmPMNqkm"
      },
      "execution_count": null,
      "outputs": []
    },
    {
      "cell_type": "code",
      "source": [
        "print(combined_df)"
      ],
      "metadata": {
        "colab": {
          "base_uri": "https://localhost:8080/"
        },
        "id": "5H0GqTgLNyks",
        "outputId": "60aba41b-b6cc-424d-a5fc-366057843400"
      },
      "execution_count": null,
      "outputs": [
        {
          "output_type": "stream",
          "name": "stdout",
          "text": [
            "         R2        MAE  forecast time (months)\n",
            "0  0.634437   6.941393                       1\n",
            "1  0.645057   5.881574                       1\n",
            "2  0.634437   6.941393                       1\n",
            "3  0.346199   7.115237                       1\n",
            "4  0.685964   6.120943                       1\n",
            "5  0.634433   6.941477                       1\n",
            "6  0.550375   5.952872                       1\n",
            "7  0.547343   5.519165                       1\n",
            "8  0.459028   6.670447                       1\n",
            "9  0.674274   5.686008                       1\n",
            "0  0.241169   9.904840                       2\n",
            "1  0.068748   9.534658                       2\n",
            "2  0.241169   9.904840                       2\n",
            "3 -0.001834   9.358235                       2\n",
            "4  0.298730   9.378293                       2\n",
            "5  0.241169   9.904840                       2\n",
            "6  0.246180   7.852045                       2\n",
            "7  0.045480   8.204122                       2\n",
            "8  0.007260   9.283395                       2\n",
            "9  0.280555   8.311567                       2\n",
            "0  0.086234  10.971812                       3\n",
            "1 -0.234951  11.214722                       3\n",
            "2  0.086234  10.971812                       3\n",
            "3 -0.010589   9.513106                       3\n",
            "4  0.115799  10.481933                       3\n",
            "5  0.086234  10.971812                       3\n",
            "6  0.160200   8.208506                       3\n",
            "7 -0.180474   9.033022                       3\n",
            "8 -0.231408  10.370727                       3\n",
            "9  0.179979   8.961423                       3\n"
          ]
        }
      ]
    },
    {
      "cell_type": "code",
      "source": [
        "sns.boxplot(data=combined_df,x='forecast time (months)',y='R2',width=0.4,color='grey')"
      ],
      "metadata": {
        "colab": {
          "base_uri": "https://localhost:8080/",
          "height": 466
        },
        "id": "P7YE6pv2N2he",
        "outputId": "59de7219-f744-44ad-801c-36c019fbdb11"
      },
      "execution_count": null,
      "outputs": [
        {
          "output_type": "execute_result",
          "data": {
            "text/plain": [
              "<Axes: xlabel='forecast time (months)', ylabel='R2'>"
            ]
          },
          "metadata": {},
          "execution_count": 10
        },
        {
          "output_type": "display_data",
          "data": {
            "text/plain": [
              "<Figure size 640x480 with 1 Axes>"
            ],
            "image/png": "[encoded data removed]"
          },
          "metadata": {}
        }
      ]
    },
    {
      "cell_type": "code",
      "source": [
        "sns.boxplot(data=combined_df,x='forecast time (months)',y='MAE',width=0.4,color='grey')"
      ],
      "metadata": {
        "colab": {
          "base_uri": "https://localhost:8080/",
          "height": 466
        },
        "id": "oHGOBUpwOPV-",
        "outputId": "fe78c429-d96a-4707-acc0-68f73984e7bb"
      },
      "execution_count": null,
      "outputs": [
        {
          "output_type": "execute_result",
          "data": {
            "text/plain": [
              "<Axes: xlabel='forecast time (months)', ylabel='MAE'>"
            ]
          },
          "metadata": {},
          "execution_count": 11
        },
        {
          "output_type": "display_data",
          "data": {
            "text/plain": [
              "<Figure size 640x480 with 1 Axes>"
            ],
            "image/png": "[encoded data removed]"
          },
          "metadata": {}
        }
      ]
    },
    {
      "cell_type": "code",
      "source": [
        "fig = plt.figure(figsize=(6,4))\n",
        "ax1 = fig.add_subplot(1,2,1)\n",
        "sns.boxplot(data=combined_df,x='forecast time (months)',y='R2',width=0.4,color='grey',ax=ax1)\n",
        "ax1.text(-0.45,0.75,s='(a)',weight='bold',fontsize=12)\n",
        "ax1.set_ylim(-0.205,0.82)\n",
        "ax2 = fig.add_subplot(1,2,2)\n",
        "sns.boxplot(data=combined_df,x='forecast time (months)',y='MAE',width=0.4,color='grey',ax=ax2)\n",
        "ax2.text(-0.45,11,s='(b)',weight='bold',fontsize=12)\n",
        "ax1.set_ylabel(r'R$^2$')\n",
        "ax2.set_ylabel('MAE VHI %')\n",
        "plt.tight_layout()\n",
        "plt.savefig('/content/drive/MyDrive/Figures/GBM_123_month_comparison_boxplt.png',dpi=300)\n",
        "plt.show()"
      ],
      "metadata": {
        "colab": {
          "base_uri": "https://localhost:8080/",
          "height": 407
        },
        "id": "TtNffIRfPcXQ",
        "outputId": "8e7cd529-a2d8-4128-e8d1-134b7e720b77"
      },
      "execution_count": null,
      "outputs": [
        {
          "output_type": "display_data",
          "data": {
            "text/plain": [
              "<Figure size 600x400 with 2 Axes>"
            ],
            "image/png": "[encoded data removed]"
          },
          "metadata": {}
        }
      ]
    },
    {
      "cell_type": "code",
      "source": [
        "print(combined_df)"
      ],
      "metadata": {
        "colab": {
          "base_uri": "https://localhost:8080/"
        },
        "id": "SsKiiqdmS1nq",
        "outputId": "6d768448-b923-4507-8116-9d55bc994d75"
      },
      "execution_count": null,
      "outputs": [
        {
          "output_type": "stream",
          "name": "stdout",
          "text": [
            "         R2        MAE  forecast time (months)\n",
            "0  0.634437   6.941393                       1\n",
            "1  0.645057   5.881574                       1\n",
            "2  0.634437   6.941393                       1\n",
            "3  0.346199   7.115237                       1\n",
            "4  0.685964   6.120943                       1\n",
            "5  0.634433   6.941477                       1\n",
            "6  0.550375   5.952872                       1\n",
            "7  0.547343   5.519165                       1\n",
            "8  0.459028   6.670447                       1\n",
            "9  0.674274   5.686008                       1\n",
            "0  0.241169   9.904840                       2\n",
            "1  0.068748   9.534658                       2\n",
            "2  0.241169   9.904840                       2\n",
            "3 -0.001834   9.358235                       2\n",
            "4  0.298730   9.378293                       2\n",
            "5  0.241169   9.904840                       2\n",
            "6  0.246180   7.852045                       2\n",
            "7  0.045480   8.204122                       2\n",
            "8  0.007260   9.283395                       2\n",
            "9  0.280555   8.311567                       2\n",
            "0  0.086234  10.971812                       3\n",
            "1 -0.234951  11.214722                       3\n",
            "2  0.086234  10.971812                       3\n",
            "3 -0.010589   9.513106                       3\n",
            "4  0.115799  10.481933                       3\n",
            "5  0.086234  10.971812                       3\n",
            "6  0.160200   8.208506                       3\n",
            "7 -0.180474   9.033022                       3\n",
            "8 -0.231408  10.370727                       3\n",
            "9  0.179979   8.961423                       3\n"
          ]
        }
      ]
    },
    {
      "cell_type": "code",
      "source": [
        "m1 = combined_df[combined_df['forecast time (months)']==1]\n",
        "m2 = combined_df[combined_df['forecast time (months)']==2]\n",
        "m3 = combined_df[combined_df['forecast time (months)']==3]"
      ],
      "metadata": {
        "id": "TbRq-xYrS48k"
      },
      "execution_count": null,
      "outputs": []
    },
    {
      "cell_type": "code",
      "source": [
        "print(m1)"
      ],
      "metadata": {
        "colab": {
          "base_uri": "https://localhost:8080/"
        },
        "id": "tuZ3ptJsToeF",
        "outputId": "e4a68d49-9d67-425d-cd70-30051cddf871"
      },
      "execution_count": null,
      "outputs": [
        {
          "output_type": "stream",
          "name": "stdout",
          "text": [
            "         R2       MAE  forecast time (months)\n",
            "0  0.634437  6.941393                       1\n",
            "1  0.645057  5.881574                       1\n",
            "2  0.634437  6.941393                       1\n",
            "3  0.346199  7.115237                       1\n",
            "4  0.685964  6.120943                       1\n",
            "5  0.634433  6.941477                       1\n",
            "6  0.550375  5.952872                       1\n",
            "7  0.547343  5.519165                       1\n",
            "8  0.459028  6.670447                       1\n",
            "9  0.674274  5.686008                       1\n"
          ]
        }
      ]
    },
    {
      "cell_type": "code",
      "source": [
        "print(np.median(m1['R2']))\n",
        "print(np.median(m2['R2']))\n",
        "print(np.median(m3['R2']))"
      ],
      "metadata": {
        "colab": {
          "base_uri": "https://localhost:8080/"
        },
        "id": "3v6rUqqPTgSO",
        "outputId": "8e03ce6e-dee2-41e6-abad-a488b9e7cefa"
      },
      "execution_count": null,
      "outputs": [
        {
          "output_type": "stream",
          "name": "stdout",
          "text": [
            "0.6344347285633731\n",
            "0.24116914693317265\n",
            "0.0862340711460773\n"
          ]
        }
      ]
    }
  ]
}