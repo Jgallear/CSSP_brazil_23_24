{
  "nbformat": 4,
  "nbformat_minor": 0,
  "metadata": {
    "colab": {
      "provenance": [],
      "machine_shape": "hm",
      "mount_file_id": "1DQcZf8NQ1wrMbhadh3j2FJCw2HSfvzSn",
      "authorship_tag": "ABX9TyMCSe7XqaauidRwzCQNOQq1",
      "include_colab_link": true
    },
    "kernelspec": {
      "name": "python3",
      "display_name": "Python 3"
    },
    "language_info": {
      "name": "python"
    }
  },
  "cells": [
    {
      "cell_type": "markdown",
      "metadata": {
        "id": "view-in-github",
        "colab_type": "text"
      },
      "source": [
        "<a href=\"https://colab.research.google.com/github/Jgallear/CSSP_brazil_23_24/blob/main/cross_validate_GBM.ipynb\" target=\"_parent\"><img src=\"https://colab.research.google.com/assets/colab-badge.svg\" alt=\"Open In Colab\"/></a>"
      ]
    },
    {
      "cell_type": "code",
      "execution_count": 1,
      "metadata": {
        "colab": {
          "base_uri": "https://localhost:8080/"
        },
        "id": "o9CF3AbmZO0M",
        "outputId": "80ed6c54-7834-4824-db63-3f74d5621dfb"
      },
      "outputs": [
        {
          "output_type": "stream",
          "name": "stdout",
          "text": [
            "Collecting cartopy\n",
            "  Downloading Cartopy-0.22.0-cp310-cp310-manylinux_2_17_x86_64.manylinux2014_x86_64.whl (11.8 MB)\n",
            "\u001b[2K     \u001b[90m━━━━━━━━━━━━━━━━━━━━━━━━━━━━━━━━━━━━━━━━\u001b[0m \u001b[32m11.8/11.8 MB\u001b[0m \u001b[31m73.8 MB/s\u001b[0m eta \u001b[36m0:00:00\u001b[0m\n",
            "\u001b[?25hRequirement already satisfied: numpy>=1.21 in /usr/local/lib/python3.10/dist-packages (from cartopy) (1.25.2)\n",
            "Requirement already satisfied: matplotlib>=3.4 in /usr/local/lib/python3.10/dist-packages (from cartopy) (3.7.1)\n",
            "Requirement already satisfied: shapely>=1.7 in /usr/local/lib/python3.10/dist-packages (from cartopy) (2.0.3)\n",
            "Requirement already satisfied: packaging>=20 in /usr/local/lib/python3.10/dist-packages (from cartopy) (24.0)\n",
            "Requirement already satisfied: pyshp>=2.1 in /usr/local/lib/python3.10/dist-packages (from cartopy) (2.3.1)\n",
            "Requirement already satisfied: pyproj>=3.1.0 in /usr/local/lib/python3.10/dist-packages (from cartopy) (3.6.1)\n",
            "Requirement already satisfied: contourpy>=1.0.1 in /usr/local/lib/python3.10/dist-packages (from matplotlib>=3.4->cartopy) (1.2.0)\n",
            "Requirement already satisfied: cycler>=0.10 in /usr/local/lib/python3.10/dist-packages (from matplotlib>=3.4->cartopy) (0.12.1)\n",
            "Requirement already satisfied: fonttools>=4.22.0 in /usr/local/lib/python3.10/dist-packages (from matplotlib>=3.4->cartopy) (4.50.0)\n",
            "Requirement already satisfied: kiwisolver>=1.0.1 in /usr/local/lib/python3.10/dist-packages (from matplotlib>=3.4->cartopy) (1.4.5)\n",
            "Requirement already satisfied: pillow>=6.2.0 in /usr/local/lib/python3.10/dist-packages (from matplotlib>=3.4->cartopy) (9.4.0)\n",
            "Requirement already satisfied: pyparsing>=2.3.1 in /usr/local/lib/python3.10/dist-packages (from matplotlib>=3.4->cartopy) (3.1.2)\n",
            "Requirement already satisfied: python-dateutil>=2.7 in /usr/local/lib/python3.10/dist-packages (from matplotlib>=3.4->cartopy) (2.8.2)\n",
            "Requirement already satisfied: certifi in /usr/local/lib/python3.10/dist-packages (from pyproj>=3.1.0->cartopy) (2024.2.2)\n",
            "Requirement already satisfied: six>=1.5 in /usr/local/lib/python3.10/dist-packages (from python-dateutil>=2.7->matplotlib>=3.4->cartopy) (1.16.0)\n",
            "Installing collected packages: cartopy\n",
            "Successfully installed cartopy-0.22.0\n"
          ]
        }
      ],
      "source": [
        "# cross validate the optimum number of GBM model estimators\n",
        "!pip install cartopy\n"
      ]
    },
    {
      "cell_type": "code",
      "source": [
        "from sklearn.neighbors import KNeighborsRegressor\n",
        "from sklearn.ensemble import GradientBoostingRegressor\n",
        "from mpl_toolkits.axes_grid1 import make_axes_locatable\n",
        "import numpy as np\n",
        "import matplotlib.pyplot as plt\n",
        "import pandas as pd\n",
        "import geopandas as gpd\n",
        "from shapely.geometry import mapping\n",
        "import cartopy.crs as ccrs\n",
        "from cartopy.feature import ShapelyFeature\n",
        "from cartopy.io.shapereader import Reader\n",
        "from sklearn.inspection import PartialDependenceDisplay\n",
        "from shapely.geometry import Point\n",
        "from sklearn.metrics import mean_absolute_error\n",
        "from scipy.stats import pearsonr\n",
        "from cartopy.feature import ShapelyFeature\n",
        "from cartopy.io.shapereader import Reader\n",
        "#from rasterio import CRS\n",
        "from shapely.geometry import mapping\n",
        "from sklearn.linear_model import LinearRegression\n",
        "from sklearn.ensemble import GradientBoostingRegressor\n",
        "from sklearn.ensemble import RandomForestRegressor\n",
        "from sklearn.linear_model import Ridge\n",
        "import functools\n",
        "import pickle\n",
        "import cartopy.feature as cf\n",
        "from scipy.stats import pearsonr\n",
        "from sklearn.preprocessing import StandardScaler\n",
        "from scipy.cluster.hierarchy import dendrogram\n",
        "from sklearn.cluster import AgglomerativeClustering\n",
        "import seaborn as sns\n",
        "from sklearn.metrics import mean_absolute_error\n",
        "from scipy.stats import pearsonr\n",
        "from sklearn.metrics import r2_score\n",
        "import itertools\n",
        "from sklearn.preprocessing import MinMaxScaler\n",
        "from sklearn.model_selection import GridSearchCV\n",
        "from sklearn.model_selection import GroupKFold"
      ],
      "metadata": {
        "id": "1H-04PveZ9ea"
      },
      "execution_count": 2,
      "outputs": []
    },
    {
      "cell_type": "code",
      "source": [
        "# to determine split, take random set of 5 years, create evaluation period, then split training in half, and test number of estimators on each half,\n",
        "# this will mean model is trained number of folds * number of estimators times. (2*6) times"
      ],
      "metadata": {
        "id": "8_sx8KVdbdhR"
      },
      "execution_count": 3,
      "outputs": []
    },
    {
      "cell_type": "code",
      "source": [
        "# do cv split based on year, split years into 2 folds and evaluate a range of n_estimators from 2, 10, 50, 100, 200, 500"
      ],
      "metadata": {
        "id": "gYaNa_vJaCvj"
      },
      "execution_count": 4,
      "outputs": []
    },
    {
      "cell_type": "code",
      "source": [
        "# load df\n",
        "df = pd.read_csv('/content/drive/MyDrive/VHI_spei_rzsm_dataset.csv')\n",
        "print(df)"
      ],
      "metadata": {
        "colab": {
          "base_uri": "https://localhost:8080/"
        },
        "id": "158Bb6Y-am6b",
        "outputId": "e10bfee9-7e21-450a-ddc0-744ffb976ce2"
      },
      "execution_count": 5,
      "outputs": [
        {
          "output_type": "stream",
          "name": "stdout",
          "text": [
            "           lon     lat      vhi-1   precip-1      rzsm-1  spei1-1m  spei2-1m  \\\n",
            "0      -53.375 -32.125  70.414172  259.20056   98.021910  2.192168  1.313241   \n",
            "1      -53.375 -32.125  79.323750  146.58607   98.162980  1.228278  2.453098   \n",
            "2      -53.375 -32.125  77.111895  184.82845   97.594270  1.472914  1.588110   \n",
            "3      -53.375 -32.125  64.150561  108.86273   97.605330  1.680747  1.751371   \n",
            "4      -53.375 -32.125  54.270359  145.90760  100.000000  1.641170  1.900034   \n",
            "...        ...     ...        ...        ...         ...       ...       ...   \n",
            "577682 -47.625  -0.875  41.102345  170.38158   66.929490  0.324701  0.572972   \n",
            "577683 -47.625  -0.875  49.922513  294.35620   80.138200  1.130223  0.881931   \n",
            "577684 -47.625  -0.875  52.101102  125.48111   88.888840  2.664571  2.250521   \n",
            "577685 -47.625  -0.875  46.753572   24.13338   77.834076  2.523025  3.002636   \n",
            "577686 -47.625  -0.875  48.627606   71.58264   69.860950  1.286047  2.275886   \n",
            "\n",
            "        spei3-1m   spi01-1   spi02-1   spi03-1     pev-1   longrad-1  \\\n",
            "0       2.266991  1.718010  1.131672  1.956504 -0.004538  387.621424   \n",
            "1       1.678403  1.015022  1.645683  1.368535 -0.003293  376.919222   \n",
            "2       2.096257  0.956124  1.150522  1.621207 -0.002408  345.837482   \n",
            "3       1.845372  0.412008  0.789140  1.030642 -0.001716  334.681940   \n",
            "4       1.926722  0.966855  0.774759  0.982040 -0.001001  338.842544   \n",
            "...          ...       ...       ...       ...       ...         ...   \n",
            "577682  1.015577  1.146655  0.969593  0.674176 -0.004356  412.320024   \n",
            "577683  0.859094  1.573595  1.592416  1.312561 -0.004909  410.370278   \n",
            "577684  1.929124  2.537942  2.341496  2.211642 -0.005699  410.550830   \n",
            "577685  2.507460  1.575954  2.610072  2.547964 -0.005919  415.099818   \n",
            "577686  2.791671  1.595141  2.002994  2.608675 -0.005324  417.379510   \n",
            "\n",
            "             t2m-1  month  year        VHI  \n",
            "0       296.530026      3  2003  79.323750  \n",
            "1       294.303754      4  2003  77.111895  \n",
            "2       290.164102      5  2003  64.150561  \n",
            "3       288.467444      6  2003  54.270359  \n",
            "4       286.129896      7  2003  59.200781  \n",
            "...            ...    ...   ...        ...  \n",
            "577682  299.706968      7  2021  49.922513  \n",
            "577683  300.173380      8  2021  52.101102  \n",
            "577684  300.253404      9  2021  46.753572  \n",
            "577685  300.919370     10  2021  48.627606  \n",
            "577686  300.832808     11  2021  47.450658  \n",
            "\n",
            "[577687 rows x 17 columns]\n"
          ]
        }
      ]
    },
    {
      "cell_type": "code",
      "source": [
        "# need to loop through df separate specified years into train and test\n",
        "n_estimators_list = [2,10,25,50,100,200,500]\n",
        "# obtain random set of years for testing\n",
        "print(df['year'].unique())\n",
        "test_yrs = np.random.choice(df['year'].unique(),replace=False,size=5)\n",
        "print(test_yrs)"
      ],
      "metadata": {
        "id": "w2VrCCPReyGg",
        "colab": {
          "base_uri": "https://localhost:8080/"
        },
        "outputId": "2a00f012-ed30-4ffd-ffcb-074fb76cfe10"
      },
      "execution_count": 6,
      "outputs": [
        {
          "output_type": "stream",
          "name": "stdout",
          "text": [
            "[2003 2004 2005 2006 2007 2008 2009 2010 2011 2012 2013 2014 2015 2016\n",
            " 2017 2018 2019 2020 2021]\n",
            "[2003 2008 2018 2007 2019]\n"
          ]
        }
      ]
    },
    {
      "cell_type": "code",
      "source": [
        "# remove test_yrs from dataset, then split training into fold1 and fold2\n",
        "test_df = df[df['year'].isin(test_yrs)]\n",
        "###\n",
        "train_df = df[~df['year'].isin(test_yrs)]\n",
        "# split train_df in half for fold 1 and fold 2\n",
        "print(len(train_df['year'].unique()))\n",
        "print(int(len(train_df['year'].unique())/2))\n",
        "split = int(len(train_df['year'].unique())/2)\n",
        "print(train_df['year'].unique())\n",
        "f1_years = train_df['year'].unique()[:split]\n",
        "print(f1_years)\n",
        "f2_years = train_df['year'].unique()[split:]\n",
        "print(f2_years)\n",
        "## use f1 years and f2 years to split dataframe\n",
        "train_df_ri = train_df.reset_index()\n",
        "f1_df = train_df_ri[~train_df_ri['year'].isin(f1_years)]\n",
        "f2_df = train_df_ri[~train_df_ri['year'].isin(f2_years)]\n",
        "\n",
        "f1_inds = f1_df.index\n",
        "f2_inds = f2_df.index"
      ],
      "metadata": {
        "colab": {
          "base_uri": "https://localhost:8080/"
        },
        "id": "3g5g1DlLgolo",
        "outputId": "6829dd63-698f-40cb-bd8b-152b36bad8d6"
      },
      "execution_count": 7,
      "outputs": [
        {
          "output_type": "stream",
          "name": "stdout",
          "text": [
            "14\n",
            "7\n",
            "[2004 2005 2006 2009 2010 2011 2012 2013 2014 2015 2016 2017 2020 2021]\n",
            "[2004 2005 2006 2009 2010 2011 2012]\n",
            "[2013 2014 2015 2016 2017 2020 2021]\n"
          ]
        }
      ]
    },
    {
      "cell_type": "code",
      "source": [
        "print(max(f1_inds))\n",
        "print(max(f2_inds))"
      ],
      "metadata": {
        "colab": {
          "base_uri": "https://localhost:8080/"
        },
        "id": "LF4bjzYq0Ip8",
        "outputId": "e7cc977c-7ece-4b2b-ee7b-3a37b2d19e2e"
      },
      "execution_count": 8,
      "outputs": [
        {
          "output_type": "stream",
          "name": "stdout",
          "text": [
            "427503\n",
            "427426\n"
          ]
        }
      ]
    },
    {
      "cell_type": "code",
      "source": [
        "folds_list=[]\n",
        "folds_list.append([f1_inds,f2_inds])\n",
        "folds_list.append([f2_inds,f1_inds])"
      ],
      "metadata": {
        "id": "q4CLsW6ev34A"
      },
      "execution_count": 9,
      "outputs": []
    },
    {
      "cell_type": "code",
      "source": [
        "print(len(f1_inds))\n",
        "print(len(f2_inds))"
      ],
      "metadata": {
        "colab": {
          "base_uri": "https://localhost:8080/"
        },
        "id": "9-q76pxhqXn1",
        "outputId": "50dc00ad-f64c-4136-b7aa-7ed5a34868f1"
      },
      "execution_count": 10,
      "outputs": [
        {
          "output_type": "stream",
          "name": "stdout",
          "text": [
            "213752\n",
            "213752\n"
          ]
        }
      ]
    },
    {
      "cell_type": "code",
      "source": [
        "group = df.year.tolist()\n",
        "target='VHI'\n",
        "y = df[target]\n",
        "x = df.drop(columns=[target])"
      ],
      "metadata": {
        "id": "vLnFZJ0d7XyM"
      },
      "execution_count": 11,
      "outputs": []
    },
    {
      "cell_type": "code",
      "source": [
        "gkf = GroupKFold(n_splits=2)\n",
        "for train_index, test_index in gkf.split(x,groups=group):\n",
        "  print('train: ',train_index, 'test: ', test_index)\n",
        "  xtrain = x.iloc[train_index,:]\n",
        "  ytrain = y[train_index]\n",
        "  xtest = x.iloc[test_index,:]\n",
        "  ytest = y[test_index]"
      ],
      "metadata": {
        "colab": {
          "base_uri": "https://localhost:8080/"
        },
        "id": "iD2lLFLx7_1m",
        "outputId": "5eb7728e-35d7-40be-9b01-f864e73366d1"
      },
      "execution_count": 12,
      "outputs": [
        {
          "output_type": "stream",
          "name": "stdout",
          "text": [
            "train:  [    21     22     23 ... 577662 577663 577664] test:  [     0      1      2 ... 577684 577685 577686]\n",
            "train:  [     0      1      2 ... 577684 577685 577686] test:  [    21     22     23 ... 577662 577663 577664]\n"
          ]
        }
      ]
    },
    {
      "cell_type": "code",
      "source": [
        "print(xtrain['year'].unique())\n",
        "print(xtest['year'].unique())"
      ],
      "metadata": {
        "colab": {
          "base_uri": "https://localhost:8080/"
        },
        "id": "lpOAyrAU-glz",
        "outputId": "6d9577a4-f621-4c4f-ccad-6a7e84cebf27"
      },
      "execution_count": 15,
      "outputs": [
        {
          "output_type": "stream",
          "name": "stdout",
          "text": [
            "[2003 2004 2006 2008 2010 2014 2016 2018 2020 2021]\n",
            "[2005 2007 2009 2011 2012 2013 2015 2017 2019]\n"
          ]
        }
      ]
    },
    {
      "cell_type": "code",
      "source": [
        "# use grid search cv\n",
        "#define estimator\n",
        "GBM_model = GradientBoostingRegressor()\n",
        "# optimize number of estimators\n",
        "param_grid = {'n_estimators':[2,10,25,50,100,200,500]}\n",
        "grid_cv = GridSearchCV(GBM_model,param_grid,cv=folds_list,scoring='r2',verbose=3)"
      ],
      "metadata": {
        "id": "SnwJotUvgzt2"
      },
      "execution_count": 13,
      "outputs": []
    },
    {
      "cell_type": "code",
      "source": [
        "print(train_df)"
      ],
      "metadata": {
        "colab": {
          "base_uri": "https://localhost:8080/"
        },
        "id": "P1-phtIYEMoM",
        "outputId": "1413420d-cd9b-4e6b-ff81-3f53f5b6c524"
      },
      "execution_count": 14,
      "outputs": [
        {
          "output_type": "stream",
          "name": "stdout",
          "text": [
            "           lon     lat      vhi-1    precip-1     rzsm-1  spei1-1m  spei2-1m  \\\n",
            "10     -53.375 -32.125  73.110243   93.459870  89.760190  0.913728  1.407378   \n",
            "11     -53.375 -32.125  74.837337   90.174545  78.365650 -1.222433 -0.361730   \n",
            "12     -53.375 -32.125  73.001294   92.257020  68.668460 -1.261923 -1.566396   \n",
            "13     -53.375 -32.125  60.152641   28.917168  39.233734 -1.743715 -1.912013   \n",
            "14     -53.375 -32.125  77.111895  119.559280  31.643470  1.309331  0.199211   \n",
            "...        ...     ...        ...         ...        ...       ...       ...   \n",
            "577682 -47.625  -0.875  41.102345  170.381580  66.929490  0.324701  0.572972   \n",
            "577683 -47.625  -0.875  49.922513  294.356200  80.138200  1.130223  0.881931   \n",
            "577684 -47.625  -0.875  52.101102  125.481110  88.888840  2.664571  2.250521   \n",
            "577685 -47.625  -0.875  46.753572   24.133380  77.834076  2.523025  3.002636   \n",
            "577686 -47.625  -0.875  48.627606   71.582640  69.860950  1.286047  2.275886   \n",
            "\n",
            "        spei3-1m   spi01-1   spi02-1   spi03-1     pev-1   longrad-1  \\\n",
            "10      0.787384  0.637182  0.764428  0.625651 -0.005880  351.876398   \n",
            "11      0.462088 -0.407086 -0.712073 -0.214704 -0.005457  370.506204   \n",
            "12     -0.968919 -1.459108 -1.131846 -1.386355 -0.004532  361.331590   \n",
            "13     -2.001275  0.743208 -0.110053 -0.344602 -0.003466  363.690520   \n",
            "14     -0.493743  1.358738  1.250238  0.649645 -0.001358  334.936544   \n",
            "...          ...       ...       ...       ...       ...         ...   \n",
            "577682  1.015577  1.146655  0.969593  0.674176 -0.004356  412.320024   \n",
            "577683  0.859094  1.573595  1.592416  1.312561 -0.004909  410.370278   \n",
            "577684  1.929124  2.537942  2.341496  2.211642 -0.005699  410.550830   \n",
            "577685  2.507460  1.575954  2.610072  2.547964 -0.005919  415.099818   \n",
            "577686  2.791671  1.595141  2.002994  2.608675 -0.005324  417.379510   \n",
            "\n",
            "             t2m-1  month  year        VHI  \n",
            "10      293.342426      1  2004  74.837337  \n",
            "11      295.370870      2  2004  73.001294  \n",
            "12      294.607378      3  2004  60.152641  \n",
            "13      293.651540      4  2004  77.111895  \n",
            "14      286.650224      5  2004  64.150561  \n",
            "...            ...    ...   ...        ...  \n",
            "577682  299.706968      7  2021  49.922513  \n",
            "577683  300.173380      8  2021  52.101102  \n",
            "577684  300.253404      9  2021  46.753572  \n",
            "577685  300.919370     10  2021  48.627606  \n",
            "577686  300.832808     11  2021  47.450658  \n",
            "\n",
            "[427504 rows x 17 columns]\n"
          ]
        }
      ]
    },
    {
      "cell_type": "code",
      "source": [
        "trainx = train_df.drop(columns=['VHI'])\n",
        "trainy = train_df['VHI']\n",
        "# scale inputs\n",
        "scaler = StandardScaler()\n",
        "trainx_sc = scaler.fit_transform(trainx)"
      ],
      "metadata": {
        "id": "8Zv1ssyoEQmT"
      },
      "execution_count": 16,
      "outputs": []
    },
    {
      "cell_type": "code",
      "source": [
        "print(len(trainy))\n",
        "print(len(trainx_sc))"
      ],
      "metadata": {
        "colab": {
          "base_uri": "https://localhost:8080/"
        },
        "id": "ISNGaro9yUEk",
        "outputId": "be6b71dc-a60b-48c9-ed12-2c98425378f0"
      },
      "execution_count": 17,
      "outputs": [
        {
          "output_type": "stream",
          "name": "stdout",
          "text": [
            "427504\n",
            "427504\n"
          ]
        }
      ]
    },
    {
      "cell_type": "code",
      "source": [
        "print(trainy)"
      ],
      "metadata": {
        "colab": {
          "base_uri": "https://localhost:8080/"
        },
        "id": "LIklsJ0V0t6I",
        "outputId": "5dcccc0a-032d-4117-fa90-1546b3c8d77d"
      },
      "execution_count": 18,
      "outputs": [
        {
          "output_type": "stream",
          "name": "stdout",
          "text": [
            "10        74.837337\n",
            "11        73.001294\n",
            "12        60.152641\n",
            "13        77.111895\n",
            "14        64.150561\n",
            "            ...    \n",
            "577682    49.922513\n",
            "577683    52.101102\n",
            "577684    46.753572\n",
            "577685    48.627606\n",
            "577686    47.450658\n",
            "Name: VHI, Length: 427504, dtype: float64\n"
          ]
        }
      ]
    },
    {
      "cell_type": "code",
      "source": [
        "grid_result = grid_cv.fit(trainx_sc,trainy)"
      ],
      "metadata": {
        "colab": {
          "base_uri": "https://localhost:8080/"
        },
        "id": "LTEKnrfJKmX4",
        "outputId": "17a8e5f9-7468-437d-a23b-209e8cfa3b6e"
      },
      "execution_count": null,
      "outputs": [
        {
          "output_type": "stream",
          "name": "stdout",
          "text": [
            "Fitting 2 folds for each of 7 candidates, totalling 14 fits\n",
            "[CV 1/2] END ....................n_estimators=2;, score=0.165 total time=   3.3s\n",
            "[CV 2/2] END ....................n_estimators=2;, score=0.166 total time=   3.2s\n",
            "[CV 1/2] END ...................n_estimators=10;, score=0.480 total time=  16.2s\n",
            "[CV 2/2] END ...................n_estimators=10;, score=0.463 total time=  15.9s\n",
            "[CV 1/2] END ...................n_estimators=25;, score=0.599 total time=  39.2s\n",
            "[CV 2/2] END ...................n_estimators=25;, score=0.553 total time=  39.2s\n",
            "[CV 1/2] END ...................n_estimators=50;, score=0.625 total time= 1.3min\n",
            "[CV 2/2] END ...................n_estimators=50;, score=0.570 total time= 1.3min\n",
            "[CV 1/2] END ..................n_estimators=100;, score=0.629 total time= 2.6min\n",
            "[CV 2/2] END ..................n_estimators=100;, score=0.574 total time= 2.6min\n",
            "[CV 1/2] END ..................n_estimators=200;, score=0.614 total time= 5.2min\n",
            "[CV 2/2] END ..................n_estimators=200;, score=0.577 total time= 5.1min\n",
            "[CV 1/2] END ..................n_estimators=500;, score=0.597 total time=12.9min\n",
            "[CV 2/2] END ..................n_estimators=500;, score=0.575 total time=13.0min\n"
          ]
        }
      ]
    },
    {
      "cell_type": "code",
      "source": [
        "# produce plot of model fit average r2 scores against number of estimators\n",
        "print(grid_result.best_score_)\n",
        "print(grid_result.best_params_)"
      ],
      "metadata": {
        "colab": {
          "base_uri": "https://localhost:8080/"
        },
        "id": "zujsET2nAz0y",
        "outputId": "fc14e317-403a-46b7-d061-ee07ff3cfa46"
      },
      "execution_count": null,
      "outputs": [
        {
          "output_type": "stream",
          "name": "stdout",
          "text": [
            "0.6014799169723971\n",
            "{'n_estimators': 100}\n"
          ]
        }
      ]
    },
    {
      "cell_type": "code",
      "source": [
        "# test model with best params on hold out test dataset\n",
        "GBM_model = GradientBoostingRegressor(n_estimators=100)\n",
        "GBM_model.fit(trainx_sc,trainy)"
      ],
      "metadata": {
        "colab": {
          "base_uri": "https://localhost:8080/",
          "height": 75
        },
        "id": "3TSVBHW2KY2O",
        "outputId": "fc75b933-038c-4860-e00c-19fb68b84cda"
      },
      "execution_count": 19,
      "outputs": [
        {
          "output_type": "execute_result",
          "data": {
            "text/plain": [
              "GradientBoostingRegressor()"
            ],
            "text/html": [
              "<style>#sk-container-id-1 {color: black;background-color: white;}#sk-container-id-1 pre{padding: 0;}#sk-container-id-1 div.sk-toggleable {background-color: white;}#sk-container-id-1 label.sk-toggleable__label {cursor: pointer;display: block;width: 100%;margin-bottom: 0;padding: 0.3em;box-sizing: border-box;text-align: center;}#sk-container-id-1 label.sk-toggleable__label-arrow:before {content: \"▸\";float: left;margin-right: 0.25em;color: #696969;}#sk-container-id-1 label.sk-toggleable__label-arrow:hover:before {color: black;}#sk-container-id-1 div.sk-estimator:hover label.sk-toggleable__label-arrow:before {color: black;}#sk-container-id-1 div.sk-toggleable__content {max-height: 0;max-width: 0;overflow: hidden;text-align: left;background-color: #f0f8ff;}#sk-container-id-1 div.sk-toggleable__content pre {margin: 0.2em;color: black;border-radius: 0.25em;background-color: #f0f8ff;}#sk-container-id-1 input.sk-toggleable__control:checked~div.sk-toggleable__content {max-height: 200px;max-width: 100%;overflow: auto;}#sk-container-id-1 input.sk-toggleable__control:checked~label.sk-toggleable__label-arrow:before {content: \"▾\";}#sk-container-id-1 div.sk-estimator input.sk-toggleable__control:checked~label.sk-toggleable__label {background-color: #d4ebff;}#sk-container-id-1 div.sk-label input.sk-toggleable__control:checked~label.sk-toggleable__label {background-color: #d4ebff;}#sk-container-id-1 input.sk-hidden--visually {border: 0;clip: rect(1px 1px 1px 1px);clip: rect(1px, 1px, 1px, 1px);height: 1px;margin: -1px;overflow: hidden;padding: 0;position: absolute;width: 1px;}#sk-container-id-1 div.sk-estimator {font-family: monospace;background-color: #f0f8ff;border: 1px dotted black;border-radius: 0.25em;box-sizing: border-box;margin-bottom: 0.5em;}#sk-container-id-1 div.sk-estimator:hover {background-color: #d4ebff;}#sk-container-id-1 div.sk-parallel-item::after {content: \"\";width: 100%;border-bottom: 1px solid gray;flex-grow: 1;}#sk-container-id-1 div.sk-label:hover label.sk-toggleable__label {background-color: #d4ebff;}#sk-container-id-1 div.sk-serial::before {content: \"\";position: absolute;border-left: 1px solid gray;box-sizing: border-box;top: 0;bottom: 0;left: 50%;z-index: 0;}#sk-container-id-1 div.sk-serial {display: flex;flex-direction: column;align-items: center;background-color: white;padding-right: 0.2em;padding-left: 0.2em;position: relative;}#sk-container-id-1 div.sk-item {position: relative;z-index: 1;}#sk-container-id-1 div.sk-parallel {display: flex;align-items: stretch;justify-content: center;background-color: white;position: relative;}#sk-container-id-1 div.sk-item::before, #sk-container-id-1 div.sk-parallel-item::before {content: \"\";position: absolute;border-left: 1px solid gray;box-sizing: border-box;top: 0;bottom: 0;left: 50%;z-index: -1;}#sk-container-id-1 div.sk-parallel-item {display: flex;flex-direction: column;z-index: 1;position: relative;background-color: white;}#sk-container-id-1 div.sk-parallel-item:first-child::after {align-self: flex-end;width: 50%;}#sk-container-id-1 div.sk-parallel-item:last-child::after {align-self: flex-start;width: 50%;}#sk-container-id-1 div.sk-parallel-item:only-child::after {width: 0;}#sk-container-id-1 div.sk-dashed-wrapped {border: 1px dashed gray;margin: 0 0.4em 0.5em 0.4em;box-sizing: border-box;padding-bottom: 0.4em;background-color: white;}#sk-container-id-1 div.sk-label label {font-family: monospace;font-weight: bold;display: inline-block;line-height: 1.2em;}#sk-container-id-1 div.sk-label-container {text-align: center;}#sk-container-id-1 div.sk-container {/* jupyter's `normalize.less` sets `[hidden] { display: none; }` but bootstrap.min.css set `[hidden] { display: none !important; }` so we also need the `!important` here to be able to override the default hidden behavior on the sphinx rendered scikit-learn.org. See: https://github.com/scikit-learn/scikit-learn/issues/21755 */display: inline-block !important;position: relative;}#sk-container-id-1 div.sk-text-repr-fallback {display: none;}</style><div id=\"sk-container-id-1\" class=\"sk-top-container\"><div class=\"sk-text-repr-fallback\"><pre>GradientBoostingRegressor()</pre><b>In a Jupyter environment, please rerun this cell to show the HTML representation or trust the notebook. <br />On GitHub, the HTML representation is unable to render, please try loading this page with nbviewer.org.</b></div><div class=\"sk-container\" hidden><div class=\"sk-item\"><div class=\"sk-estimator sk-toggleable\"><input class=\"sk-toggleable__control sk-hidden--visually\" id=\"sk-estimator-id-1\" type=\"checkbox\" checked><label for=\"sk-estimator-id-1\" class=\"sk-toggleable__label sk-toggleable__label-arrow\">GradientBoostingRegressor</label><div class=\"sk-toggleable__content\"><pre>GradientBoostingRegressor()</pre></div></div></div></div></div>"
            ]
          },
          "metadata": {},
          "execution_count": 19
        }
      ]
    },
    {
      "cell_type": "code",
      "source": [
        "testx = test_df.drop(columns=['VHI'])\n",
        "testy = test_df['VHI']\n",
        "testx_sc = scaler.transform(testx)"
      ],
      "metadata": {
        "id": "Te5KDKBHPvsW"
      },
      "execution_count": 20,
      "outputs": []
    },
    {
      "cell_type": "code",
      "source": [
        "predictions = GBM_model.predict(testx_sc)"
      ],
      "metadata": {
        "id": "g5sAsRErPUdn"
      },
      "execution_count": 21,
      "outputs": []
    },
    {
      "cell_type": "code",
      "source": [
        "print(r2_score(testy,predictions))\n",
        "test_r2_score = r2_score(testy,predictions)"
      ],
      "metadata": {
        "colab": {
          "base_uri": "https://localhost:8080/"
        },
        "id": "lxYFoox-P__x",
        "outputId": "37cdcb42-f5b7-4421-f678-01abebc3ad7b"
      },
      "execution_count": 23,
      "outputs": [
        {
          "output_type": "stream",
          "name": "stdout",
          "text": [
            "0.6111079659396546\n"
          ]
        }
      ]
    },
    {
      "cell_type": "code",
      "source": [
        "# Get line plot of estimators vs R2 performance\n",
        "# save model outputs to use in plotting script\n",
        "print(len(predictions))\n",
        "print(predictions.shape)\n",
        "print(testx)"
      ],
      "metadata": {
        "id": "EgdWwUkvJFRb",
        "colab": {
          "base_uri": "https://localhost:8080/"
        },
        "outputId": "3c2a5c74-e96e-47e0-a8e8-8e070101a298"
      },
      "execution_count": 27,
      "outputs": [
        {
          "output_type": "stream",
          "name": "stdout",
          "text": [
            "150183\n",
            "(150183,)\n",
            "           lon     lat      vhi-1    precip-1      rzsm-1  spei1-1m  spei2-1m  \\\n",
            "0      -53.375 -32.125  70.414172  259.200560   98.021910  2.192168  1.313241   \n",
            "1      -53.375 -32.125  79.323750  146.586070   98.162980  1.228278  2.453098   \n",
            "2      -53.375 -32.125  77.111895  184.828450   97.594270  1.472914  1.588110   \n",
            "3      -53.375 -32.125  64.150561  108.862730   97.605330  1.680747  1.751371   \n",
            "4      -53.375 -32.125  54.270359  145.907600  100.000000  1.641170  1.900034   \n",
            "...        ...     ...        ...         ...         ...       ...       ...   \n",
            "577660 -47.625  -0.875  40.887218  273.721040   69.872240  0.256454 -0.125266   \n",
            "577661 -47.625  -0.875  40.887218  138.636630   49.382520 -0.555288 -0.168773   \n",
            "577662 -47.625  -0.875  50.892596  132.648000   52.529457  0.057421 -0.337412   \n",
            "577663 -47.625  -0.875  43.292766   18.556600   48.998238  0.275302  0.111811   \n",
            "577664 -47.625  -0.875  46.295286   36.166164   45.469177  1.248383  0.872078   \n",
            "\n",
            "        spei3-1m   spi01-1   spi02-1   spi03-1     pev-1   longrad-1  \\\n",
            "0       2.266991  1.718010  1.131672  1.956504 -0.004538  387.621424   \n",
            "1       1.678403  1.015022  1.645683  1.368535 -0.003293  376.919222   \n",
            "2       2.096257  0.956124  1.150522  1.621207 -0.002408  345.837482   \n",
            "3       1.845372  0.412008  0.789140  1.030642 -0.001716  334.681940   \n",
            "4       1.926722  0.966855  0.774759  0.982040 -0.001001  338.842544   \n",
            "...          ...       ...       ...       ...       ...         ...   \n",
            "577660  0.722608 -0.035469  0.724087  0.535668 -0.004465  411.453620   \n",
            "577661 -0.320905  0.397892  0.152872  0.678610 -0.005219  410.579416   \n",
            "577662 -0.146564  1.039475  0.730772  0.422252 -0.006154  411.501680   \n",
            "577663 -0.228921  1.288790  1.500064  1.160143 -0.006485  412.035546   \n",
            "577664  0.487677  1.427190  1.714678  1.835401 -0.006285  415.294670   \n",
            "\n",
            "             t2m-1  month  year  \n",
            "0       296.530026      3  2003  \n",
            "1       294.303754      4  2003  \n",
            "2       290.164102      5  2003  \n",
            "3       288.467444      6  2003  \n",
            "4       286.129896      7  2003  \n",
            "...            ...    ...   ...  \n",
            "577660  299.832328      7  2019  \n",
            "577661  300.216304      8  2019  \n",
            "577662  300.688904      9  2019  \n",
            "577663  300.875056     10  2019  \n",
            "577664  300.780948     11  2019  \n",
            "\n",
            "[150183 rows x 16 columns]\n"
          ]
        }
      ]
    },
    {
      "cell_type": "code",
      "source": [
        "# bring lat, lon, month and year together\n",
        "results_df = pd.DataFrame({'lat':testx['lat'],'lon':testx['lon'],'month':testx['month'],'year':testx['year'],'predictions':predictions,'testy':testy})"
      ],
      "metadata": {
        "id": "vcrJysSbClHM"
      },
      "execution_count": 29,
      "outputs": []
    },
    {
      "cell_type": "code",
      "source": [
        "results_df.to_csv('/content/drive/MyDrive/model_outs/GBM_out_df_optimized.csv',index=False)"
      ],
      "metadata": {
        "id": "Tj-PI3C2EL39"
      },
      "execution_count": 30,
      "outputs": []
    }
  ]
}