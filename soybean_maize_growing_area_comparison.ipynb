{
  "cells": [
    {
      "cell_type": "markdown",
      "metadata": {
        "id": "view-in-github",
        "colab_type": "text"
      },
      "source": [
        "<a href=\"https://colab.research.google.com/github/Jgallear/CSSP_brazil_23_24/blob/main/soybean_maize_growing_area_comparison.ipynb\" target=\"_parent\"><img src=\"https://colab.research.google.com/assets/colab-badge.svg\" alt=\"Open In Colab\"/></a>"
      ]
    },
    {
      "cell_type": "code",
      "execution_count": null,
      "metadata": {
        "colab": {
          "base_uri": "https://localhost:8080/"
        },
        "id": "QYB0Q-QbC0RA",
        "outputId": "2fbcd107-75e6-480a-b73c-c7c17c5a64ea"
      },
      "outputs": [
        {
          "output_type": "stream",
          "name": "stdout",
          "text": [
            "Collecting cartopy\n",
            "  Downloading Cartopy-0.24.1-cp310-cp310-manylinux_2_17_x86_64.manylinux2014_x86_64.whl.metadata (7.9 kB)\n",
            "Requirement already satisfied: numpy>=1.23 in /usr/local/lib/python3.10/dist-packages (from cartopy) (1.26.4)\n",
            "Requirement already satisfied: matplotlib>=3.6 in /usr/local/lib/python3.10/dist-packages (from cartopy) (3.8.0)\n",
            "Requirement already satisfied: shapely>=1.8 in /usr/local/lib/python3.10/dist-packages (from cartopy) (2.0.6)\n",
            "Requirement already satisfied: packaging>=21 in /usr/local/lib/python3.10/dist-packages (from cartopy) (24.2)\n",
            "Requirement already satisfied: pyshp>=2.3 in /usr/local/lib/python3.10/dist-packages (from cartopy) (2.3.1)\n",
            "Requirement already satisfied: pyproj>=3.3.1 in /usr/local/lib/python3.10/dist-packages (from cartopy) (3.7.0)\n",
            "Requirement already satisfied: contourpy>=1.0.1 in /usr/local/lib/python3.10/dist-packages (from matplotlib>=3.6->cartopy) (1.3.1)\n",
            "Requirement already satisfied: cycler>=0.10 in /usr/local/lib/python3.10/dist-packages (from matplotlib>=3.6->cartopy) (0.12.1)\n",
            "Requirement already satisfied: fonttools>=4.22.0 in /usr/local/lib/python3.10/dist-packages (from matplotlib>=3.6->cartopy) (4.55.0)\n",
            "Requirement already satisfied: kiwisolver>=1.0.1 in /usr/local/lib/python3.10/dist-packages (from matplotlib>=3.6->cartopy) (1.4.7)\n",
            "Requirement already satisfied: pillow>=6.2.0 in /usr/local/lib/python3.10/dist-packages (from matplotlib>=3.6->cartopy) (11.0.0)\n",
            "Requirement already satisfied: pyparsing>=2.3.1 in /usr/local/lib/python3.10/dist-packages (from matplotlib>=3.6->cartopy) (3.2.0)\n",
            "Requirement already satisfied: python-dateutil>=2.7 in /usr/local/lib/python3.10/dist-packages (from matplotlib>=3.6->cartopy) (2.8.2)\n",
            "Requirement already satisfied: certifi in /usr/local/lib/python3.10/dist-packages (from pyproj>=3.3.1->cartopy) (2024.8.30)\n",
            "Requirement already satisfied: six>=1.5 in /usr/local/lib/python3.10/dist-packages (from python-dateutil>=2.7->matplotlib>=3.6->cartopy) (1.16.0)\n",
            "Downloading Cartopy-0.24.1-cp310-cp310-manylinux_2_17_x86_64.manylinux2014_x86_64.whl (11.7 MB)\n",
            "\u001b[2K   \u001b[90m━━━━━━━━━━━━━━━━━━━━━━━━━━━━━━━━━━━━━━━━\u001b[0m \u001b[32m11.7/11.7 MB\u001b[0m \u001b[31m99.1 MB/s\u001b[0m eta \u001b[36m0:00:00\u001b[0m\n",
            "\u001b[?25hInstalling collected packages: cartopy\n",
            "Successfully installed cartopy-0.24.1\n",
            "Collecting rioxarray\n",
            "  Downloading rioxarray-0.18.1-py3-none-any.whl.metadata (5.4 kB)\n",
            "Requirement already satisfied: packaging in /usr/local/lib/python3.10/dist-packages (from rioxarray) (24.2)\n",
            "Collecting rasterio>=1.3.7 (from rioxarray)\n",
            "  Downloading rasterio-1.4.2-cp310-cp310-manylinux_2_17_x86_64.manylinux2014_x86_64.whl.metadata (9.1 kB)\n",
            "Requirement already satisfied: xarray>=2024.7.0 in /usr/local/lib/python3.10/dist-packages (from rioxarray) (2024.10.0)\n",
            "Requirement already satisfied: pyproj>=3.3 in /usr/local/lib/python3.10/dist-packages (from rioxarray) (3.7.0)\n",
            "Requirement already satisfied: numpy>=1.23 in /usr/local/lib/python3.10/dist-packages (from rioxarray) (1.26.4)\n",
            "Requirement already satisfied: certifi in /usr/local/lib/python3.10/dist-packages (from pyproj>=3.3->rioxarray) (2024.8.30)\n",
            "Collecting affine (from rasterio>=1.3.7->rioxarray)\n",
            "  Downloading affine-2.4.0-py3-none-any.whl.metadata (4.0 kB)\n",
            "Requirement already satisfied: attrs in /usr/local/lib/python3.10/dist-packages (from rasterio>=1.3.7->rioxarray) (24.2.0)\n",
            "Requirement already satisfied: click>=4.0 in /usr/local/lib/python3.10/dist-packages (from rasterio>=1.3.7->rioxarray) (8.1.7)\n",
            "Collecting cligj>=0.5 (from rasterio>=1.3.7->rioxarray)\n",
            "  Downloading cligj-0.7.2-py3-none-any.whl.metadata (5.0 kB)\n",
            "Collecting click-plugins (from rasterio>=1.3.7->rioxarray)\n",
            "  Downloading click_plugins-1.1.1-py2.py3-none-any.whl.metadata (6.4 kB)\n",
            "Requirement already satisfied: pyparsing in /usr/local/lib/python3.10/dist-packages (from rasterio>=1.3.7->rioxarray) (3.2.0)\n",
            "Requirement already satisfied: pandas>=2.1 in /usr/local/lib/python3.10/dist-packages (from xarray>=2024.7.0->rioxarray) (2.2.2)\n",
            "Requirement already satisfied: python-dateutil>=2.8.2 in /usr/local/lib/python3.10/dist-packages (from pandas>=2.1->xarray>=2024.7.0->rioxarray) (2.8.2)\n",
            "Requirement already satisfied: pytz>=2020.1 in /usr/local/lib/python3.10/dist-packages (from pandas>=2.1->xarray>=2024.7.0->rioxarray) (2024.2)\n",
            "Requirement already satisfied: tzdata>=2022.7 in /usr/local/lib/python3.10/dist-packages (from pandas>=2.1->xarray>=2024.7.0->rioxarray) (2024.2)\n",
            "Requirement already satisfied: six>=1.5 in /usr/local/lib/python3.10/dist-packages (from python-dateutil>=2.8.2->pandas>=2.1->xarray>=2024.7.0->rioxarray) (1.16.0)\n",
            "Downloading rioxarray-0.18.1-py3-none-any.whl (61 kB)\n",
            "\u001b[2K   \u001b[90m━━━━━━━━━━━━━━━━━━━━━━━━━━━━━━━━━━━━━━━━\u001b[0m \u001b[32m61.9/61.9 kB\u001b[0m \u001b[31m1.4 MB/s\u001b[0m eta \u001b[36m0:00:00\u001b[0m\n",
            "\u001b[?25hDownloading rasterio-1.4.2-cp310-cp310-manylinux_2_17_x86_64.manylinux2014_x86_64.whl (22.2 MB)\n",
            "\u001b[2K   \u001b[90m━━━━━━━━━━━━━━━━━━━━━━━━━━━━━━━━━━━━━━━━\u001b[0m \u001b[32m22.2/22.2 MB\u001b[0m \u001b[31m79.7 MB/s\u001b[0m eta \u001b[36m0:00:00\u001b[0m\n",
            "\u001b[?25hDownloading cligj-0.7.2-py3-none-any.whl (7.1 kB)\n",
            "Downloading affine-2.4.0-py3-none-any.whl (15 kB)\n",
            "Downloading click_plugins-1.1.1-py2.py3-none-any.whl (7.5 kB)\n",
            "Installing collected packages: cligj, click-plugins, affine, rasterio, rioxarray\n",
            "Successfully installed affine-2.4.0 click-plugins-1.1.1 cligj-0.7.2 rasterio-1.4.2 rioxarray-0.18.1\n"
          ]
        }
      ],
      "source": [
        "# Forecast across brazil but use harvested area threshold to filter out grid cells below 75th percentile of harvested area\n",
        "!pip install cartopy\n",
        "!pip install rioxarray"
      ]
    },
    {
      "cell_type": "code",
      "execution_count": null,
      "metadata": {
        "id": "kobajbrAC9UI"
      },
      "outputs": [],
      "source": [
        "from sklearn.neighbors import KNeighborsRegressor\n",
        "from sklearn.ensemble import GradientBoostingRegressor\n",
        "from mpl_toolkits.axes_grid1 import make_axes_locatable\n",
        "import numpy as np\n",
        "import matplotlib.pyplot as plt\n",
        "import pandas as pd\n",
        "import geopandas as gpd\n",
        "from shapely.geometry import mapping\n",
        "import cartopy.crs as ccrs\n",
        "from cartopy.feature import ShapelyFeature\n",
        "from cartopy.io.shapereader import Reader\n",
        "from sklearn.inspection import PartialDependenceDisplay\n",
        "from shapely.geometry import Point\n",
        "from sklearn.metrics import mean_absolute_error\n",
        "from scipy.stats import pearsonr\n",
        "from cartopy.feature import ShapelyFeature\n",
        "from cartopy.io.shapereader import Reader\n",
        "from rasterio import CRS\n",
        "from shapely.geometry import mapping\n",
        "import xarray as xr\n",
        "from statsmodels.graphics.tsaplots import plot_acf\n",
        "from keras import Sequential\n",
        "from keras.layers import LSTM\n",
        "from keras.layers import Dense\n",
        "from sklearn.linear_model import LinearRegression\n",
        "from sklearn.ensemble import GradientBoostingRegressor\n",
        "from sklearn.ensemble import RandomForestRegressor\n",
        "import functools\n",
        "import pickle\n",
        "import cartopy.feature as cf\n",
        "from scipy.stats import pearsonr"
      ]
    },
    {
      "cell_type": "code",
      "execution_count": null,
      "metadata": {
        "colab": {
          "base_uri": "https://localhost:8080/"
        },
        "id": "LrfQC_ygC_w2",
        "outputId": "cdecfdfa-996a-4de4-dbd1-c6691912c467"
      },
      "outputs": [
        {
          "output_type": "stream",
          "name": "stdout",
          "text": [
            "            lon     lat        VHI  year  month     precip  rtzsm_inst\n",
            "0       -53.375 -33.625  51.021667  2003      2  259.88287   98.905430\n",
            "1       -53.375 -33.375  56.413615  2003      2  263.87030   98.808440\n",
            "2       -53.125 -33.375  51.933297  2003      2  264.47006   97.968110\n",
            "3       -53.125 -33.125  56.654990  2003      2  272.27457   98.378110\n",
            "4       -52.875 -33.125  49.726269  2003      2  257.30900   97.940735\n",
            "...         ...     ...        ...   ...    ...        ...         ...\n",
            "2567138 -60.375   4.875  62.075416  2021     12  150.79850   99.038830\n",
            "2567139 -60.125   4.875  63.210981  2021     12  125.50701   93.635956\n",
            "2567140 -60.625   5.125  61.006296  2021     12  169.49919   92.256210\n",
            "2567141 -60.375   5.125  57.378575  2021     12  188.04920   99.967990\n",
            "2567142 -60.125   5.125  58.236603  2021     12  198.82608  100.000000\n",
            "\n",
            "[2567143 rows x 7 columns]\n",
            "month\n",
            "2     214871\n",
            "3     214871\n",
            "4     214871\n",
            "5     214871\n",
            "6     214871\n",
            "7     214871\n",
            "8     214871\n",
            "9     214871\n",
            "10    214871\n",
            "11    214871\n",
            "12    214871\n",
            "1     203562\n",
            "Name: count, dtype: int64\n",
            "None\n"
          ]
        }
      ],
      "source": [
        "# load VHI and weather data table\n",
        "df = pd.read_csv('/content/drive/MyDrive/rs_data/VHI_merged_weather_data.csv')\n",
        "print(df)\n",
        "# do count of months of df\n",
        "print(print(df['month'].value_counts()))"
      ]
    },
    {
      "cell_type": "code",
      "execution_count": null,
      "metadata": {
        "colab": {
          "base_uri": "https://localhost:8080/"
        },
        "id": "-BeD0dcZDCpc",
        "outputId": "c5267e7d-7ffe-4113-ef1c-283143581189"
      },
      "outputs": [
        {
          "output_type": "stream",
          "name": "stdout",
          "text": [
            "            lon     lat        time      spei  year  month\n",
            "0       -53.375 -33.625  2003-01-16  1.414085  2003      1\n",
            "1       -53.375 -33.375  2003-01-16  1.414085  2003      1\n",
            "2       -53.125 -33.375  2003-01-16  1.414085  2003      1\n",
            "3       -53.125 -33.125  2003-01-16  1.414085  2003      1\n",
            "4       -52.875 -33.125  2003-01-16  1.388349  2003      1\n",
            "...         ...     ...         ...       ...   ...    ...\n",
            "2725915 -60.375   4.875  2022-12-16  2.315812  2022     12\n",
            "2725916 -60.125   4.875  2022-12-16  2.249721  2022     12\n",
            "2725917 -60.625   5.125  2022-12-16  2.315812  2022     12\n",
            "2725918 -60.375   5.125  2022-12-16  2.315812  2022     12\n",
            "2725919 -60.125   5.125  2022-12-16  2.249721  2022     12\n",
            "\n",
            "[2725920 rows x 6 columns]\n",
            "month\n",
            "1     227160\n",
            "2     227160\n",
            "3     227160\n",
            "4     227160\n",
            "5     227160\n",
            "6     227160\n",
            "7     227160\n",
            "8     227160\n",
            "9     227160\n",
            "10    227160\n",
            "11    227160\n",
            "12    227160\n",
            "Name: count, dtype: int64\n",
            "None\n",
            "month\n",
            "1     227160\n",
            "2     227160\n",
            "3     227160\n",
            "4     227160\n",
            "5     227160\n",
            "6     227160\n",
            "7     227160\n",
            "8     227160\n",
            "9     227160\n",
            "10    227160\n",
            "11    227160\n",
            "12    227160\n",
            "Name: count, dtype: int64\n",
            "None\n",
            "month\n",
            "1     227160\n",
            "2     227160\n",
            "3     227160\n",
            "4     227160\n",
            "5     227160\n",
            "6     227160\n",
            "7     227160\n",
            "8     227160\n",
            "9     227160\n",
            "10    227160\n",
            "11    227160\n",
            "12    227160\n",
            "Name: count, dtype: int64\n",
            "None\n"
          ]
        }
      ],
      "source": [
        "# load SPEI 1 and 3 data\n",
        "spei_1df = pd.read_csv('/content/drive/MyDrive/rs_data/SPEI/brazil_spei_025.csv')\n",
        "spei_2df = pd.read_csv('/content/drive/MyDrive/rs_data/SPEI/brazil_2m_spei_025.csv')\n",
        "spei_3df = pd.read_csv('/content/drive/MyDrive/rs_data/SPEI/brazil_3m_spei_025.csv')\n",
        "print(spei_3df)\n",
        "print(print(spei_1df['month'].value_counts()))\n",
        "print(print(spei_2df['month'].value_counts()))\n",
        "print(print(spei_3df['month'].value_counts()))"
      ]
    },
    {
      "cell_type": "code",
      "execution_count": null,
      "metadata": {
        "colab": {
          "base_uri": "https://localhost:8080/"
        },
        "id": "To3Fssg7DE5v",
        "outputId": "8fa2ee6f-0d60-427c-845e-265cb6767d08"
      },
      "outputs": [
        {
          "output_type": "stream",
          "name": "stdout",
          "text": [
            "month\n",
            "1     227160\n",
            "2     227160\n",
            "3     227160\n",
            "4     227160\n",
            "5     227160\n",
            "6     227160\n",
            "7     227160\n",
            "8     227160\n",
            "9     227160\n",
            "10    227160\n",
            "11    227160\n",
            "12    227160\n",
            "Name: count, dtype: int64\n"
          ]
        }
      ],
      "source": [
        "spei_1df.drop(columns='time',inplace=True)\n",
        "spei_3df.drop(columns='time',inplace=True)\n",
        "spei_2df.drop(columns='time',inplace=True)\n",
        "spei_1df.rename(columns={'spei':'spei1m'},inplace=True)\n",
        "spei_2df.rename(columns={'spei':'spei2m'},inplace=True)\n",
        "spei_3df.rename(columns={'spei':'spei3m'},inplace=True)\n",
        "\n",
        "spei_dfs = [spei_1df,spei_2df,spei_3df]\n",
        "spei_df = functools.reduce(lambda left, right: pd.merge(left, right, on=['lat','lon','year','month']), spei_dfs)\n",
        "print(spei_df['month'].value_counts())\n",
        "#spei_df = spei_1df.merge(spei_3df,on=['lat','lon','year','month'])"
      ]
    },
    {
      "cell_type": "code",
      "execution_count": null,
      "metadata": {
        "colab": {
          "base_uri": "https://localhost:8080/"
        },
        "id": "k76GTZVaKGzS",
        "outputId": "a3c55557-75b0-40b1-b648-bfe403536673"
      },
      "outputs": [
        {
          "output_type": "stream",
          "name": "stdout",
          "text": [
            "month\n",
            "2     214871\n",
            "3     214871\n",
            "4     214871\n",
            "5     214871\n",
            "6     214871\n",
            "7     214871\n",
            "8     214871\n",
            "9     214871\n",
            "10    214871\n",
            "11    214871\n",
            "12    214871\n",
            "1     203562\n",
            "Name: count, dtype: int64\n"
          ]
        }
      ],
      "source": [
        "df = df.merge(spei_df,on=['lon','lat','year','month'])\n",
        "print(df['month'].value_counts())"
      ]
    },
    {
      "cell_type": "code",
      "execution_count": null,
      "metadata": {
        "colab": {
          "base_uri": "https://localhost:8080/"
        },
        "id": "Kro8LEBKc8m_",
        "outputId": "32cf1ff6-2051-4954-a645-c8f16ec6e0ce"
      },
      "outputs": [
        {
          "output_type": "stream",
          "name": "stdout",
          "text": [
            "         Unnamed: 0     lon     lat        VHI  year  month     precip  \\\n",
            "0                 0 -53.375 -33.625  51.021667  2003      2  259.88287   \n",
            "1                 1 -53.375 -33.375  56.413615  2003      2  263.87030   \n",
            "2                 2 -53.125 -33.375  51.933297  2003      2  264.47006   \n",
            "3                 3 -53.125 -33.125  56.654990  2003      2  272.27457   \n",
            "4                 4 -52.875 -33.125  49.726269  2003      2  257.30900   \n",
            "...             ...     ...     ...        ...   ...    ...        ...   \n",
            "2567138     2567138 -60.375   4.875  62.075416  2021     12  150.79850   \n",
            "2567139     2567139 -60.125   4.875  63.210981  2021     12  125.50701   \n",
            "2567140     2567140 -60.625   5.125  61.006296  2021     12  169.49919   \n",
            "2567141     2567141 -60.375   5.125  57.378575  2021     12  188.04920   \n",
            "2567142     2567142 -60.125   5.125  58.236603  2021     12  198.82608   \n",
            "\n",
            "         rtzsm_inst    msdwlwrf  \n",
            "0         98.905430  387.757822  \n",
            "1         98.808440  387.757822  \n",
            "2         97.968110  387.757822  \n",
            "3         98.378110  387.995536  \n",
            "4         97.940735  387.912400  \n",
            "...             ...         ...  \n",
            "2567138   99.038830  399.390096  \n",
            "2567139   93.635956  401.050180  \n",
            "2567140   92.256210  398.491206  \n",
            "2567141   99.967990  399.390096  \n",
            "2567142  100.000000  399.775892  \n",
            "\n",
            "[2567143 rows x 9 columns]\n",
            "month\n",
            "2     214871\n",
            "3     214871\n",
            "4     214871\n",
            "5     214871\n",
            "6     214871\n",
            "7     214871\n",
            "8     214871\n",
            "9     214871\n",
            "10    214871\n",
            "11    214871\n",
            "12    214871\n",
            "1     203562\n",
            "Name: count, dtype: int64\n",
            "month\n",
            "2     214871\n",
            "3     214871\n",
            "4     214871\n",
            "5     214871\n",
            "6     214871\n",
            "7     214871\n",
            "8     214871\n",
            "9     214871\n",
            "10    214871\n",
            "11    214871\n",
            "12    214871\n",
            "1     203562\n",
            "Name: count, dtype: int64\n",
            "month\n",
            "2     214871\n",
            "3     214871\n",
            "4     214871\n",
            "5     214871\n",
            "6     214871\n",
            "7     214871\n",
            "8     214871\n",
            "9     214871\n",
            "10    214871\n",
            "11    214871\n",
            "12    214871\n",
            "1     203562\n",
            "Name: count, dtype: int64\n"
          ]
        }
      ],
      "source": [
        "# Need to add SPI and era5 data to df\n",
        "e5_longrad = pd.read_csv('/content/drive/MyDrive/rs_data/era5/regridded_era5_longrad.csv')\n",
        "e5_t2m = pd.read_csv('/content/drive/MyDrive/rs_data/era5/regridded_era5_2m_temperature.csv')\n",
        "e5_pev = pd.read_csv('/content/drive/MyDrive/rs_data/era5/regridded_era5_pot_evap.csv')\n",
        "print(e5_longrad)\n",
        "print(e5_longrad['month'].value_counts())\n",
        "print(e5_t2m['month'].value_counts())\n",
        "print(e5_pev['month'].value_counts())"
      ]
    },
    {
      "cell_type": "code",
      "execution_count": null,
      "metadata": {
        "colab": {
          "base_uri": "https://localhost:8080/"
        },
        "id": "brGugC24Az2G",
        "outputId": "ffba714b-0e84-4d8f-d021-071ebba0ea77"
      },
      "outputs": [
        {
          "output_type": "stream",
          "name": "stdout",
          "text": [
            "         Unnamed: 0     lon     lat        VHI  year  month     precip  \\\n",
            "0                 0 -53.375 -33.625  51.021667  2003      2  259.88287   \n",
            "1                 1 -53.375 -33.375  56.413615  2003      2  263.87030   \n",
            "2                 2 -53.125 -33.375  51.933297  2003      2  264.47006   \n",
            "3                 3 -53.125 -33.125  56.654990  2003      2  272.27457   \n",
            "4                 4 -52.875 -33.125  49.726269  2003      2  257.30900   \n",
            "...             ...     ...     ...        ...   ...    ...        ...   \n",
            "2567138     2567138 -60.375   4.875  62.075416  2021     12  150.79850   \n",
            "2567139     2567139 -60.125   4.875  63.210981  2021     12  125.50701   \n",
            "2567140     2567140 -60.625   5.125  61.006296  2021     12  169.49919   \n",
            "2567141     2567141 -60.375   5.125  57.378575  2021     12  188.04920   \n",
            "2567142     2567142 -60.125   5.125  58.236603  2021     12  198.82608   \n",
            "\n",
            "         rtzsm_inst    msdwlwrf       pev  \n",
            "0         98.905430  387.757822 -0.003271  \n",
            "1         98.808440  387.757822 -0.003271  \n",
            "2         97.968110  387.757822 -0.003271  \n",
            "3         98.378110  387.995536 -0.004050  \n",
            "4         97.940735  387.912400 -0.003621  \n",
            "...             ...         ...       ...  \n",
            "2567138   99.038830  399.390096 -0.003124  \n",
            "2567139   93.635956  401.050180 -0.003261  \n",
            "2567140   92.256210  398.491206 -0.003067  \n",
            "2567141   99.967990  399.390096 -0.003124  \n",
            "2567142  100.000000  399.775892 -0.002969  \n",
            "\n",
            "[2567143 rows x 10 columns]\n"
          ]
        }
      ],
      "source": [
        "print(e5_pev)"
      ]
    },
    {
      "cell_type": "code",
      "execution_count": null,
      "metadata": {
        "id": "HEWxnDPP8wrZ"
      },
      "outputs": [],
      "source": [
        "e5_longrad.drop(columns=['VHI','Unnamed: 0','precip','rtzsm_inst'],inplace=True)\n",
        "e5_t2m.drop(columns=['VHI','Unnamed: 0','precip','rtzsm_inst','msdwlwrf','pev'],inplace=True)\n",
        "e5_pev.drop(columns=['VHI','Unnamed: 0','precip','rtzsm_inst','msdwlwrf'],inplace=True)"
      ]
    },
    {
      "cell_type": "code",
      "execution_count": null,
      "metadata": {
        "colab": {
          "base_uri": "https://localhost:8080/"
        },
        "id": "vdtMmcjXBl2d",
        "outputId": "826b915c-5f6f-4d72-fae1-f7733e7b21e5"
      },
      "outputs": [
        {
          "output_type": "stream",
          "name": "stdout",
          "text": [
            "            lon     lat  year  month    msdwlwrf\n",
            "0       -53.375 -33.625  2003      2  387.757822\n",
            "1       -53.375 -33.375  2003      2  387.757822\n",
            "2       -53.125 -33.375  2003      2  387.757822\n",
            "3       -53.125 -33.125  2003      2  387.995536\n",
            "4       -52.875 -33.125  2003      2  387.912400\n",
            "...         ...     ...   ...    ...         ...\n",
            "2567138 -60.375   4.875  2021     12  399.390096\n",
            "2567139 -60.125   4.875  2021     12  401.050180\n",
            "2567140 -60.625   5.125  2021     12  398.491206\n",
            "2567141 -60.375   5.125  2021     12  399.390096\n",
            "2567142 -60.125   5.125  2021     12  399.775892\n",
            "\n",
            "[2567143 rows x 5 columns]\n"
          ]
        }
      ],
      "source": [
        "print(e5_longrad)"
      ]
    },
    {
      "cell_type": "code",
      "execution_count": null,
      "metadata": {
        "colab": {
          "base_uri": "https://localhost:8080/"
        },
        "id": "BxHgb1ZcBl8L",
        "outputId": "c6276fbb-1fb8-46fd-ca47-4182deac02a6"
      },
      "outputs": [
        {
          "output_type": "stream",
          "name": "stdout",
          "text": [
            "            lon     lat        VHI  year  month     precip  rtzsm_inst  \\\n",
            "0       -53.375 -33.625  51.021667  2003      2  259.88287   98.905430   \n",
            "1       -53.375 -33.375  56.413615  2003      2  263.87030   98.808440   \n",
            "2       -53.125 -33.375  51.933297  2003      2  264.47006   97.968110   \n",
            "3       -53.125 -33.125  56.654990  2003      2  272.27457   98.378110   \n",
            "4       -52.875 -33.125  49.726269  2003      2  257.30900   97.940735   \n",
            "...         ...     ...        ...   ...    ...        ...         ...   \n",
            "2567138 -60.375   4.875  62.075416  2021     12  150.79850   99.038830   \n",
            "2567139 -60.125   4.875  63.210981  2021     12  125.50701   93.635956   \n",
            "2567140 -60.625   5.125  61.006296  2021     12  169.49919   92.256210   \n",
            "2567141 -60.375   5.125  57.378575  2021     12  188.04920   99.967990   \n",
            "2567142 -60.125   5.125  58.236603  2021     12  198.82608  100.000000   \n",
            "\n",
            "           spei1m    spei2m    spei3m  \n",
            "0        2.211833  1.234659  2.207213  \n",
            "1        2.211833  1.234659  2.207213  \n",
            "2        2.211833  1.234659  2.207213  \n",
            "3        2.211833  1.234659  2.207213  \n",
            "4        2.215591  1.231711  2.205329  \n",
            "...           ...       ...       ...  \n",
            "2567138  1.002222  0.543776  1.049649  \n",
            "2567139  1.027573  0.664582  1.143475  \n",
            "2567140  1.002222  0.543776  1.049649  \n",
            "2567141  1.002222  0.543776  1.049649  \n",
            "2567142  1.027573  0.664582  1.143475  \n",
            "\n",
            "[2567143 rows x 10 columns]\n"
          ]
        }
      ],
      "source": [
        "print(df)"
      ]
    },
    {
      "cell_type": "code",
      "execution_count": null,
      "metadata": {
        "id": "13_5lVy191H6"
      },
      "outputs": [],
      "source": [
        "# merge to create era5 df\n",
        "era5_dfs = [e5_longrad,e5_t2m,e5_pev]\n",
        "e5_df_final = functools.reduce(lambda left, right: pd.merge(left, right, on=['lat','lon','year','month']), era5_dfs)"
      ]
    },
    {
      "cell_type": "code",
      "execution_count": null,
      "metadata": {
        "colab": {
          "base_uri": "https://localhost:8080/"
        },
        "id": "5klWMUKmAP_P",
        "outputId": "29df0c9d-e11b-4402-8e0a-e23c7217d82a"
      },
      "outputs": [
        {
          "output_type": "stream",
          "name": "stdout",
          "text": [
            "month\n",
            "2     214871\n",
            "3     214871\n",
            "4     214871\n",
            "5     214871\n",
            "6     214871\n",
            "7     214871\n",
            "8     214871\n",
            "9     214871\n",
            "10    214871\n",
            "11    214871\n",
            "12    214871\n",
            "1     203562\n",
            "Name: count, dtype: int64\n"
          ]
        }
      ],
      "source": [
        "df = df.merge(e5_df_final,on=['lon','lat','year','month'])\n",
        "print(df['month'].value_counts())"
      ]
    },
    {
      "cell_type": "code",
      "execution_count": null,
      "metadata": {
        "colab": {
          "base_uri": "https://localhost:8080/"
        },
        "id": "gfsHa39JAcW2",
        "outputId": "7aada041-8159-43e7-84c4-f70fd7c9be1d"
      },
      "outputs": [
        {
          "output_type": "stream",
          "name": "stdout",
          "text": [
            "            lon     lat        VHI  year  month     precip  rtzsm_inst  \\\n",
            "0       -53.375 -33.625  51.021667  2003      2  259.88287   98.905430   \n",
            "1       -53.375 -33.375  56.413615  2003      2  263.87030   98.808440   \n",
            "2       -53.125 -33.375  51.933297  2003      2  264.47006   97.968110   \n",
            "3       -53.125 -33.125  56.654990  2003      2  272.27457   98.378110   \n",
            "4       -52.875 -33.125  49.726269  2003      2  257.30900   97.940735   \n",
            "...         ...     ...        ...   ...    ...        ...         ...   \n",
            "2567138 -60.375   4.875  62.075416  2021     12  150.79850   99.038830   \n",
            "2567139 -60.125   4.875  63.210981  2021     12  125.50701   93.635956   \n",
            "2567140 -60.625   5.125  61.006296  2021     12  169.49919   92.256210   \n",
            "2567141 -60.375   5.125  57.378575  2021     12  188.04920   99.967990   \n",
            "2567142 -60.125   5.125  58.236603  2021     12  198.82608  100.000000   \n",
            "\n",
            "           spei1m    spei2m    spei3m    msdwlwrf         t2m       pev  \n",
            "0        2.211833  1.234659  2.207213  387.757822  296.856648 -0.003271  \n",
            "1        2.211833  1.234659  2.207213  387.757822  296.856648 -0.003271  \n",
            "2        2.211833  1.234659  2.207213  387.757822  296.856648 -0.003271  \n",
            "3        2.211833  1.234659  2.207213  387.995536  296.975488 -0.004050  \n",
            "4        2.215591  1.231711  2.205329  387.912400  297.040054 -0.003621  \n",
            "...           ...       ...       ...         ...         ...       ...  \n",
            "2567138  1.002222  0.543776  1.049649  399.390096  295.221798 -0.003124  \n",
            "2567139  1.027573  0.664582  1.143475  401.050180  295.644938 -0.003261  \n",
            "2567140  1.002222  0.543776  1.049649  398.491206  295.079604 -0.003067  \n",
            "2567141  1.002222  0.543776  1.049649  399.390096  295.221798 -0.003124  \n",
            "2567142  1.027573  0.664582  1.143475  399.775892  294.864610 -0.002969  \n",
            "\n",
            "[2567143 rows x 13 columns]\n"
          ]
        }
      ],
      "source": [
        "print(df)"
      ]
    },
    {
      "cell_type": "code",
      "execution_count": null,
      "metadata": {
        "colab": {
          "base_uri": "https://localhost:8080/"
        },
        "id": "RhqG2bc9CgWc",
        "outputId": "f24e77ec-d27a-45ca-a3b6-18e650ce332d"
      },
      "outputs": [
        {
          "output_type": "stream",
          "name": "stdout",
          "text": [
            "month\n",
            "2     214871\n",
            "3     214871\n",
            "4     214871\n",
            "5     214871\n",
            "6     214871\n",
            "7     214871\n",
            "8     214871\n",
            "9     214871\n",
            "10    214871\n",
            "11    214871\n",
            "12    214871\n",
            "1     203562\n",
            "Name: count, dtype: int64\n",
            "month\n",
            "2     214871\n",
            "3     214871\n",
            "4     214871\n",
            "5     214871\n",
            "6     214871\n",
            "7     214871\n",
            "8     214871\n",
            "9     214871\n",
            "10    214871\n",
            "11    214871\n",
            "12    214871\n",
            "1     203562\n",
            "Name: count, dtype: int64\n",
            "month\n",
            "2     214871\n",
            "3     214871\n",
            "4     214871\n",
            "5     214871\n",
            "6     214871\n",
            "7     214871\n",
            "8     214871\n",
            "9     214871\n",
            "10    214871\n",
            "11    214871\n",
            "12    214871\n",
            "1     203562\n",
            "Name: count, dtype: int64\n"
          ]
        }
      ],
      "source": [
        "# add spi1-3 to the dataframe\n",
        "spi01 = pd.read_csv('/content/drive/MyDrive/rs_data/spi_gpcc/spi01_regridded_025.csv')\n",
        "spi02 = pd.read_csv('/content/drive/MyDrive/rs_data/spi_gpcc/spi02_regridded_025.csv')\n",
        "spi03 = pd.read_csv('/content/drive/MyDrive/rs_data/spi_gpcc/spi03_regridded_025.csv')\n",
        "\n",
        "###\n",
        "print(spi01['month'].value_counts())\n",
        "print(spi02['month'].value_counts())\n",
        "print(spi03['month'].value_counts())"
      ]
    },
    {
      "cell_type": "code",
      "execution_count": null,
      "metadata": {
        "colab": {
          "base_uri": "https://localhost:8080/"
        },
        "id": "9_8GSa0ADT8a",
        "outputId": "183978bd-2b08-402b-ad09-80775a8744cf"
      },
      "outputs": [
        {
          "output_type": "stream",
          "name": "stdout",
          "text": [
            "            lon     lat        VHI  year  month     precip  rtzsm_inst  \\\n",
            "0       -53.375 -33.625  51.021667  2003      2  259.88287   98.905430   \n",
            "1       -53.375 -33.375  56.413615  2003      2  263.87030   98.808440   \n",
            "2       -53.125 -33.375  51.933297  2003      2  264.47006   97.968110   \n",
            "3       -53.125 -33.125  56.654990  2003      2  272.27457   98.378110   \n",
            "4       -52.875 -33.125  49.726269  2003      2  257.30900   97.940735   \n",
            "...         ...     ...        ...   ...    ...        ...         ...   \n",
            "2567138 -60.375   4.875  62.075416  2021     12  150.79850   99.038830   \n",
            "2567139 -60.125   4.875  63.210981  2021     12  125.50701   93.635956   \n",
            "2567140 -60.625   5.125  61.006296  2021     12  169.49919   92.256210   \n",
            "2567141 -60.375   5.125  57.378575  2021     12  188.04920   99.967990   \n",
            "2567142 -60.125   5.125  58.236603  2021     12  198.82608  100.000000   \n",
            "\n",
            "           spi_01    spi_02    spi_03  \n",
            "0        1.718010  1.131672  1.956504  \n",
            "1        1.718010  1.131672  1.956504  \n",
            "2        1.718010  1.131672  1.956504  \n",
            "3        1.718010  1.131672  1.956504  \n",
            "4        1.667068  1.103870  1.941953  \n",
            "...           ...       ...       ...  \n",
            "2567138  0.446436  0.038471  0.656163  \n",
            "2567139  0.446436  0.038471  0.656163  \n",
            "2567140  0.446436  0.038471  0.656163  \n",
            "2567141  0.446436  0.038471  0.656163  \n",
            "2567142  0.446436  0.038471  0.656163  \n",
            "\n",
            "[2567143 rows x 10 columns]\n"
          ]
        }
      ],
      "source": [
        "print(spi03)"
      ]
    },
    {
      "cell_type": "code",
      "execution_count": null,
      "metadata": {
        "id": "Is0Vq0ffDejk"
      },
      "outputs": [],
      "source": [
        "# spi03 contains everything so use that\n",
        "spi03.drop(columns=['VHI','precip','rtzsm_inst'],inplace=True)"
      ]
    },
    {
      "cell_type": "code",
      "execution_count": null,
      "metadata": {
        "id": "oFurzuMLD-iC"
      },
      "outputs": [],
      "source": [
        "df = df.merge(spi03,on=['lon','lat','year','month'])"
      ]
    },
    {
      "cell_type": "code",
      "execution_count": null,
      "metadata": {
        "colab": {
          "base_uri": "https://localhost:8080/"
        },
        "id": "85pJG_eSED3w",
        "outputId": "28d1bb9f-5413-49dd-e4fb-30225444376b"
      },
      "outputs": [
        {
          "output_type": "stream",
          "name": "stdout",
          "text": [
            "            lon     lat        VHI  year  month     precip  rtzsm_inst  \\\n",
            "0       -53.375 -33.625  51.021667  2003      2  259.88287   98.905430   \n",
            "1       -53.375 -33.375  56.413615  2003      2  263.87030   98.808440   \n",
            "2       -53.125 -33.375  51.933297  2003      2  264.47006   97.968110   \n",
            "3       -53.125 -33.125  56.654990  2003      2  272.27457   98.378110   \n",
            "4       -52.875 -33.125  49.726269  2003      2  257.30900   97.940735   \n",
            "...         ...     ...        ...   ...    ...        ...         ...   \n",
            "2567138 -60.375   4.875  62.075416  2021     12  150.79850   99.038830   \n",
            "2567139 -60.125   4.875  63.210981  2021     12  125.50701   93.635956   \n",
            "2567140 -60.625   5.125  61.006296  2021     12  169.49919   92.256210   \n",
            "2567141 -60.375   5.125  57.378575  2021     12  188.04920   99.967990   \n",
            "2567142 -60.125   5.125  58.236603  2021     12  198.82608  100.000000   \n",
            "\n",
            "           spei1m    spei2m    spei3m    msdwlwrf         t2m       pev  \\\n",
            "0        2.211833  1.234659  2.207213  387.757822  296.856648 -0.003271   \n",
            "1        2.211833  1.234659  2.207213  387.757822  296.856648 -0.003271   \n",
            "2        2.211833  1.234659  2.207213  387.757822  296.856648 -0.003271   \n",
            "3        2.211833  1.234659  2.207213  387.995536  296.975488 -0.004050   \n",
            "4        2.215591  1.231711  2.205329  387.912400  297.040054 -0.003621   \n",
            "...           ...       ...       ...         ...         ...       ...   \n",
            "2567138  1.002222  0.543776  1.049649  399.390096  295.221798 -0.003124   \n",
            "2567139  1.027573  0.664582  1.143475  401.050180  295.644938 -0.003261   \n",
            "2567140  1.002222  0.543776  1.049649  398.491206  295.079604 -0.003067   \n",
            "2567141  1.002222  0.543776  1.049649  399.390096  295.221798 -0.003124   \n",
            "2567142  1.027573  0.664582  1.143475  399.775892  294.864610 -0.002969   \n",
            "\n",
            "           spi_01    spi_02    spi_03  \n",
            "0        1.718010  1.131672  1.956504  \n",
            "1        1.718010  1.131672  1.956504  \n",
            "2        1.718010  1.131672  1.956504  \n",
            "3        1.718010  1.131672  1.956504  \n",
            "4        1.667068  1.103870  1.941953  \n",
            "...           ...       ...       ...  \n",
            "2567138  0.446436  0.038471  0.656163  \n",
            "2567139  0.446436  0.038471  0.656163  \n",
            "2567140  0.446436  0.038471  0.656163  \n",
            "2567141  0.446436  0.038471  0.656163  \n",
            "2567142  0.446436  0.038471  0.656163  \n",
            "\n",
            "[2567143 rows x 16 columns]\n"
          ]
        }
      ],
      "source": [
        "print(df)"
      ]
    },
    {
      "cell_type": "code",
      "source": [],
      "metadata": {
        "id": "XFWT_DknhLdj"
      },
      "execution_count": null,
      "outputs": []
    },
    {
      "cell_type": "code",
      "source": [
        "# save df as pickle\n",
        "with open(r'/content/drive/MyDrive/all_data_no_filter.pkl','wb') as out_file:\n",
        "  pickle.dump(df, out_file)"
      ],
      "metadata": {
        "id": "Ojxrr2S8eII6"
      },
      "execution_count": null,
      "outputs": []
    },
    {
      "cell_type": "code",
      "execution_count": null,
      "metadata": {
        "id": "MvdGkA5OLIbe"
      },
      "outputs": [],
      "source": [
        "def groupby_gc(df):\n",
        "  df_list=[]\n",
        "  for index,df in df.groupby(['lat','lon']):\n",
        "    df_list.append(df)\n",
        "  return df_list"
      ]
    },
    {
      "cell_type": "code",
      "execution_count": null,
      "metadata": {
        "id": "MHFs34L7L6Oe"
      },
      "outputs": [],
      "source": [
        "# create a function to match variable with previous month\n",
        "### This will be a Figure for the paper\n",
        "def match_months(df,var_name='VHI',months_prev=1):\n",
        "  # match each month with previus month(s) to find correlation between them\n",
        "  # first need to split into list of dfs based on grid cell location\n",
        "  # also need to create an if statement to only do if -1 is above February 2003\n",
        "  # append nan for this case\n",
        "  # and need to create an if statement for Jan 2004-2021 which gets December the previous year instead\n",
        "  # dont need to do this as already accounted for in df ordering\n",
        "  df_list = groupby_gc(df)\n",
        "  #print(df_list[0])\n",
        "  dfi_list=[]\n",
        "  for i in range(len(df_list)):\n",
        "    dfi = df_list[i]\n",
        "    dfi.reset_index(inplace=True)\n",
        "    dims = dfi.shape\n",
        "    #print(dfi.shape)\n",
        "    pm_var_list=[]\n",
        "    #print(dfi)\n",
        "    for j in np.arange(dims[0]):\n",
        "      if var_name == 'VHI':\n",
        "        if j >= months_prev:\n",
        "          pm_var_list.append(dfi.iloc[j-months_prev,3])\n",
        "        else:\n",
        "           pm_var_list.append(np.nan)\n",
        "      elif var_name == 'precip':\n",
        "        if j >= months_prev:\n",
        "          pm_var_list.append(dfi.iloc[j-months_prev,6])\n",
        "        else:\n",
        "           pm_var_list.append(np.nan)\n",
        "      elif var_name == 'rtzsm_inst':\n",
        "        if j >= months_prev:\n",
        "          pm_var_list.append(dfi.iloc[j-months_prev,7])\n",
        "        else:\n",
        "           pm_var_list.append(np.nan)\n",
        "      elif var_name == 'spei1m':\n",
        "        if j >= months_prev:\n",
        "          pm_var_list.append(dfi.iloc[j-months_prev,8])\n",
        "        else:\n",
        "           pm_var_list.append(np.nan)\n",
        "      elif var_name == 'spei2m':\n",
        "        if j >= months_prev:\n",
        "          pm_var_list.append(dfi.iloc[j-months_prev,9])\n",
        "        else:\n",
        "           pm_var_list.append(np.nan)\n",
        "      elif var_name == 'spei3m':\n",
        "        if j >= months_prev:\n",
        "          pm_var_list.append(dfi.iloc[j-months_prev,10])\n",
        "        else:\n",
        "           pm_var_list.append(np.nan)\n",
        "      elif var_name == 'msdwlwrf':\n",
        "        if j >= months_prev:\n",
        "          pm_var_list.append(dfi.iloc[j-months_prev,11])\n",
        "        else:\n",
        "          pm_var_list.append(np.nan)\n",
        "      elif var_name == 't2m':\n",
        "        if j >= months_prev:\n",
        "          pm_var_list.append(dfi.iloc[j-months_prev,12])\n",
        "        else:\n",
        "          pm_var_list.append(np.nan)\n",
        "      elif var_name == 'pev':\n",
        "        if j >= months_prev:\n",
        "          pm_var_list.append(dfi.iloc[j-months_prev,13])\n",
        "        else:\n",
        "          pm_var_list.append(np.nan)\n",
        "      elif var_name == 'spi_01':\n",
        "        if j >= months_prev:\n",
        "          pm_var_list.append(dfi.iloc[j-months_prev,14])\n",
        "        else:\n",
        "          pm_var_list.append(np.nan)\n",
        "      elif var_name == 'spi_02':\n",
        "        if j >= months_prev:\n",
        "          pm_var_list.append(dfi.iloc[j-months_prev,15])\n",
        "        else:\n",
        "          pm_var_list.append(np.nan)\n",
        "      elif var_name == 'spi_03':\n",
        "        if j >= months_prev:\n",
        "          pm_var_list.append(dfi.iloc[j-months_prev,16])\n",
        "        else:\n",
        "           pm_var_list.append(np.nan)\n",
        "    #print(pm_var_list)\n",
        "    print(len(pm_var_list))\n",
        "    dfi[var_name+str(-months_prev)] = pm_var_list\n",
        "    #print(dfi)\n",
        "    dfi_list.append(dfi)\n",
        "  return pd.concat(dfi_list)"
      ]
    },
    {
      "cell_type": "code",
      "execution_count": null,
      "metadata": {
        "id": "O0S6Qb_6MSU1"
      },
      "outputs": [],
      "source": [
        "def load_p_file(fname):\n",
        "  with open(fname,'rb') as input_file:\n",
        "    e = pickle.load(input_file)\n",
        "  return e"
      ]
    },
    {
      "cell_type": "code",
      "execution_count": null,
      "metadata": {
        "id": "utXGqu3ZMdrp"
      },
      "outputs": [],
      "source": [
        "# load harvest area filtered by state\n",
        "mai_ar_state = pd.read_pickle('/content/drive/MyDrive/area_data/crop_grids/mai_harvest_area_by_state.pickle')\n",
        "soy_ar_state = pd.read_pickle('/content/drive/MyDrive/area_data/crop_grids/soy_harvest_area_by_state.pickle')"
      ]
    },
    {
      "cell_type": "code",
      "execution_count": null,
      "metadata": {
        "id": "OnX_jXeaMjLm"
      },
      "outputs": [],
      "source": [
        "# Need to rename x and y to lat and lon\n",
        "soy_ar_state = soy_ar_state.rename(columns={'x':'lon','y':'lat'})\n",
        "mai_ar_state = mai_ar_state.rename(columns={'x':'lon','y':'lat'})"
      ]
    },
    {
      "cell_type": "code",
      "execution_count": null,
      "metadata": {
        "id": "lbSsQ67fM7uZ"
      },
      "outputs": [],
      "source": [
        "soy_ar_state = soy_ar_state[soy_ar_state['harvarea']>0]\n",
        "soy_threshold = np.percentile(soy_ar_state['harvarea'],75)\n",
        "soy_area_high_ha = soy_ar_state[soy_ar_state['harvarea'] >= soy_threshold]\n",
        "###\n",
        "mai_ar_state = mai_ar_state[mai_ar_state['harvarea']>0]\n",
        "mai_threshold = np.percentile(mai_ar_state['harvarea'],75)\n",
        "mai_area_high_ha = mai_ar_state[mai_ar_state['harvarea'] >= mai_threshold]\n",
        "###\n",
        "high_ha_soy_coords = soy_area_high_ha.drop(columns=['geometry','croparea','qual','set','index_right','UF'])\n",
        "high_ha_mai_coords = mai_area_high_ha.drop(columns=['geometry','croparea','qual','set','index_right','UF'])"
      ]
    },
    {
      "cell_type": "code",
      "execution_count": null,
      "metadata": {
        "id": "af2vLZeBcf0A",
        "colab": {
          "base_uri": "https://localhost:8080/"
        },
        "outputId": "604215e2-2ac3-4f74-94ff-59b291674283"
      },
      "outputs": [
        {
          "output_type": "stream",
          "name": "stdout",
          "text": [
            "           lon     lat      harvarea\n",
            "342410 -61.125 -12.625  19406.910156\n",
            "342412 -61.125 -13.125  20244.515625\n",
            "343132 -60.875 -13.125  16806.115234\n",
            "343853 -60.625 -13.375  16047.814453\n",
            "345290 -60.125 -12.625  19370.056641\n",
            "...        ...     ...           ...\n",
            "389914 -44.625  -8.625  20241.035156\n",
            "390629 -44.375  -7.375  16148.021484\n",
            "390631 -44.375  -7.875  22235.076172\n",
            "390633 -44.375  -8.375  18538.201172\n",
            "391350 -44.125  -7.625  22479.226562\n",
            "\n",
            "[924 rows x 3 columns]\n"
          ]
        }
      ],
      "source": [
        "print(high_ha_soy_coords)"
      ]
    },
    {
      "cell_type": "code",
      "execution_count": null,
      "metadata": {
        "id": "bezoRSsJcuDR"
      },
      "outputs": [],
      "source": [
        "def match_harvest_areas(df, coords_df):\n",
        "  # need to put data into per year list before matching\n",
        "  # harvarea dataframe\n",
        "  df_list = groupby_gc(df)\n",
        "  # use df.merge to apply coordinates to each df\n",
        "  merged_df_list=[]\n",
        "  for i in range(len(df_list)):\n",
        "    merged_df_list.append(df_list[i].merge(coords_df,on=['lat','lon']))\n",
        "  merged_df = pd.concat(merged_df_list)\n",
        "  return merged_df"
      ]
    },
    {
      "cell_type": "code",
      "execution_count": null,
      "metadata": {
        "id": "utxvI1hTgNlD"
      },
      "outputs": [],
      "source": [
        "df_soy = match_harvest_areas(df,high_ha_soy_coords)\n",
        "df_mai = match_harvest_areas(df,high_ha_mai_coords)"
      ]
    },
    {
      "cell_type": "code",
      "execution_count": null,
      "metadata": {
        "id": "R56E8YbsSzCF",
        "colab": {
          "base_uri": "https://localhost:8080/"
        },
        "outputId": "b81bdc8d-ff5c-445b-e785-f2d434f9de5a"
      },
      "outputs": [
        {
          "output_type": "stream",
          "name": "stdout",
          "text": [
            "        lon     lat        VHI  year  month     precip  rtzsm_inst    spei1m  \\\n",
            "0   -53.375 -32.125  70.414172  2003      2  259.20056   98.021910  2.192168   \n",
            "1   -53.375 -32.125  79.323750  2003      3  146.58607   98.162980  1.228278   \n",
            "2   -53.375 -32.125  77.111895  2003      4  184.82845   97.594270  1.472914   \n",
            "3   -53.375 -32.125  64.150561  2003      5  108.86273   97.605330  1.680747   \n",
            "4   -53.375 -32.125  54.270359  2003      6  145.90760  100.000000  1.641170   \n",
            "..      ...     ...        ...   ...    ...        ...         ...       ...   \n",
            "222 -47.625  -0.875  52.101102  2021      8  125.48111   88.888840  2.664571   \n",
            "223 -47.625  -0.875  46.753572  2021      9   24.13338   77.834076  2.523025   \n",
            "224 -47.625  -0.875  48.627606  2021     10   71.58264   69.860950  1.286047   \n",
            "225 -47.625  -0.875  47.450658  2021     11  130.48245   83.223434  1.721121   \n",
            "226 -47.625  -0.875  63.699560  2021     12  128.99753   70.221590  0.336298   \n",
            "\n",
            "       spei2m    spei3m    msdwlwrf         t2m       pev    spi_01    spi_02  \\\n",
            "0    1.313241  2.266991  387.621424  296.530026 -0.004538  1.718010  1.131672   \n",
            "1    2.453098  1.678403  376.919222  294.303754 -0.003293  1.015022  1.645683   \n",
            "2    1.588110  2.096257  345.837482  290.164102 -0.002408  0.956124  1.150522   \n",
            "3    1.751371  1.845372  334.681940  288.467444 -0.001716  0.412008  0.789140   \n",
            "4    1.900034  1.926722  338.842544  286.129896 -0.001001  0.966855  0.774759   \n",
            "..        ...       ...         ...         ...       ...       ...       ...   \n",
            "222  2.250521  1.929124  410.370278  300.173380 -0.004909  1.573595  1.592416   \n",
            "223  3.002636  2.507460  410.550830  300.253404 -0.005699  2.537942  2.341496   \n",
            "224  2.275886  2.791671  415.099818  300.919370 -0.005919  1.575954  2.610072   \n",
            "225  1.885239  2.521014  417.379510  300.832808 -0.005324  1.595141  2.002994   \n",
            "226  0.978503  1.159506  422.826084  300.733560 -0.004900  0.199106  0.923182   \n",
            "\n",
            "       spi_03     harvarea  \n",
            "0    1.956504  6771.750488  \n",
            "1    1.368535  6771.750488  \n",
            "2    1.621207  6771.750488  \n",
            "3    1.030642  6771.750488  \n",
            "4    0.982040  6771.750488  \n",
            "..        ...          ...  \n",
            "222  1.312561  4537.008789  \n",
            "223  2.211642  4537.008789  \n",
            "224  2.547964  4537.008789  \n",
            "225  2.608675  4537.008789  \n",
            "226  1.182742  4537.008789  \n",
            "\n",
            "[420404 rows x 17 columns]\n"
          ]
        }
      ],
      "source": [
        "print(df_mai)"
      ]
    },
    {
      "cell_type": "code",
      "source": [
        "# create column for next months value of VHI\n",
        "def group_df(df):\n",
        "  # append grouped dfs into list\n",
        "  df_list = []\n",
        "  # group by lat and lon\n",
        "  df_grouped = df.groupby(['lat','lon'])\n",
        "  # append each group to list\n",
        "  for group in df_grouped:\n",
        "    df_list.append(group)\n",
        "  return df_list"
      ],
      "metadata": {
        "id": "P-VzoCrzQgmT"
      },
      "execution_count": null,
      "outputs": []
    },
    {
      "cell_type": "code",
      "source": [
        "def create_next_month_col(df_list):\n",
        "  # create new column in each df in df_list which corresponds to rtzsm_inst value for the next month\n",
        "  for df in df_list:\n",
        "    df[1]['VHI_next'] = df[1]['VHI'].shift(-1)\n",
        "  return df_list"
      ],
      "metadata": {
        "id": "Ay4m15diT7Jj"
      },
      "execution_count": null,
      "outputs": []
    },
    {
      "cell_type": "code",
      "source": [
        "def create_next_month_var(df):\n",
        "  df_list = group_df(df)\n",
        "  df_list = create_next_month_col(df_list)\n",
        "  df_merged = pd.concat([df[1] for df in df_list])\n",
        "  #df_merged = df_merged.drop(columns=['index'])\n",
        "  df_merged = df_merged.reset_index(drop=True)\n",
        "  df_merged = df_merged.dropna()\n",
        "  return df_merged"
      ],
      "metadata": {
        "id": "5QxWJ92hT8f5"
      },
      "execution_count": null,
      "outputs": []
    },
    {
      "cell_type": "code",
      "source": [
        "df_soym = create_next_month_var(df_soy)\n",
        "df_maim = create_next_month_var(df_mai)"
      ],
      "metadata": {
        "id": "0SHDAJejT_6H"
      },
      "execution_count": null,
      "outputs": []
    },
    {
      "cell_type": "code",
      "source": [
        "print(df_maim)"
      ],
      "metadata": {
        "colab": {
          "base_uri": "https://localhost:8080/"
        },
        "id": "mP9i5stIVfbJ",
        "outputId": "6174e2bb-ad26-4bb3-b8e4-9de45bc88a68"
      },
      "execution_count": null,
      "outputs": [
        {
          "output_type": "stream",
          "name": "stdout",
          "text": [
            "           lon     lat        VHI  year  month     precip  rtzsm_inst  \\\n",
            "0      -53.375 -32.125  70.414172  2003      2  259.20056   98.021910   \n",
            "1      -53.375 -32.125  79.323750  2003      3  146.58607   98.162980   \n",
            "2      -53.375 -32.125  77.111895  2003      4  184.82845   97.594270   \n",
            "3      -53.375 -32.125  64.150561  2003      5  108.86273   97.605330   \n",
            "4      -53.375 -32.125  54.270359  2003      6  145.90760  100.000000   \n",
            "...        ...     ...        ...   ...    ...        ...         ...   \n",
            "420398 -47.625  -0.875  49.922513  2021      7  294.35620   80.138200   \n",
            "420399 -47.625  -0.875  52.101102  2021      8  125.48111   88.888840   \n",
            "420400 -47.625  -0.875  46.753572  2021      9   24.13338   77.834076   \n",
            "420401 -47.625  -0.875  48.627606  2021     10   71.58264   69.860950   \n",
            "420402 -47.625  -0.875  47.450658  2021     11  130.48245   83.223434   \n",
            "\n",
            "          spei1m    spei2m    spei3m    msdwlwrf         t2m       pev  \\\n",
            "0       2.192168  1.313241  2.266991  387.621424  296.530026 -0.004538   \n",
            "1       1.228278  2.453098  1.678403  376.919222  294.303754 -0.003293   \n",
            "2       1.472914  1.588110  2.096257  345.837482  290.164102 -0.002408   \n",
            "3       1.680747  1.751371  1.845372  334.681940  288.467444 -0.001716   \n",
            "4       1.641170  1.900034  1.926722  338.842544  286.129896 -0.001001   \n",
            "...          ...       ...       ...         ...         ...       ...   \n",
            "420398  1.130223  0.881931  0.859094  412.320024  299.706968 -0.004356   \n",
            "420399  2.664571  2.250521  1.929124  410.370278  300.173380 -0.004909   \n",
            "420400  2.523025  3.002636  2.507460  410.550830  300.253404 -0.005699   \n",
            "420401  1.286047  2.275886  2.791671  415.099818  300.919370 -0.005919   \n",
            "420402  1.721121  1.885239  2.521014  417.379510  300.832808 -0.005324   \n",
            "\n",
            "          spi_01    spi_02    spi_03     harvarea   VHI_next  \n",
            "0       1.718010  1.131672  1.956504  6771.750488  79.323750  \n",
            "1       1.015022  1.645683  1.368535  6771.750488  77.111895  \n",
            "2       0.956124  1.150522  1.621207  6771.750488  64.150561  \n",
            "3       0.412008  0.789140  1.030642  6771.750488  54.270359  \n",
            "4       0.966855  0.774759  0.982040  6771.750488  59.200781  \n",
            "...          ...       ...       ...          ...        ...  \n",
            "420398  1.146655  0.969593  0.674176  4537.008789  52.101102  \n",
            "420399  1.573595  1.592416  1.312561  4537.008789  46.753572  \n",
            "420400  2.537942  2.341496  2.211642  4537.008789  48.627606  \n",
            "420401  1.575954  2.610072  2.547964  4537.008789  47.450658  \n",
            "420402  1.595141  2.002994  2.608675  4537.008789  63.699560  \n",
            "\n",
            "[418552 rows x 18 columns]\n"
          ]
        }
      ]
    },
    {
      "cell_type": "code",
      "source": [
        "# drop harvest area\n",
        "df_maim.drop(columns=['harvarea'],inplace=True)\n",
        "df_soym.drop(columns=['harvarea'],inplace=True)"
      ],
      "metadata": {
        "id": "E53FqWoUVkWv"
      },
      "execution_count": null,
      "outputs": []
    },
    {
      "cell_type": "code",
      "source": [
        "# define random forest model\n",
        "RFR1 = RandomForestRegressor(n_estimators=100)\n",
        "RFR2 = RandomForestRegressor(n_estimators=100)"
      ],
      "metadata": {
        "id": "TynEdywuVmgS"
      },
      "execution_count": null,
      "outputs": []
    },
    {
      "cell_type": "code",
      "source": [
        "# split data into train and test based on a random set of years\n",
        "test_years = np.random.choice(df_maim['year'].unique(),size=int(df_maim['year'].nunique()*0.2),replace=False)\n",
        "print(test_years)\n",
        "# train years are years not in test set\n",
        "train_years = np.setdiff1d(df_maim['year'].unique(),test_years)\n",
        "print(train_years)\n",
        "# use train and test years to filter df_maim and df_soym\n",
        "df_maim_train = df_maim[df_maim['year'].isin(train_years)]\n",
        "df_maim_test = df_maim[df_maim['year'].isin(test_years)]\n",
        "\n",
        "df_soym_train = df_soym[df_soym['year'].isin(train_years)]\n",
        "df_soym_test = df_soym[df_soym['year'].isin(test_years)]"
      ],
      "metadata": {
        "colab": {
          "base_uri": "https://localhost:8080/"
        },
        "id": "uAuA_FloVpxV",
        "outputId": "3cb19c7f-563b-4d22-9386-f56536730c1f"
      },
      "execution_count": null,
      "outputs": [
        {
          "output_type": "stream",
          "name": "stdout",
          "text": [
            "[2003 2019 2006]\n",
            "[2004 2005 2007 2008 2009 2010 2011 2012 2013 2014 2015 2016 2017 2018\n",
            " 2020 2021]\n"
          ]
        }
      ]
    },
    {
      "cell_type": "code",
      "source": [
        "# split train and test into x and y\n",
        "x_train_mai = df_maim_train.drop(columns=['VHI_next'])\n",
        "y_train_mai = df_maim_train['VHI_next']\n",
        "x_test_mai = df_maim_test.drop(columns=['VHI_next'])\n",
        "y_test_mai = df_maim_test['VHI_next']\n",
        "# do for maize and soy separately\n",
        "x_train_soy = df_soym_train.drop(columns=['VHI_next'])\n",
        "y_train_soy = df_soym_train['VHI_next']\n",
        "x_test_soy = df_soym_test.drop(columns=['VHI_next'])\n",
        "y_test_soy = df_soym_test['VHI_next']"
      ],
      "metadata": {
        "id": "2tWLlMPUV_WC"
      },
      "execution_count": null,
      "outputs": []
    },
    {
      "cell_type": "code",
      "source": [
        "# fit random forest model on x_train and y_train for maize data\n",
        "RFR1.fit(x_train_mai,y_train_mai)\n",
        "RFR2.fit(x_train_soy,y_train_soy)"
      ],
      "metadata": {
        "colab": {
          "base_uri": "https://localhost:8080/",
          "height": 80
        },
        "id": "qr2Kg1uAWNxD",
        "outputId": "fee413a1-f2fb-4756-c7ec-f1dc987d4f47"
      },
      "execution_count": null,
      "outputs": [
        {
          "output_type": "execute_result",
          "data": {
            "text/plain": [
              "RandomForestRegressor()"
            ],
            "text/html": [
              "<style>#sk-container-id-1 {\n",
              "  /* Definition of color scheme common for light and dark mode */\n",
              "  --sklearn-color-text: black;\n",
              "  --sklearn-color-line: gray;\n",
              "  /* Definition of color scheme for unfitted estimators */\n",
              "  --sklearn-color-unfitted-level-0: #fff5e6;\n",
              "  --sklearn-color-unfitted-level-1: #f6e4d2;\n",
              "  --sklearn-color-unfitted-level-2: #ffe0b3;\n",
              "  --sklearn-color-unfitted-level-3: chocolate;\n",
              "  /* Definition of color scheme for fitted estimators */\n",
              "  --sklearn-color-fitted-level-0: #f0f8ff;\n",
              "  --sklearn-color-fitted-level-1: #d4ebff;\n",
              "  --sklearn-color-fitted-level-2: #b3dbfd;\n",
              "  --sklearn-color-fitted-level-3: cornflowerblue;\n",
              "\n",
              "  /* Specific color for light theme */\n",
              "  --sklearn-color-text-on-default-background: var(--sg-text-color, var(--theme-code-foreground, var(--jp-content-font-color1, black)));\n",
              "  --sklearn-color-background: var(--sg-background-color, var(--theme-background, var(--jp-layout-color0, white)));\n",
              "  --sklearn-color-border-box: var(--sg-text-color, var(--theme-code-foreground, var(--jp-content-font-color1, black)));\n",
              "  --sklearn-color-icon: #696969;\n",
              "\n",
              "  @media (prefers-color-scheme: dark) {\n",
              "    /* Redefinition of color scheme for dark theme */\n",
              "    --sklearn-color-text-on-default-background: var(--sg-text-color, var(--theme-code-foreground, var(--jp-content-font-color1, white)));\n",
              "    --sklearn-color-background: var(--sg-background-color, var(--theme-background, var(--jp-layout-color0, #111)));\n",
              "    --sklearn-color-border-box: var(--sg-text-color, var(--theme-code-foreground, var(--jp-content-font-color1, white)));\n",
              "    --sklearn-color-icon: #878787;\n",
              "  }\n",
              "}\n",
              "\n",
              "#sk-container-id-1 {\n",
              "  color: var(--sklearn-color-text);\n",
              "}\n",
              "\n",
              "#sk-container-id-1 pre {\n",
              "  padding: 0;\n",
              "}\n",
              "\n",
              "#sk-container-id-1 input.sk-hidden--visually {\n",
              "  border: 0;\n",
              "  clip: rect(1px 1px 1px 1px);\n",
              "  clip: rect(1px, 1px, 1px, 1px);\n",
              "  height: 1px;\n",
              "  margin: -1px;\n",
              "  overflow: hidden;\n",
              "  padding: 0;\n",
              "  position: absolute;\n",
              "  width: 1px;\n",
              "}\n",
              "\n",
              "#sk-container-id-1 div.sk-dashed-wrapped {\n",
              "  border: 1px dashed var(--sklearn-color-line);\n",
              "  margin: 0 0.4em 0.5em 0.4em;\n",
              "  box-sizing: border-box;\n",
              "  padding-bottom: 0.4em;\n",
              "  background-color: var(--sklearn-color-background);\n",
              "}\n",
              "\n",
              "#sk-container-id-1 div.sk-container {\n",
              "  /* jupyter's `normalize.less` sets `[hidden] { display: none; }`\n",
              "     but bootstrap.min.css set `[hidden] { display: none !important; }`\n",
              "     so we also need the `!important` here to be able to override the\n",
              "     default hidden behavior on the sphinx rendered scikit-learn.org.\n",
              "     See: https://github.com/scikit-learn/scikit-learn/issues/21755 */\n",
              "  display: inline-block !important;\n",
              "  position: relative;\n",
              "}\n",
              "\n",
              "#sk-container-id-1 div.sk-text-repr-fallback {\n",
              "  display: none;\n",
              "}\n",
              "\n",
              "div.sk-parallel-item,\n",
              "div.sk-serial,\n",
              "div.sk-item {\n",
              "  /* draw centered vertical line to link estimators */\n",
              "  background-image: linear-gradient(var(--sklearn-color-text-on-default-background), var(--sklearn-color-text-on-default-background));\n",
              "  background-size: 2px 100%;\n",
              "  background-repeat: no-repeat;\n",
              "  background-position: center center;\n",
              "}\n",
              "\n",
              "/* Parallel-specific style estimator block */\n",
              "\n",
              "#sk-container-id-1 div.sk-parallel-item::after {\n",
              "  content: \"\";\n",
              "  width: 100%;\n",
              "  border-bottom: 2px solid var(--sklearn-color-text-on-default-background);\n",
              "  flex-grow: 1;\n",
              "}\n",
              "\n",
              "#sk-container-id-1 div.sk-parallel {\n",
              "  display: flex;\n",
              "  align-items: stretch;\n",
              "  justify-content: center;\n",
              "  background-color: var(--sklearn-color-background);\n",
              "  position: relative;\n",
              "}\n",
              "\n",
              "#sk-container-id-1 div.sk-parallel-item {\n",
              "  display: flex;\n",
              "  flex-direction: column;\n",
              "}\n",
              "\n",
              "#sk-container-id-1 div.sk-parallel-item:first-child::after {\n",
              "  align-self: flex-end;\n",
              "  width: 50%;\n",
              "}\n",
              "\n",
              "#sk-container-id-1 div.sk-parallel-item:last-child::after {\n",
              "  align-self: flex-start;\n",
              "  width: 50%;\n",
              "}\n",
              "\n",
              "#sk-container-id-1 div.sk-parallel-item:only-child::after {\n",
              "  width: 0;\n",
              "}\n",
              "\n",
              "/* Serial-specific style estimator block */\n",
              "\n",
              "#sk-container-id-1 div.sk-serial {\n",
              "  display: flex;\n",
              "  flex-direction: column;\n",
              "  align-items: center;\n",
              "  background-color: var(--sklearn-color-background);\n",
              "  padding-right: 1em;\n",
              "  padding-left: 1em;\n",
              "}\n",
              "\n",
              "\n",
              "/* Toggleable style: style used for estimator/Pipeline/ColumnTransformer box that is\n",
              "clickable and can be expanded/collapsed.\n",
              "- Pipeline and ColumnTransformer use this feature and define the default style\n",
              "- Estimators will overwrite some part of the style using the `sk-estimator` class\n",
              "*/\n",
              "\n",
              "/* Pipeline and ColumnTransformer style (default) */\n",
              "\n",
              "#sk-container-id-1 div.sk-toggleable {\n",
              "  /* Default theme specific background. It is overwritten whether we have a\n",
              "  specific estimator or a Pipeline/ColumnTransformer */\n",
              "  background-color: var(--sklearn-color-background);\n",
              "}\n",
              "\n",
              "/* Toggleable label */\n",
              "#sk-container-id-1 label.sk-toggleable__label {\n",
              "  cursor: pointer;\n",
              "  display: block;\n",
              "  width: 100%;\n",
              "  margin-bottom: 0;\n",
              "  padding: 0.5em;\n",
              "  box-sizing: border-box;\n",
              "  text-align: center;\n",
              "}\n",
              "\n",
              "#sk-container-id-1 label.sk-toggleable__label-arrow:before {\n",
              "  /* Arrow on the left of the label */\n",
              "  content: \"▸\";\n",
              "  float: left;\n",
              "  margin-right: 0.25em;\n",
              "  color: var(--sklearn-color-icon);\n",
              "}\n",
              "\n",
              "#sk-container-id-1 label.sk-toggleable__label-arrow:hover:before {\n",
              "  color: var(--sklearn-color-text);\n",
              "}\n",
              "\n",
              "/* Toggleable content - dropdown */\n",
              "\n",
              "#sk-container-id-1 div.sk-toggleable__content {\n",
              "  max-height: 0;\n",
              "  max-width: 0;\n",
              "  overflow: hidden;\n",
              "  text-align: left;\n",
              "  /* unfitted */\n",
              "  background-color: var(--sklearn-color-unfitted-level-0);\n",
              "}\n",
              "\n",
              "#sk-container-id-1 div.sk-toggleable__content.fitted {\n",
              "  /* fitted */\n",
              "  background-color: var(--sklearn-color-fitted-level-0);\n",
              "}\n",
              "\n",
              "#sk-container-id-1 div.sk-toggleable__content pre {\n",
              "  margin: 0.2em;\n",
              "  border-radius: 0.25em;\n",
              "  color: var(--sklearn-color-text);\n",
              "  /* unfitted */\n",
              "  background-color: var(--sklearn-color-unfitted-level-0);\n",
              "}\n",
              "\n",
              "#sk-container-id-1 div.sk-toggleable__content.fitted pre {\n",
              "  /* unfitted */\n",
              "  background-color: var(--sklearn-color-fitted-level-0);\n",
              "}\n",
              "\n",
              "#sk-container-id-1 input.sk-toggleable__control:checked~div.sk-toggleable__content {\n",
              "  /* Expand drop-down */\n",
              "  max-height: 200px;\n",
              "  max-width: 100%;\n",
              "  overflow: auto;\n",
              "}\n",
              "\n",
              "#sk-container-id-1 input.sk-toggleable__control:checked~label.sk-toggleable__label-arrow:before {\n",
              "  content: \"▾\";\n",
              "}\n",
              "\n",
              "/* Pipeline/ColumnTransformer-specific style */\n",
              "\n",
              "#sk-container-id-1 div.sk-label input.sk-toggleable__control:checked~label.sk-toggleable__label {\n",
              "  color: var(--sklearn-color-text);\n",
              "  background-color: var(--sklearn-color-unfitted-level-2);\n",
              "}\n",
              "\n",
              "#sk-container-id-1 div.sk-label.fitted input.sk-toggleable__control:checked~label.sk-toggleable__label {\n",
              "  background-color: var(--sklearn-color-fitted-level-2);\n",
              "}\n",
              "\n",
              "/* Estimator-specific style */\n",
              "\n",
              "/* Colorize estimator box */\n",
              "#sk-container-id-1 div.sk-estimator input.sk-toggleable__control:checked~label.sk-toggleable__label {\n",
              "  /* unfitted */\n",
              "  background-color: var(--sklearn-color-unfitted-level-2);\n",
              "}\n",
              "\n",
              "#sk-container-id-1 div.sk-estimator.fitted input.sk-toggleable__control:checked~label.sk-toggleable__label {\n",
              "  /* fitted */\n",
              "  background-color: var(--sklearn-color-fitted-level-2);\n",
              "}\n",
              "\n",
              "#sk-container-id-1 div.sk-label label.sk-toggleable__label,\n",
              "#sk-container-id-1 div.sk-label label {\n",
              "  /* The background is the default theme color */\n",
              "  color: var(--sklearn-color-text-on-default-background);\n",
              "}\n",
              "\n",
              "/* On hover, darken the color of the background */\n",
              "#sk-container-id-1 div.sk-label:hover label.sk-toggleable__label {\n",
              "  color: var(--sklearn-color-text);\n",
              "  background-color: var(--sklearn-color-unfitted-level-2);\n",
              "}\n",
              "\n",
              "/* Label box, darken color on hover, fitted */\n",
              "#sk-container-id-1 div.sk-label.fitted:hover label.sk-toggleable__label.fitted {\n",
              "  color: var(--sklearn-color-text);\n",
              "  background-color: var(--sklearn-color-fitted-level-2);\n",
              "}\n",
              "\n",
              "/* Estimator label */\n",
              "\n",
              "#sk-container-id-1 div.sk-label label {\n",
              "  font-family: monospace;\n",
              "  font-weight: bold;\n",
              "  display: inline-block;\n",
              "  line-height: 1.2em;\n",
              "}\n",
              "\n",
              "#sk-container-id-1 div.sk-label-container {\n",
              "  text-align: center;\n",
              "}\n",
              "\n",
              "/* Estimator-specific */\n",
              "#sk-container-id-1 div.sk-estimator {\n",
              "  font-family: monospace;\n",
              "  border: 1px dotted var(--sklearn-color-border-box);\n",
              "  border-radius: 0.25em;\n",
              "  box-sizing: border-box;\n",
              "  margin-bottom: 0.5em;\n",
              "  /* unfitted */\n",
              "  background-color: var(--sklearn-color-unfitted-level-0);\n",
              "}\n",
              "\n",
              "#sk-container-id-1 div.sk-estimator.fitted {\n",
              "  /* fitted */\n",
              "  background-color: var(--sklearn-color-fitted-level-0);\n",
              "}\n",
              "\n",
              "/* on hover */\n",
              "#sk-container-id-1 div.sk-estimator:hover {\n",
              "  /* unfitted */\n",
              "  background-color: var(--sklearn-color-unfitted-level-2);\n",
              "}\n",
              "\n",
              "#sk-container-id-1 div.sk-estimator.fitted:hover {\n",
              "  /* fitted */\n",
              "  background-color: var(--sklearn-color-fitted-level-2);\n",
              "}\n",
              "\n",
              "/* Specification for estimator info (e.g. \"i\" and \"?\") */\n",
              "\n",
              "/* Common style for \"i\" and \"?\" */\n",
              "\n",
              ".sk-estimator-doc-link,\n",
              "a:link.sk-estimator-doc-link,\n",
              "a:visited.sk-estimator-doc-link {\n",
              "  float: right;\n",
              "  font-size: smaller;\n",
              "  line-height: 1em;\n",
              "  font-family: monospace;\n",
              "  background-color: var(--sklearn-color-background);\n",
              "  border-radius: 1em;\n",
              "  height: 1em;\n",
              "  width: 1em;\n",
              "  text-decoration: none !important;\n",
              "  margin-left: 1ex;\n",
              "  /* unfitted */\n",
              "  border: var(--sklearn-color-unfitted-level-1) 1pt solid;\n",
              "  color: var(--sklearn-color-unfitted-level-1);\n",
              "}\n",
              "\n",
              ".sk-estimator-doc-link.fitted,\n",
              "a:link.sk-estimator-doc-link.fitted,\n",
              "a:visited.sk-estimator-doc-link.fitted {\n",
              "  /* fitted */\n",
              "  border: var(--sklearn-color-fitted-level-1) 1pt solid;\n",
              "  color: var(--sklearn-color-fitted-level-1);\n",
              "}\n",
              "\n",
              "/* On hover */\n",
              "div.sk-estimator:hover .sk-estimator-doc-link:hover,\n",
              ".sk-estimator-doc-link:hover,\n",
              "div.sk-label-container:hover .sk-estimator-doc-link:hover,\n",
              ".sk-estimator-doc-link:hover {\n",
              "  /* unfitted */\n",
              "  background-color: var(--sklearn-color-unfitted-level-3);\n",
              "  color: var(--sklearn-color-background);\n",
              "  text-decoration: none;\n",
              "}\n",
              "\n",
              "div.sk-estimator.fitted:hover .sk-estimator-doc-link.fitted:hover,\n",
              ".sk-estimator-doc-link.fitted:hover,\n",
              "div.sk-label-container:hover .sk-estimator-doc-link.fitted:hover,\n",
              ".sk-estimator-doc-link.fitted:hover {\n",
              "  /* fitted */\n",
              "  background-color: var(--sklearn-color-fitted-level-3);\n",
              "  color: var(--sklearn-color-background);\n",
              "  text-decoration: none;\n",
              "}\n",
              "\n",
              "/* Span, style for the box shown on hovering the info icon */\n",
              ".sk-estimator-doc-link span {\n",
              "  display: none;\n",
              "  z-index: 9999;\n",
              "  position: relative;\n",
              "  font-weight: normal;\n",
              "  right: .2ex;\n",
              "  padding: .5ex;\n",
              "  margin: .5ex;\n",
              "  width: min-content;\n",
              "  min-width: 20ex;\n",
              "  max-width: 50ex;\n",
              "  color: var(--sklearn-color-text);\n",
              "  box-shadow: 2pt 2pt 4pt #999;\n",
              "  /* unfitted */\n",
              "  background: var(--sklearn-color-unfitted-level-0);\n",
              "  border: .5pt solid var(--sklearn-color-unfitted-level-3);\n",
              "}\n",
              "\n",
              ".sk-estimator-doc-link.fitted span {\n",
              "  /* fitted */\n",
              "  background: var(--sklearn-color-fitted-level-0);\n",
              "  border: var(--sklearn-color-fitted-level-3);\n",
              "}\n",
              "\n",
              ".sk-estimator-doc-link:hover span {\n",
              "  display: block;\n",
              "}\n",
              "\n",
              "/* \"?\"-specific style due to the `<a>` HTML tag */\n",
              "\n",
              "#sk-container-id-1 a.estimator_doc_link {\n",
              "  float: right;\n",
              "  font-size: 1rem;\n",
              "  line-height: 1em;\n",
              "  font-family: monospace;\n",
              "  background-color: var(--sklearn-color-background);\n",
              "  border-radius: 1rem;\n",
              "  height: 1rem;\n",
              "  width: 1rem;\n",
              "  text-decoration: none;\n",
              "  /* unfitted */\n",
              "  color: var(--sklearn-color-unfitted-level-1);\n",
              "  border: var(--sklearn-color-unfitted-level-1) 1pt solid;\n",
              "}\n",
              "\n",
              "#sk-container-id-1 a.estimator_doc_link.fitted {\n",
              "  /* fitted */\n",
              "  border: var(--sklearn-color-fitted-level-1) 1pt solid;\n",
              "  color: var(--sklearn-color-fitted-level-1);\n",
              "}\n",
              "\n",
              "/* On hover */\n",
              "#sk-container-id-1 a.estimator_doc_link:hover {\n",
              "  /* unfitted */\n",
              "  background-color: var(--sklearn-color-unfitted-level-3);\n",
              "  color: var(--sklearn-color-background);\n",
              "  text-decoration: none;\n",
              "}\n",
              "\n",
              "#sk-container-id-1 a.estimator_doc_link.fitted:hover {\n",
              "  /* fitted */\n",
              "  background-color: var(--sklearn-color-fitted-level-3);\n",
              "}\n",
              "</style><div id=\"sk-container-id-1\" class=\"sk-top-container\"><div class=\"sk-text-repr-fallback\"><pre>RandomForestRegressor()</pre><b>In a Jupyter environment, please rerun this cell to show the HTML representation or trust the notebook. <br />On GitHub, the HTML representation is unable to render, please try loading this page with nbviewer.org.</b></div><div class=\"sk-container\" hidden><div class=\"sk-item\"><div class=\"sk-estimator fitted sk-toggleable\"><input class=\"sk-toggleable__control sk-hidden--visually\" id=\"sk-estimator-id-1\" type=\"checkbox\" checked><label for=\"sk-estimator-id-1\" class=\"sk-toggleable__label fitted sk-toggleable__label-arrow fitted\">&nbsp;&nbsp;RandomForestRegressor<a class=\"sk-estimator-doc-link fitted\" rel=\"noreferrer\" target=\"_blank\" href=\"https://scikit-learn.org/1.5/modules/generated/sklearn.ensemble.RandomForestRegressor.html\">?<span>Documentation for RandomForestRegressor</span></a><span class=\"sk-estimator-doc-link fitted\">i<span>Fitted</span></span></label><div class=\"sk-toggleable__content fitted\"><pre>RandomForestRegressor()</pre></div> </div></div></div></div>"
            ]
          },
          "metadata": {},
          "execution_count": 40
        }
      ]
    },
    {
      "cell_type": "code",
      "source": [
        "# predict\n",
        "y_pred_mai = RFR1.predict(x_test_mai)\n",
        "y_pred_soy = RFR2.predict(x_test_soy)"
      ],
      "metadata": {
        "id": "7F6mGbW7qo--"
      },
      "execution_count": null,
      "outputs": []
    },
    {
      "cell_type": "code",
      "source": [
        "# 2 panel scatter plot figure with mai 1st panel, soy 2nd panel\n",
        "fig = plt.figure(figsize=(10,10))\n",
        "ax1 = fig.add_subplot(2,1,1)\n",
        "ax2 = fig.add_subplot(2,1,2)\n",
        "ax1.scatter(y_test_mai,y_pred_mai)\n",
        "ax2.scatter(y_test_soy,y_pred_soy)\n",
        "ax1.set_xlabel('Actual VHI')\n",
        "ax1.set_ylabel('Predicted VHI')\n",
        "ax2.set_xlabel('Actual VHI')\n",
        "ax2.set_ylabel('Predicted VHI')\n",
        "ax1.set_title('Maize')\n",
        "ax2.set_title('Soy')\n",
        "# set 1:1 line for both panels\n",
        "ax1.plot([0,100],[0,100],color='k',linestyle='--')\n",
        "ax2.plot([0,100],[0,100],color='k',linestyle='--')\n",
        "plt.show()"
      ],
      "metadata": {
        "colab": {
          "base_uri": "https://localhost:8080/",
          "height": 872
        },
        "id": "sVo1VQmwzKSQ",
        "outputId": "cd84334e-211b-4cb8-e0fa-14b82324579f"
      },
      "execution_count": null,
      "outputs": [
        {
          "output_type": "display_data",
          "data": {
            "text/plain": [
              "<Figure size 1000x1000 with 2 Axes>"
            ],
            "image/png": "[encoded data removed]"
          },
          "metadata": {}
        }
      ]
    },
    {
      "cell_type": "code",
      "source": [
        "from sklearn.metrics import r2_score"
      ],
      "metadata": {
        "id": "lEaX29aWGCHL"
      },
      "execution_count": null,
      "outputs": []
    },
    {
      "cell_type": "code",
      "source": [
        "# get mean_absolute error between y_test and y_pred\n",
        "mae_mai = mean_absolute_error(y_test_mai,y_pred_mai)\n",
        "mae_soy = mean_absolute_error(y_test_soy,y_pred_soy)\n",
        "# Get r2_score between y_test and y_pred\n",
        "r2_mai = r2_score(y_test_mai,y_pred_mai)\n",
        "r2_soy = r2_score(y_test_soy,y_pred_soy)"
      ],
      "metadata": {
        "id": "I7IsPF60zcsq"
      },
      "execution_count": null,
      "outputs": []
    },
    {
      "cell_type": "code",
      "source": [
        "print(mae_mai)\n",
        "print(mae_soy)\n",
        "print(r2_mai)\n",
        "print(r2_soy)"
      ],
      "metadata": {
        "colab": {
          "base_uri": "https://localhost:8080/"
        },
        "id": "6hzf_JcvGLrA",
        "outputId": "4d4f26b0-c38d-42b7-cd6e-9be3fad842fb"
      },
      "execution_count": null,
      "outputs": [
        {
          "output_type": "stream",
          "name": "stdout",
          "text": [
            "5.697219991519039\n",
            "5.923918647197953\n",
            "0.5905270774532043\n",
            "0.5372411424003449\n"
          ]
        }
      ]
    },
    {
      "cell_type": "code",
      "source": [
        "# run models x number of times and collect mae and r2 scores from maize and soybean models separately\n",
        "# do for 1 df then can just apply function twice\n",
        "def run_models(df_maim,df_soym,n):\n",
        "  mae_mai_list = []\n",
        "  mae_soy_list = []\n",
        "  r2_mai_list = []\n",
        "  r2_soy_list = []\n",
        "  for i in np.arange(n):\n",
        "    test_years = np.random.choice(df_maim['year'].unique(),size=int(df_maim['year'].nunique()*0.2),replace=False)\n",
        "    print(test_years)\n",
        "    # train years are years not in test set\n",
        "    train_years = np.setdiff1d(df_maim['year'].unique(),test_years)\n",
        "    print(train_years)\n",
        "    # use train and test years to filter df_maim and df_soym\n",
        "    df_maim_train = df_maim[df_maim['year'].isin(train_years)]\n",
        "    df_maim_test = df_maim[df_maim['year'].isin(test_years)]\n",
        "    df_soym_train = df_soym[df_soym['year'].isin(train_years)]\n",
        "    df_soym_test = df_soym[df_soym['year'].isin(test_years)]\n",
        "    #fit random forest model to each dataset\n",
        "    RFR1.fit(df_maim_train.drop(columns=['VHI_next']),df_maim_train['VHI_next'])\n",
        "    RFR2.fit(df_soym_train.drop(columns=['VHI_next']),df_soym_train['VHI_next'])\n",
        "    # predict\n",
        "    y_pred_mai = RFR1.predict(df_maim_test.drop(columns=['VHI_next']))\n",
        "    y_pred_soy = RFR2.predict(df_soym_test.drop(columns=['VHI_next']))\n",
        "    #append mean absolute error performance metrics to list\n",
        "    mae_mai_list.append(mean_absolute_error(df_maim_test['VHI_next'],y_pred_mai))\n",
        "    mae_soy_list.append(mean_absolute_error(df_soym_test['VHI_next'],y_pred_soy))\n",
        "    # append r2_score performance metrics to list\n",
        "    r2_mai_list.append(r2_score(df_maim_test['VHI_next'],y_pred_mai))\n",
        "    r2_soy_list.append(r2_score(df_soym_test['VHI_next'],y_pred_soy))\n",
        "  return mae_mai_list,mae_soy_list,r2_mai_list,r2_soy_list"
      ],
      "metadata": {
        "id": "4AnSkuwnIEKp"
      },
      "execution_count": null,
      "outputs": []
    },
    {
      "cell_type": "code",
      "source": [
        "# apply fun models function\n",
        "mae_mai_list,mae_soy_list,r2_mai_list,r2_soy_list = run_models(df_maim,df_soym,10)"
      ],
      "metadata": {
        "id": "Dg_tozAPqVqt",
        "colab": {
          "base_uri": "https://localhost:8080/"
        },
        "outputId": "20176162-e6cc-4008-c63f-024757365fad"
      },
      "execution_count": null,
      "outputs": [
        {
          "output_type": "stream",
          "name": "stdout",
          "text": [
            "[2013 2018 2006]\n",
            "[2003 2004 2005 2007 2008 2009 2010 2011 2012 2014 2015 2016 2017 2019\n",
            " 2020 2021]\n",
            "[2005 2011 2004]\n",
            "[2003 2006 2007 2008 2009 2010 2012 2013 2014 2015 2016 2017 2018 2019\n",
            " 2020 2021]\n",
            "[2017 2015 2003]\n",
            "[2004 2005 2006 2007 2008 2009 2010 2011 2012 2013 2014 2016 2018 2019\n",
            " 2020 2021]\n",
            "[2020 2019 2011]\n",
            "[2003 2004 2005 2006 2007 2008 2009 2010 2012 2013 2014 2015 2016 2017\n",
            " 2018 2021]\n",
            "[2009 2021 2012]\n",
            "[2003 2004 2005 2006 2007 2008 2010 2011 2013 2014 2015 2016 2017 2018\n",
            " 2019 2020]\n",
            "[2011 2016 2021]\n",
            "[2003 2004 2005 2006 2007 2008 2009 2010 2012 2013 2014 2015 2017 2018\n",
            " 2019 2020]\n",
            "[2010 2015 2014]\n",
            "[2003 2004 2005 2006 2007 2008 2009 2011 2012 2013 2016 2017 2018 2019\n",
            " 2020 2021]\n",
            "[2011 2020 2019]\n",
            "[2003 2004 2005 2006 2007 2008 2009 2010 2012 2013 2014 2015 2016 2017\n",
            " 2018 2021]\n",
            "[2008 2010 2015]\n",
            "[2003 2004 2005 2006 2007 2009 2011 2012 2013 2014 2016 2017 2018 2019\n",
            " 2020 2021]\n",
            "[2003 2016 2008]\n",
            "[2004 2005 2006 2007 2009 2010 2011 2012 2013 2014 2015 2017 2018 2019\n",
            " 2020 2021]\n"
          ]
        }
      ]
    },
    {
      "cell_type": "code",
      "source": [
        "# create boxplots using lists of performance metrics\n",
        "fig = plt.figure(figsize=(7,7))\n",
        "ax1 = fig.add_subplot(2,1,1)\n",
        "ax2 = fig.add_subplot(2,1,2)\n",
        "ax1.boxplot([mae_mai_list,mae_soy_list],notch=True)\n",
        "ax2.boxplot([r2_mai_list,r2_soy_list],notch=True)\n",
        "ax1.set_xticklabels(['Maize','Soybean'])\n",
        "ax2.set_xticklabels(['Maize','Soybean'])\n",
        "ax1.set_ylabel('Mean Absolute Error')\n",
        "ax2.set_ylabel(r'Coefficient of determination ($R^2$)')\n",
        "ax1.set_ylim(0,8)\n",
        "ax2.set_ylim(0,1)\n",
        "# save figure\n",
        "plt.savefig('/content/drive/MyDrive/Figures/mae_r2_mai_soy.png',dpi=300)\n",
        "plt.show()"
      ],
      "metadata": {
        "id": "2g9PzvZzqahX",
        "colab": {
          "base_uri": "https://localhost:8080/",
          "height": 605
        },
        "outputId": "d14342f0-47d5-4fce-ed3a-22e282517fc5"
      },
      "execution_count": null,
      "outputs": [
        {
          "output_type": "display_data",
          "data": {
            "text/plain": [
              "<Figure size 700x700 with 2 Axes>"
            ],
            "image/png": "[encoded data removed]"
          },
          "metadata": {}
        }
      ]
    }
  ],
  "metadata": {
    "colab": {
      "machine_shape": "hm",
      "provenance": [],
      "mount_file_id": "1U6JLd0dJck8b8Ov2gzkb3Bsw2He27rry",
      "authorship_tag": "ABX9TyOGPl8fsrQjejuLeq4FXpv8",
      "include_colab_link": true
    },
    "kernelspec": {
      "display_name": "Python 3",
      "name": "python3"
    },
    "language_info": {
      "name": "python"
    }
  },
  "nbformat": 4,
  "nbformat_minor": 0
}